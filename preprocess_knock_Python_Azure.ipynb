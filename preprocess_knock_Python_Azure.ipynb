{
  "nbformat": 4,
  "nbformat_minor": 0,
  "metadata": {
    "kernelspec": {
      "name": "python3",
      "display_name": "Python 3"
    },
    "colab": {
      "name": "preprocess_knock_Python_Azure.ipynb",
      "provenance": [],
      "include_colab_link": true
    }
  },
  "cells": [
    {
      "cell_type": "markdown",
      "metadata": {
        "id": "view-in-github",
        "colab_type": "text"
      },
      "source": [
        "<a href=\"https://colab.research.google.com/github/rorenge7/solving-100knocks-preprocess/blob/master/preprocess_knock_Python_Azure.ipynb\" target=\"_parent\"><img src=\"https://colab.research.google.com/assets/colab-badge.svg\" alt=\"Open In Colab\"/></a>"
      ]
    },
    {
      "cell_type": "markdown",
      "metadata": {
        "id": "2-YYpD4Nhhxd",
        "colab_type": "text"
      },
      "source": [
        "# データサイエンス100本ノック（構造化データ加工編） - Python\n",
        "# for Google Colab"
      ]
    },
    {
      "cell_type": "markdown",
      "metadata": {
        "id": "wbvQn19ghhxe",
        "colab_type": "text"
      },
      "source": [
        "## 【注意】オリジナル版との変更点\n",
        "1. Google Colab ではDockerを使えないので、2020.06.18時点の 100knocks-preprocess/docker/work/data にあるCSVファイルをPostgreSQLから入手する代わりに使います。\n",
        "2. オリジナルのCSVデータ, geocode.csvの'latitude'列名の初めにスペースが入っていたため、それを削除しました。\n",
        "\n",
        "   オリジナル(100knocks-preprocess ver.1.0): ' latitude' --> 'latitude'\n",
        "   \n",
        "\n",
        "4. オリジナルの解答を元に、必要のないlibraryはimportせず、そして必要なlibraryをAzureNotebookでインストールするように最初のセルを改変してあります。\n",
        "5. また、SQLではなく上記CSVからデータを読み込むように'はじめに'の最初のセルを改変してあります。"
      ]
    },
    {
      "cell_type": "markdown",
      "metadata": {
        "id": "qseL89kEhhxg",
        "colab_type": "text"
      },
      "source": [
        "## はじめに\n",
        "- 初めに以下のセルを実行してください\n",
        "- 必要なライブラリのインポートと~~データベース（PostgreSQL）~~ 100knocks-preprocess/docker/work/data にあるCSVファイルからのデータ読み込みを行います。geocode.csvに変更を加えたため、またgit cloneをするとColabの簡便さを損なうため、noguhiro2002のgithubレポジトリから直接読み込みます。\n",
        "- pandas等、利用が想定されるライブラリは以下セルでインポートしています\n",
        "- その他利用したいライブラリがあれば適宜インストールしてください（\"!pip install ライブラリ名\"でインストールも可能)\n",
        "- オリジナルの解答例を元に、必要なライブラリーをpipでインストールします。\n",
        "- 処理は複数回に分けても構いません\n",
        "- 名前、住所等はダミーデータであり、実在するものではありません"
      ]
    },
    {
      "cell_type": "code",
      "metadata": {
        "trusted": true,
        "id": "k_rQuDF8hhxg",
        "colab_type": "code",
        "colab": {
          "base_uri": "https://localhost:8080/",
          "height": 238
        },
        "outputId": "72db97a8-41ac-42f2-b63c-58d83adc42c5"
      },
      "source": [
        "# pipでオリジナルの解答に必要なライブラリーをインストール\n",
        "!pip install --upgrade pip\n",
        "!pip install -U pandas numpy scikit-learn imbalanced-learn\n",
        "\n",
        "# pipでオリジナルの解答に必要なライブラリーをインポート\n",
        "import os\n",
        "import pandas as pd\n",
        "import numpy as np\n",
        "from datetime import datetime, date\n",
        "from dateutil.relativedelta import relativedelta\n",
        "import math\n",
        "from sklearn import preprocessing\n",
        "from sklearn.model_selection import train_test_split\n",
        "from imblearn.under_sampling import RandomUnderSampler\n",
        "\n",
        "\n",
        "# データを github/noguhiro2002/100knocks-preprocess/work/data フォルダよりDataframe形式でRead\n",
        "df_customer = pd.read_csv('https://raw.githubusercontent.com/noguhiro2002/100knocks-preprocess_ForColab-AzureNotebook/master/data/customer.csv')\n",
        "df_category = pd.read_csv('https://raw.githubusercontent.com/noguhiro2002/100knocks-preprocess_ForColab-AzureNotebook/master/data/category.csv')\n",
        "df_product = pd.read_csv('https://raw.githubusercontent.com/noguhiro2002/100knocks-preprocess_ForColab-AzureNotebook/master/data/product.csv')\n",
        "df_receipt = pd.read_csv('https://raw.githubusercontent.com/noguhiro2002/100knocks-preprocess_ForColab-AzureNotebook/master/data/receipt.csv')\n",
        "df_store = pd.read_csv('https://raw.githubusercontent.com/noguhiro2002/100knocks-preprocess_ForColab-AzureNotebook/master/data/store.csv')\n",
        "df_geocode = pd.read_csv('https://raw.githubusercontent.com/noguhiro2002/100knocks-preprocess_ForColab-AzureNotebook/master/data/geocode.csv')"
      ],
      "execution_count": 1,
      "outputs": [
        {
          "output_type": "stream",
          "text": [
            "Requirement already up-to-date: pip in /usr/local/lib/python3.6/dist-packages (20.1.1)\n",
            "Requirement already up-to-date: pandas in /usr/local/lib/python3.6/dist-packages (1.0.5)\n",
            "Requirement already up-to-date: numpy in /usr/local/lib/python3.6/dist-packages (1.18.5)\n",
            "Requirement already up-to-date: scikit-learn in /usr/local/lib/python3.6/dist-packages (0.23.1)\n",
            "Requirement already up-to-date: imbalanced-learn in /usr/local/lib/python3.6/dist-packages (0.7.0)\n",
            "Requirement already satisfied, skipping upgrade: python-dateutil>=2.6.1 in /usr/local/lib/python3.6/dist-packages (from pandas) (2.8.1)\n",
            "Requirement already satisfied, skipping upgrade: pytz>=2017.2 in /usr/local/lib/python3.6/dist-packages (from pandas) (2018.9)\n",
            "Requirement already satisfied, skipping upgrade: threadpoolctl>=2.0.0 in /usr/local/lib/python3.6/dist-packages (from scikit-learn) (2.1.0)\n",
            "Requirement already satisfied, skipping upgrade: scipy>=0.19.1 in /usr/local/lib/python3.6/dist-packages (from scikit-learn) (1.4.1)\n",
            "Requirement already satisfied, skipping upgrade: joblib>=0.11 in /usr/local/lib/python3.6/dist-packages (from scikit-learn) (0.15.1)\n",
            "Requirement already satisfied, skipping upgrade: six>=1.5 in /usr/local/lib/python3.6/dist-packages (from python-dateutil>=2.6.1->pandas) (1.12.0)\n"
          ],
          "name": "stdout"
        },
        {
          "output_type": "stream",
          "text": [
            "/usr/local/lib/python3.6/dist-packages/IPython/core/interactiveshell.py:2718: DtypeWarning: Columns (4) have mixed types.Specify dtype option on import or set low_memory=False.\n",
            "  interactivity=interactivity, compiler=compiler, result=result)\n"
          ],
          "name": "stderr"
        }
      ]
    },
    {
      "cell_type": "markdown",
      "metadata": {
        "id": "EMvNeX6Qhhxk",
        "colab_type": "text"
      },
      "source": [
        "# 演習問題"
      ]
    },
    {
      "cell_type": "markdown",
      "metadata": {
        "id": "r244WHrjhhxk",
        "colab_type": "text"
      },
      "source": [
        "---\n",
        "> P-001: レシート明細のデータフレーム（df_receipt）から全項目の先頭10件を表示し、どのようなデータを保有しているか目視で確認せよ。"
      ]
    },
    {
      "cell_type": "code",
      "metadata": {
        "trusted": false,
        "id": "RrcFPQjUhhxk",
        "colab_type": "code",
        "colab": {
          "base_uri": "https://localhost:8080/",
          "height": 359
        },
        "outputId": "8a5cacff-3dcd-49b8-fb1c-563d8da4c6b8"
      },
      "source": [
        "df_receipt.head(10)"
      ],
      "execution_count": 2,
      "outputs": [
        {
          "output_type": "execute_result",
          "data": {
            "text/html": [
              "<div>\n",
              "<style scoped>\n",
              "    .dataframe tbody tr th:only-of-type {\n",
              "        vertical-align: middle;\n",
              "    }\n",
              "\n",
              "    .dataframe tbody tr th {\n",
              "        vertical-align: top;\n",
              "    }\n",
              "\n",
              "    .dataframe thead th {\n",
              "        text-align: right;\n",
              "    }\n",
              "</style>\n",
              "<table border=\"1\" class=\"dataframe\">\n",
              "  <thead>\n",
              "    <tr style=\"text-align: right;\">\n",
              "      <th></th>\n",
              "      <th>sales_ymd</th>\n",
              "      <th>sales_epoch</th>\n",
              "      <th>store_cd</th>\n",
              "      <th>receipt_no</th>\n",
              "      <th>receipt_sub_no</th>\n",
              "      <th>customer_id</th>\n",
              "      <th>product_cd</th>\n",
              "      <th>quantity</th>\n",
              "      <th>amount</th>\n",
              "    </tr>\n",
              "  </thead>\n",
              "  <tbody>\n",
              "    <tr>\n",
              "      <th>0</th>\n",
              "      <td>20181103</td>\n",
              "      <td>1257206400</td>\n",
              "      <td>S14006</td>\n",
              "      <td>112</td>\n",
              "      <td>1</td>\n",
              "      <td>CS006214000001</td>\n",
              "      <td>P070305012</td>\n",
              "      <td>1</td>\n",
              "      <td>158</td>\n",
              "    </tr>\n",
              "    <tr>\n",
              "      <th>1</th>\n",
              "      <td>20181118</td>\n",
              "      <td>1258502400</td>\n",
              "      <td>S13008</td>\n",
              "      <td>1132</td>\n",
              "      <td>2</td>\n",
              "      <td>CS008415000097</td>\n",
              "      <td>P070701017</td>\n",
              "      <td>1</td>\n",
              "      <td>81</td>\n",
              "    </tr>\n",
              "    <tr>\n",
              "      <th>2</th>\n",
              "      <td>20170712</td>\n",
              "      <td>1215820800</td>\n",
              "      <td>S14028</td>\n",
              "      <td>1102</td>\n",
              "      <td>1</td>\n",
              "      <td>CS028414000014</td>\n",
              "      <td>P060101005</td>\n",
              "      <td>1</td>\n",
              "      <td>170</td>\n",
              "    </tr>\n",
              "    <tr>\n",
              "      <th>3</th>\n",
              "      <td>20190205</td>\n",
              "      <td>1265328000</td>\n",
              "      <td>S14042</td>\n",
              "      <td>1132</td>\n",
              "      <td>1</td>\n",
              "      <td>ZZ000000000000</td>\n",
              "      <td>P050301001</td>\n",
              "      <td>1</td>\n",
              "      <td>25</td>\n",
              "    </tr>\n",
              "    <tr>\n",
              "      <th>4</th>\n",
              "      <td>20180821</td>\n",
              "      <td>1250812800</td>\n",
              "      <td>S14025</td>\n",
              "      <td>1102</td>\n",
              "      <td>2</td>\n",
              "      <td>CS025415000050</td>\n",
              "      <td>P060102007</td>\n",
              "      <td>1</td>\n",
              "      <td>90</td>\n",
              "    </tr>\n",
              "    <tr>\n",
              "      <th>5</th>\n",
              "      <td>20190605</td>\n",
              "      <td>1275696000</td>\n",
              "      <td>S13003</td>\n",
              "      <td>1112</td>\n",
              "      <td>1</td>\n",
              "      <td>CS003515000195</td>\n",
              "      <td>P050102002</td>\n",
              "      <td>1</td>\n",
              "      <td>138</td>\n",
              "    </tr>\n",
              "    <tr>\n",
              "      <th>6</th>\n",
              "      <td>20181205</td>\n",
              "      <td>1259971200</td>\n",
              "      <td>S14024</td>\n",
              "      <td>1102</td>\n",
              "      <td>2</td>\n",
              "      <td>CS024514000042</td>\n",
              "      <td>P080101005</td>\n",
              "      <td>1</td>\n",
              "      <td>30</td>\n",
              "    </tr>\n",
              "    <tr>\n",
              "      <th>7</th>\n",
              "      <td>20190922</td>\n",
              "      <td>1285113600</td>\n",
              "      <td>S14040</td>\n",
              "      <td>1102</td>\n",
              "      <td>1</td>\n",
              "      <td>CS040415000178</td>\n",
              "      <td>P070501004</td>\n",
              "      <td>1</td>\n",
              "      <td>128</td>\n",
              "    </tr>\n",
              "    <tr>\n",
              "      <th>8</th>\n",
              "      <td>20170504</td>\n",
              "      <td>1209859200</td>\n",
              "      <td>S13020</td>\n",
              "      <td>1112</td>\n",
              "      <td>2</td>\n",
              "      <td>ZZ000000000000</td>\n",
              "      <td>P071302010</td>\n",
              "      <td>1</td>\n",
              "      <td>770</td>\n",
              "    </tr>\n",
              "    <tr>\n",
              "      <th>9</th>\n",
              "      <td>20191010</td>\n",
              "      <td>1286668800</td>\n",
              "      <td>S14027</td>\n",
              "      <td>1102</td>\n",
              "      <td>1</td>\n",
              "      <td>CS027514000015</td>\n",
              "      <td>P071101003</td>\n",
              "      <td>1</td>\n",
              "      <td>680</td>\n",
              "    </tr>\n",
              "  </tbody>\n",
              "</table>\n",
              "</div>"
            ],
            "text/plain": [
              "   sales_ymd  sales_epoch store_cd  ...  product_cd  quantity amount\n",
              "0   20181103   1257206400   S14006  ...  P070305012         1    158\n",
              "1   20181118   1258502400   S13008  ...  P070701017         1     81\n",
              "2   20170712   1215820800   S14028  ...  P060101005         1    170\n",
              "3   20190205   1265328000   S14042  ...  P050301001         1     25\n",
              "4   20180821   1250812800   S14025  ...  P060102007         1     90\n",
              "5   20190605   1275696000   S13003  ...  P050102002         1    138\n",
              "6   20181205   1259971200   S14024  ...  P080101005         1     30\n",
              "7   20190922   1285113600   S14040  ...  P070501004         1    128\n",
              "8   20170504   1209859200   S13020  ...  P071302010         1    770\n",
              "9   20191010   1286668800   S14027  ...  P071101003         1    680\n",
              "\n",
              "[10 rows x 9 columns]"
            ]
          },
          "metadata": {
            "tags": []
          },
          "execution_count": 2
        }
      ]
    },
    {
      "cell_type": "markdown",
      "metadata": {
        "id": "us1AbdWfhhxm",
        "colab_type": "text"
      },
      "source": [
        "---\n",
        "> P-002: レシート明細のデータフレーム（df_receipt）から売上日（sales_ymd）、顧客ID（customer_id）、商品コード（product_cd）、売上金額（amount）の順に列を指定し、10件表示させよ。"
      ]
    },
    {
      "cell_type": "code",
      "metadata": {
        "trusted": false,
        "id": "AwaINHByhhxm",
        "colab_type": "code",
        "colab": {
          "base_uri": "https://localhost:8080/",
          "height": 359
        },
        "outputId": "8d7ebb50-886f-4f36-8581-a16243ed7f78"
      },
      "source": [
        "df_receipt[['sales_ymd', 'customer_id', 'product_cd', 'amount']].head(10)"
      ],
      "execution_count": 3,
      "outputs": [
        {
          "output_type": "execute_result",
          "data": {
            "text/html": [
              "<div>\n",
              "<style scoped>\n",
              "    .dataframe tbody tr th:only-of-type {\n",
              "        vertical-align: middle;\n",
              "    }\n",
              "\n",
              "    .dataframe tbody tr th {\n",
              "        vertical-align: top;\n",
              "    }\n",
              "\n",
              "    .dataframe thead th {\n",
              "        text-align: right;\n",
              "    }\n",
              "</style>\n",
              "<table border=\"1\" class=\"dataframe\">\n",
              "  <thead>\n",
              "    <tr style=\"text-align: right;\">\n",
              "      <th></th>\n",
              "      <th>sales_ymd</th>\n",
              "      <th>customer_id</th>\n",
              "      <th>product_cd</th>\n",
              "      <th>amount</th>\n",
              "    </tr>\n",
              "  </thead>\n",
              "  <tbody>\n",
              "    <tr>\n",
              "      <th>0</th>\n",
              "      <td>20181103</td>\n",
              "      <td>CS006214000001</td>\n",
              "      <td>P070305012</td>\n",
              "      <td>158</td>\n",
              "    </tr>\n",
              "    <tr>\n",
              "      <th>1</th>\n",
              "      <td>20181118</td>\n",
              "      <td>CS008415000097</td>\n",
              "      <td>P070701017</td>\n",
              "      <td>81</td>\n",
              "    </tr>\n",
              "    <tr>\n",
              "      <th>2</th>\n",
              "      <td>20170712</td>\n",
              "      <td>CS028414000014</td>\n",
              "      <td>P060101005</td>\n",
              "      <td>170</td>\n",
              "    </tr>\n",
              "    <tr>\n",
              "      <th>3</th>\n",
              "      <td>20190205</td>\n",
              "      <td>ZZ000000000000</td>\n",
              "      <td>P050301001</td>\n",
              "      <td>25</td>\n",
              "    </tr>\n",
              "    <tr>\n",
              "      <th>4</th>\n",
              "      <td>20180821</td>\n",
              "      <td>CS025415000050</td>\n",
              "      <td>P060102007</td>\n",
              "      <td>90</td>\n",
              "    </tr>\n",
              "    <tr>\n",
              "      <th>5</th>\n",
              "      <td>20190605</td>\n",
              "      <td>CS003515000195</td>\n",
              "      <td>P050102002</td>\n",
              "      <td>138</td>\n",
              "    </tr>\n",
              "    <tr>\n",
              "      <th>6</th>\n",
              "      <td>20181205</td>\n",
              "      <td>CS024514000042</td>\n",
              "      <td>P080101005</td>\n",
              "      <td>30</td>\n",
              "    </tr>\n",
              "    <tr>\n",
              "      <th>7</th>\n",
              "      <td>20190922</td>\n",
              "      <td>CS040415000178</td>\n",
              "      <td>P070501004</td>\n",
              "      <td>128</td>\n",
              "    </tr>\n",
              "    <tr>\n",
              "      <th>8</th>\n",
              "      <td>20170504</td>\n",
              "      <td>ZZ000000000000</td>\n",
              "      <td>P071302010</td>\n",
              "      <td>770</td>\n",
              "    </tr>\n",
              "    <tr>\n",
              "      <th>9</th>\n",
              "      <td>20191010</td>\n",
              "      <td>CS027514000015</td>\n",
              "      <td>P071101003</td>\n",
              "      <td>680</td>\n",
              "    </tr>\n",
              "  </tbody>\n",
              "</table>\n",
              "</div>"
            ],
            "text/plain": [
              "   sales_ymd     customer_id  product_cd  amount\n",
              "0   20181103  CS006214000001  P070305012     158\n",
              "1   20181118  CS008415000097  P070701017      81\n",
              "2   20170712  CS028414000014  P060101005     170\n",
              "3   20190205  ZZ000000000000  P050301001      25\n",
              "4   20180821  CS025415000050  P060102007      90\n",
              "5   20190605  CS003515000195  P050102002     138\n",
              "6   20181205  CS024514000042  P080101005      30\n",
              "7   20190922  CS040415000178  P070501004     128\n",
              "8   20170504  ZZ000000000000  P071302010     770\n",
              "9   20191010  CS027514000015  P071101003     680"
            ]
          },
          "metadata": {
            "tags": []
          },
          "execution_count": 3
        }
      ]
    },
    {
      "cell_type": "markdown",
      "metadata": {
        "id": "_yPcu6bkhhxo",
        "colab_type": "text"
      },
      "source": [
        "---\n",
        "> P-003: レシート明細のデータフレーム（df_receipt）から売上日（sales_ymd）、顧客ID（customer_id）、商品コード（product_cd）、売上金額（amount）の順に列を指定し、10件表示させよ。ただし、sales_ymdはsales_dateに項目名を変更しながら抽出すること。"
      ]
    },
    {
      "cell_type": "code",
      "metadata": {
        "trusted": false,
        "id": "ZKVA9bCRhhxp",
        "colab_type": "code",
        "colab": {
          "base_uri": "https://localhost:8080/",
          "height": 359
        },
        "outputId": "cdf6a41b-1e72-46c2-af2f-938b7705e457"
      },
      "source": [
        "df_receipt[['sales_ymd', 'customer_id', 'product_cd', 'amount']].rename(columns={'sales_ymd': 'sales_date'}).head(10)"
      ],
      "execution_count": 4,
      "outputs": [
        {
          "output_type": "execute_result",
          "data": {
            "text/html": [
              "<div>\n",
              "<style scoped>\n",
              "    .dataframe tbody tr th:only-of-type {\n",
              "        vertical-align: middle;\n",
              "    }\n",
              "\n",
              "    .dataframe tbody tr th {\n",
              "        vertical-align: top;\n",
              "    }\n",
              "\n",
              "    .dataframe thead th {\n",
              "        text-align: right;\n",
              "    }\n",
              "</style>\n",
              "<table border=\"1\" class=\"dataframe\">\n",
              "  <thead>\n",
              "    <tr style=\"text-align: right;\">\n",
              "      <th></th>\n",
              "      <th>sales_date</th>\n",
              "      <th>customer_id</th>\n",
              "      <th>product_cd</th>\n",
              "      <th>amount</th>\n",
              "    </tr>\n",
              "  </thead>\n",
              "  <tbody>\n",
              "    <tr>\n",
              "      <th>0</th>\n",
              "      <td>20181103</td>\n",
              "      <td>CS006214000001</td>\n",
              "      <td>P070305012</td>\n",
              "      <td>158</td>\n",
              "    </tr>\n",
              "    <tr>\n",
              "      <th>1</th>\n",
              "      <td>20181118</td>\n",
              "      <td>CS008415000097</td>\n",
              "      <td>P070701017</td>\n",
              "      <td>81</td>\n",
              "    </tr>\n",
              "    <tr>\n",
              "      <th>2</th>\n",
              "      <td>20170712</td>\n",
              "      <td>CS028414000014</td>\n",
              "      <td>P060101005</td>\n",
              "      <td>170</td>\n",
              "    </tr>\n",
              "    <tr>\n",
              "      <th>3</th>\n",
              "      <td>20190205</td>\n",
              "      <td>ZZ000000000000</td>\n",
              "      <td>P050301001</td>\n",
              "      <td>25</td>\n",
              "    </tr>\n",
              "    <tr>\n",
              "      <th>4</th>\n",
              "      <td>20180821</td>\n",
              "      <td>CS025415000050</td>\n",
              "      <td>P060102007</td>\n",
              "      <td>90</td>\n",
              "    </tr>\n",
              "    <tr>\n",
              "      <th>5</th>\n",
              "      <td>20190605</td>\n",
              "      <td>CS003515000195</td>\n",
              "      <td>P050102002</td>\n",
              "      <td>138</td>\n",
              "    </tr>\n",
              "    <tr>\n",
              "      <th>6</th>\n",
              "      <td>20181205</td>\n",
              "      <td>CS024514000042</td>\n",
              "      <td>P080101005</td>\n",
              "      <td>30</td>\n",
              "    </tr>\n",
              "    <tr>\n",
              "      <th>7</th>\n",
              "      <td>20190922</td>\n",
              "      <td>CS040415000178</td>\n",
              "      <td>P070501004</td>\n",
              "      <td>128</td>\n",
              "    </tr>\n",
              "    <tr>\n",
              "      <th>8</th>\n",
              "      <td>20170504</td>\n",
              "      <td>ZZ000000000000</td>\n",
              "      <td>P071302010</td>\n",
              "      <td>770</td>\n",
              "    </tr>\n",
              "    <tr>\n",
              "      <th>9</th>\n",
              "      <td>20191010</td>\n",
              "      <td>CS027514000015</td>\n",
              "      <td>P071101003</td>\n",
              "      <td>680</td>\n",
              "    </tr>\n",
              "  </tbody>\n",
              "</table>\n",
              "</div>"
            ],
            "text/plain": [
              "   sales_date     customer_id  product_cd  amount\n",
              "0    20181103  CS006214000001  P070305012     158\n",
              "1    20181118  CS008415000097  P070701017      81\n",
              "2    20170712  CS028414000014  P060101005     170\n",
              "3    20190205  ZZ000000000000  P050301001      25\n",
              "4    20180821  CS025415000050  P060102007      90\n",
              "5    20190605  CS003515000195  P050102002     138\n",
              "6    20181205  CS024514000042  P080101005      30\n",
              "7    20190922  CS040415000178  P070501004     128\n",
              "8    20170504  ZZ000000000000  P071302010     770\n",
              "9    20191010  CS027514000015  P071101003     680"
            ]
          },
          "metadata": {
            "tags": []
          },
          "execution_count": 4
        }
      ]
    },
    {
      "cell_type": "markdown",
      "metadata": {
        "id": "dHcdbLoehhxq",
        "colab_type": "text"
      },
      "source": [
        "---\n",
        "> P-004: レシート明細のデータフレーム（df_receipt）から売上日（sales_ymd）、顧客ID（customer_id）、商品コード（product_cd）、売上金額（amount）の順に列を指定し、以下の条件を満たすデータを抽出せよ。\n",
        "> - 顧客ID（customer_id）が\"CS018205000001\""
      ]
    },
    {
      "cell_type": "code",
      "metadata": {
        "trusted": false,
        "id": "Fqp5Qdmkhhxr",
        "colab_type": "code",
        "colab": {
          "base_uri": "https://localhost:8080/",
          "height": 421
        },
        "outputId": "6b412c3e-b449-46c9-8589-01f670594b3e"
      },
      "source": [
        "df_receipt[df_receipt['customer_id'] == \"CS018205000001\"][['sales_ymd', 'customer_id', 'product_cd', 'amount']]"
      ],
      "execution_count": 5,
      "outputs": [
        {
          "output_type": "execute_result",
          "data": {
            "text/html": [
              "<div>\n",
              "<style scoped>\n",
              "    .dataframe tbody tr th:only-of-type {\n",
              "        vertical-align: middle;\n",
              "    }\n",
              "\n",
              "    .dataframe tbody tr th {\n",
              "        vertical-align: top;\n",
              "    }\n",
              "\n",
              "    .dataframe thead th {\n",
              "        text-align: right;\n",
              "    }\n",
              "</style>\n",
              "<table border=\"1\" class=\"dataframe\">\n",
              "  <thead>\n",
              "    <tr style=\"text-align: right;\">\n",
              "      <th></th>\n",
              "      <th>sales_ymd</th>\n",
              "      <th>customer_id</th>\n",
              "      <th>product_cd</th>\n",
              "      <th>amount</th>\n",
              "    </tr>\n",
              "  </thead>\n",
              "  <tbody>\n",
              "    <tr>\n",
              "      <th>36</th>\n",
              "      <td>20180911</td>\n",
              "      <td>CS018205000001</td>\n",
              "      <td>P071401012</td>\n",
              "      <td>2200</td>\n",
              "    </tr>\n",
              "    <tr>\n",
              "      <th>9843</th>\n",
              "      <td>20180414</td>\n",
              "      <td>CS018205000001</td>\n",
              "      <td>P060104007</td>\n",
              "      <td>600</td>\n",
              "    </tr>\n",
              "    <tr>\n",
              "      <th>21110</th>\n",
              "      <td>20170614</td>\n",
              "      <td>CS018205000001</td>\n",
              "      <td>P050206001</td>\n",
              "      <td>990</td>\n",
              "    </tr>\n",
              "    <tr>\n",
              "      <th>27673</th>\n",
              "      <td>20170614</td>\n",
              "      <td>CS018205000001</td>\n",
              "      <td>P060702015</td>\n",
              "      <td>108</td>\n",
              "    </tr>\n",
              "    <tr>\n",
              "      <th>27840</th>\n",
              "      <td>20190216</td>\n",
              "      <td>CS018205000001</td>\n",
              "      <td>P071005024</td>\n",
              "      <td>102</td>\n",
              "    </tr>\n",
              "    <tr>\n",
              "      <th>28757</th>\n",
              "      <td>20180414</td>\n",
              "      <td>CS018205000001</td>\n",
              "      <td>P071101002</td>\n",
              "      <td>278</td>\n",
              "    </tr>\n",
              "    <tr>\n",
              "      <th>39256</th>\n",
              "      <td>20190226</td>\n",
              "      <td>CS018205000001</td>\n",
              "      <td>P070902035</td>\n",
              "      <td>168</td>\n",
              "    </tr>\n",
              "    <tr>\n",
              "      <th>58121</th>\n",
              "      <td>20190924</td>\n",
              "      <td>CS018205000001</td>\n",
              "      <td>P060805001</td>\n",
              "      <td>495</td>\n",
              "    </tr>\n",
              "    <tr>\n",
              "      <th>68117</th>\n",
              "      <td>20190226</td>\n",
              "      <td>CS018205000001</td>\n",
              "      <td>P071401020</td>\n",
              "      <td>2200</td>\n",
              "    </tr>\n",
              "    <tr>\n",
              "      <th>72254</th>\n",
              "      <td>20180911</td>\n",
              "      <td>CS018205000001</td>\n",
              "      <td>P071401005</td>\n",
              "      <td>1100</td>\n",
              "    </tr>\n",
              "    <tr>\n",
              "      <th>88508</th>\n",
              "      <td>20190216</td>\n",
              "      <td>CS018205000001</td>\n",
              "      <td>P040101002</td>\n",
              "      <td>218</td>\n",
              "    </tr>\n",
              "    <tr>\n",
              "      <th>91525</th>\n",
              "      <td>20190924</td>\n",
              "      <td>CS018205000001</td>\n",
              "      <td>P091503001</td>\n",
              "      <td>280</td>\n",
              "    </tr>\n",
              "  </tbody>\n",
              "</table>\n",
              "</div>"
            ],
            "text/plain": [
              "       sales_ymd     customer_id  product_cd  amount\n",
              "36      20180911  CS018205000001  P071401012    2200\n",
              "9843    20180414  CS018205000001  P060104007     600\n",
              "21110   20170614  CS018205000001  P050206001     990\n",
              "27673   20170614  CS018205000001  P060702015     108\n",
              "27840   20190216  CS018205000001  P071005024     102\n",
              "28757   20180414  CS018205000001  P071101002     278\n",
              "39256   20190226  CS018205000001  P070902035     168\n",
              "58121   20190924  CS018205000001  P060805001     495\n",
              "68117   20190226  CS018205000001  P071401020    2200\n",
              "72254   20180911  CS018205000001  P071401005    1100\n",
              "88508   20190216  CS018205000001  P040101002     218\n",
              "91525   20190924  CS018205000001  P091503001     280"
            ]
          },
          "metadata": {
            "tags": []
          },
          "execution_count": 5
        }
      ]
    },
    {
      "cell_type": "markdown",
      "metadata": {
        "id": "nvI5Comzhhxt",
        "colab_type": "text"
      },
      "source": [
        "---\n",
        "> P-005: レシート明細のデータフレーム（df_receipt）から売上日（sales_ymd）、顧客ID（customer_id）、商品コード（product_cd）、売上金額（amount）の順に列を指定し、以下の条件を満たすデータを抽出せよ。\n",
        "> - 顧客ID（customer_id）が\"CS018205000001\"\n",
        "> - 売上金額（amount）が1,000以上"
      ]
    },
    {
      "cell_type": "code",
      "metadata": {
        "trusted": false,
        "id": "jZDWoB_Bhhxv",
        "colab_type": "code",
        "colab": {
          "base_uri": "https://localhost:8080/",
          "height": 142
        },
        "outputId": "391a64d0-a8fd-44ac-d3e6-5448817a7d16"
      },
      "source": [
        "df_receipt[['sales_ymd', 'customer_id', 'product_cd', 'amount']].query(\n",
        "    'customer_id == \"CS018205000001\" and amount >= 1000' \n",
        ")"
      ],
      "execution_count": 6,
      "outputs": [
        {
          "output_type": "execute_result",
          "data": {
            "text/html": [
              "<div>\n",
              "<style scoped>\n",
              "    .dataframe tbody tr th:only-of-type {\n",
              "        vertical-align: middle;\n",
              "    }\n",
              "\n",
              "    .dataframe tbody tr th {\n",
              "        vertical-align: top;\n",
              "    }\n",
              "\n",
              "    .dataframe thead th {\n",
              "        text-align: right;\n",
              "    }\n",
              "</style>\n",
              "<table border=\"1\" class=\"dataframe\">\n",
              "  <thead>\n",
              "    <tr style=\"text-align: right;\">\n",
              "      <th></th>\n",
              "      <th>sales_ymd</th>\n",
              "      <th>customer_id</th>\n",
              "      <th>product_cd</th>\n",
              "      <th>amount</th>\n",
              "    </tr>\n",
              "  </thead>\n",
              "  <tbody>\n",
              "    <tr>\n",
              "      <th>36</th>\n",
              "      <td>20180911</td>\n",
              "      <td>CS018205000001</td>\n",
              "      <td>P071401012</td>\n",
              "      <td>2200</td>\n",
              "    </tr>\n",
              "    <tr>\n",
              "      <th>68117</th>\n",
              "      <td>20190226</td>\n",
              "      <td>CS018205000001</td>\n",
              "      <td>P071401020</td>\n",
              "      <td>2200</td>\n",
              "    </tr>\n",
              "    <tr>\n",
              "      <th>72254</th>\n",
              "      <td>20180911</td>\n",
              "      <td>CS018205000001</td>\n",
              "      <td>P071401005</td>\n",
              "      <td>1100</td>\n",
              "    </tr>\n",
              "  </tbody>\n",
              "</table>\n",
              "</div>"
            ],
            "text/plain": [
              "       sales_ymd     customer_id  product_cd  amount\n",
              "36      20180911  CS018205000001  P071401012    2200\n",
              "68117   20190226  CS018205000001  P071401020    2200\n",
              "72254   20180911  CS018205000001  P071401005    1100"
            ]
          },
          "metadata": {
            "tags": []
          },
          "execution_count": 6
        }
      ]
    },
    {
      "cell_type": "markdown",
      "metadata": {
        "id": "-Dz6spPThhxx",
        "colab_type": "text"
      },
      "source": [
        "---\n",
        "> P-006: レシート明細データフレーム「df_receipt」から売上日（sales_ymd）、顧客ID（customer_id）、商品コード（product_cd）、売上数量（quantity）、売上金額（amount）の順に列を指定し、以下の条件を満たすデータを抽出せよ。\n",
        "> - 顧客ID（customer_id）が\"CS018205000001\"\n",
        "> - 売上金額（amount）が1,000以上または売上数量（quantity）が5以上"
      ]
    },
    {
      "cell_type": "code",
      "metadata": {
        "trusted": false,
        "id": "8IH2MwDUhhxx",
        "colab_type": "code",
        "colab": {
          "base_uri": "https://localhost:8080/",
          "height": 204
        },
        "outputId": "a7b72cd2-c5f9-4758-ff25-6aa168a87c61"
      },
      "source": [
        "df_receipt.query(\n",
        "    'customer_id == \"CS018205000001\" and (amount >= 1000 or quantity >= 5)' \n",
        ")[['sales_ymd', 'customer_id', 'product_cd', 'quantity', 'amount']]"
      ],
      "execution_count": 7,
      "outputs": [
        {
          "output_type": "execute_result",
          "data": {
            "text/html": [
              "<div>\n",
              "<style scoped>\n",
              "    .dataframe tbody tr th:only-of-type {\n",
              "        vertical-align: middle;\n",
              "    }\n",
              "\n",
              "    .dataframe tbody tr th {\n",
              "        vertical-align: top;\n",
              "    }\n",
              "\n",
              "    .dataframe thead th {\n",
              "        text-align: right;\n",
              "    }\n",
              "</style>\n",
              "<table border=\"1\" class=\"dataframe\">\n",
              "  <thead>\n",
              "    <tr style=\"text-align: right;\">\n",
              "      <th></th>\n",
              "      <th>sales_ymd</th>\n",
              "      <th>customer_id</th>\n",
              "      <th>product_cd</th>\n",
              "      <th>quantity</th>\n",
              "      <th>amount</th>\n",
              "    </tr>\n",
              "  </thead>\n",
              "  <tbody>\n",
              "    <tr>\n",
              "      <th>36</th>\n",
              "      <td>20180911</td>\n",
              "      <td>CS018205000001</td>\n",
              "      <td>P071401012</td>\n",
              "      <td>1</td>\n",
              "      <td>2200</td>\n",
              "    </tr>\n",
              "    <tr>\n",
              "      <th>9843</th>\n",
              "      <td>20180414</td>\n",
              "      <td>CS018205000001</td>\n",
              "      <td>P060104007</td>\n",
              "      <td>6</td>\n",
              "      <td>600</td>\n",
              "    </tr>\n",
              "    <tr>\n",
              "      <th>21110</th>\n",
              "      <td>20170614</td>\n",
              "      <td>CS018205000001</td>\n",
              "      <td>P050206001</td>\n",
              "      <td>5</td>\n",
              "      <td>990</td>\n",
              "    </tr>\n",
              "    <tr>\n",
              "      <th>68117</th>\n",
              "      <td>20190226</td>\n",
              "      <td>CS018205000001</td>\n",
              "      <td>P071401020</td>\n",
              "      <td>1</td>\n",
              "      <td>2200</td>\n",
              "    </tr>\n",
              "    <tr>\n",
              "      <th>72254</th>\n",
              "      <td>20180911</td>\n",
              "      <td>CS018205000001</td>\n",
              "      <td>P071401005</td>\n",
              "      <td>1</td>\n",
              "      <td>1100</td>\n",
              "    </tr>\n",
              "  </tbody>\n",
              "</table>\n",
              "</div>"
            ],
            "text/plain": [
              "       sales_ymd     customer_id  product_cd  quantity  amount\n",
              "36      20180911  CS018205000001  P071401012         1    2200\n",
              "9843    20180414  CS018205000001  P060104007         6     600\n",
              "21110   20170614  CS018205000001  P050206001         5     990\n",
              "68117   20190226  CS018205000001  P071401020         1    2200\n",
              "72254   20180911  CS018205000001  P071401005         1    1100"
            ]
          },
          "metadata": {
            "tags": []
          },
          "execution_count": 7
        }
      ]
    },
    {
      "cell_type": "markdown",
      "metadata": {
        "id": "OjU7Uofzhhxz",
        "colab_type": "text"
      },
      "source": [
        "---\n",
        "> P-007: レシート明細のデータフレーム（df_receipt）から売上日（sales_ymd）、顧客ID（customer_id）、商品コード（product_cd）、売上金額（amount）の順に列を指定し、以下の条件を満たすデータを抽出せよ。\n",
        "> - 顧客ID（customer_id）が\"CS018205000001\"\n",
        "> - 売上金額（amount）が1,000以上2,000以下"
      ]
    },
    {
      "cell_type": "code",
      "metadata": {
        "trusted": false,
        "id": "oywQDpHbhhxz",
        "colab_type": "code",
        "colab": {
          "base_uri": "https://localhost:8080/",
          "height": 80
        },
        "outputId": "2d429987-9fe5-4cb2-f517-d94e5c73ab03"
      },
      "source": [
        "df_receipt.query(\n",
        "    'customer_id == \"CS018205000001\" and (amount >= 1000 and amount <= 2000)' \n",
        ")[['sales_ymd', 'customer_id', 'product_cd', 'amount']]"
      ],
      "execution_count": 8,
      "outputs": [
        {
          "output_type": "execute_result",
          "data": {
            "text/html": [
              "<div>\n",
              "<style scoped>\n",
              "    .dataframe tbody tr th:only-of-type {\n",
              "        vertical-align: middle;\n",
              "    }\n",
              "\n",
              "    .dataframe tbody tr th {\n",
              "        vertical-align: top;\n",
              "    }\n",
              "\n",
              "    .dataframe thead th {\n",
              "        text-align: right;\n",
              "    }\n",
              "</style>\n",
              "<table border=\"1\" class=\"dataframe\">\n",
              "  <thead>\n",
              "    <tr style=\"text-align: right;\">\n",
              "      <th></th>\n",
              "      <th>sales_ymd</th>\n",
              "      <th>customer_id</th>\n",
              "      <th>product_cd</th>\n",
              "      <th>amount</th>\n",
              "    </tr>\n",
              "  </thead>\n",
              "  <tbody>\n",
              "    <tr>\n",
              "      <th>72254</th>\n",
              "      <td>20180911</td>\n",
              "      <td>CS018205000001</td>\n",
              "      <td>P071401005</td>\n",
              "      <td>1100</td>\n",
              "    </tr>\n",
              "  </tbody>\n",
              "</table>\n",
              "</div>"
            ],
            "text/plain": [
              "       sales_ymd     customer_id  product_cd  amount\n",
              "72254   20180911  CS018205000001  P071401005    1100"
            ]
          },
          "metadata": {
            "tags": []
          },
          "execution_count": 8
        }
      ]
    },
    {
      "cell_type": "markdown",
      "metadata": {
        "id": "wvvecxrThhx1",
        "colab_type": "text"
      },
      "source": [
        "---\n",
        "> P-008: レシート明細のデータフレーム（df_receipt）から売上日（sales_ymd）、顧客ID（customer_id）、商品コード（product_cd）、売上金額（amount）の順に列を指定し、以下の条件を満たすデータを抽出せよ。\n",
        "> - 顧客ID（customer_id）が\"CS018205000001\"\n",
        "> - 商品コード（product_cd）が\"P071401019\"以外"
      ]
    },
    {
      "cell_type": "code",
      "metadata": {
        "trusted": false,
        "id": "oIKb4uZEhhx1",
        "colab_type": "code",
        "colab": {
          "base_uri": "https://localhost:8080/",
          "height": 421
        },
        "outputId": "6d880b26-531c-4e82-8afa-2a2cd572435b"
      },
      "source": [
        "df_receipt.query(\n",
        "    'customer_id == \"CS018205000001\" and product_cd != \"P071401019\"' \n",
        ")[['sales_ymd', 'customer_id', 'product_cd', 'amount']]"
      ],
      "execution_count": 9,
      "outputs": [
        {
          "output_type": "execute_result",
          "data": {
            "text/html": [
              "<div>\n",
              "<style scoped>\n",
              "    .dataframe tbody tr th:only-of-type {\n",
              "        vertical-align: middle;\n",
              "    }\n",
              "\n",
              "    .dataframe tbody tr th {\n",
              "        vertical-align: top;\n",
              "    }\n",
              "\n",
              "    .dataframe thead th {\n",
              "        text-align: right;\n",
              "    }\n",
              "</style>\n",
              "<table border=\"1\" class=\"dataframe\">\n",
              "  <thead>\n",
              "    <tr style=\"text-align: right;\">\n",
              "      <th></th>\n",
              "      <th>sales_ymd</th>\n",
              "      <th>customer_id</th>\n",
              "      <th>product_cd</th>\n",
              "      <th>amount</th>\n",
              "    </tr>\n",
              "  </thead>\n",
              "  <tbody>\n",
              "    <tr>\n",
              "      <th>36</th>\n",
              "      <td>20180911</td>\n",
              "      <td>CS018205000001</td>\n",
              "      <td>P071401012</td>\n",
              "      <td>2200</td>\n",
              "    </tr>\n",
              "    <tr>\n",
              "      <th>9843</th>\n",
              "      <td>20180414</td>\n",
              "      <td>CS018205000001</td>\n",
              "      <td>P060104007</td>\n",
              "      <td>600</td>\n",
              "    </tr>\n",
              "    <tr>\n",
              "      <th>21110</th>\n",
              "      <td>20170614</td>\n",
              "      <td>CS018205000001</td>\n",
              "      <td>P050206001</td>\n",
              "      <td>990</td>\n",
              "    </tr>\n",
              "    <tr>\n",
              "      <th>27673</th>\n",
              "      <td>20170614</td>\n",
              "      <td>CS018205000001</td>\n",
              "      <td>P060702015</td>\n",
              "      <td>108</td>\n",
              "    </tr>\n",
              "    <tr>\n",
              "      <th>27840</th>\n",
              "      <td>20190216</td>\n",
              "      <td>CS018205000001</td>\n",
              "      <td>P071005024</td>\n",
              "      <td>102</td>\n",
              "    </tr>\n",
              "    <tr>\n",
              "      <th>28757</th>\n",
              "      <td>20180414</td>\n",
              "      <td>CS018205000001</td>\n",
              "      <td>P071101002</td>\n",
              "      <td>278</td>\n",
              "    </tr>\n",
              "    <tr>\n",
              "      <th>39256</th>\n",
              "      <td>20190226</td>\n",
              "      <td>CS018205000001</td>\n",
              "      <td>P070902035</td>\n",
              "      <td>168</td>\n",
              "    </tr>\n",
              "    <tr>\n",
              "      <th>58121</th>\n",
              "      <td>20190924</td>\n",
              "      <td>CS018205000001</td>\n",
              "      <td>P060805001</td>\n",
              "      <td>495</td>\n",
              "    </tr>\n",
              "    <tr>\n",
              "      <th>68117</th>\n",
              "      <td>20190226</td>\n",
              "      <td>CS018205000001</td>\n",
              "      <td>P071401020</td>\n",
              "      <td>2200</td>\n",
              "    </tr>\n",
              "    <tr>\n",
              "      <th>72254</th>\n",
              "      <td>20180911</td>\n",
              "      <td>CS018205000001</td>\n",
              "      <td>P071401005</td>\n",
              "      <td>1100</td>\n",
              "    </tr>\n",
              "    <tr>\n",
              "      <th>88508</th>\n",
              "      <td>20190216</td>\n",
              "      <td>CS018205000001</td>\n",
              "      <td>P040101002</td>\n",
              "      <td>218</td>\n",
              "    </tr>\n",
              "    <tr>\n",
              "      <th>91525</th>\n",
              "      <td>20190924</td>\n",
              "      <td>CS018205000001</td>\n",
              "      <td>P091503001</td>\n",
              "      <td>280</td>\n",
              "    </tr>\n",
              "  </tbody>\n",
              "</table>\n",
              "</div>"
            ],
            "text/plain": [
              "       sales_ymd     customer_id  product_cd  amount\n",
              "36      20180911  CS018205000001  P071401012    2200\n",
              "9843    20180414  CS018205000001  P060104007     600\n",
              "21110   20170614  CS018205000001  P050206001     990\n",
              "27673   20170614  CS018205000001  P060702015     108\n",
              "27840   20190216  CS018205000001  P071005024     102\n",
              "28757   20180414  CS018205000001  P071101002     278\n",
              "39256   20190226  CS018205000001  P070902035     168\n",
              "58121   20190924  CS018205000001  P060805001     495\n",
              "68117   20190226  CS018205000001  P071401020    2200\n",
              "72254   20180911  CS018205000001  P071401005    1100\n",
              "88508   20190216  CS018205000001  P040101002     218\n",
              "91525   20190924  CS018205000001  P091503001     280"
            ]
          },
          "metadata": {
            "tags": []
          },
          "execution_count": 9
        }
      ]
    },
    {
      "cell_type": "markdown",
      "metadata": {
        "id": "raZwJrBbhhx3",
        "colab_type": "text"
      },
      "source": [
        "---\n",
        "> P-009: 以下の処理において、出力結果を変えずにORをANDに書き換えよ。\n",
        "\n",
        "`df_store.query('not(prefecture_cd == \"13\" | floor_area > 900)')`"
      ]
    },
    {
      "cell_type": "code",
      "metadata": {
        "trusted": false,
        "id": "Ik77huJ-hhx3",
        "colab_type": "code",
        "colab": {
          "base_uri": "https://localhost:8080/",
          "height": 267
        },
        "outputId": "41972dc8-0826-4442-dced-510fe6ad5a68"
      },
      "source": [
        "# original\n",
        "display(df_store.query('not(prefecture_cd == \"13\" | floor_area > 900)'))\n",
        "# modified\n",
        "df_store.query('prefecture_cd != \"13\" & floor_area <=900')"
      ],
      "execution_count": 10,
      "outputs": [
        {
          "output_type": "display_data",
          "data": {
            "text/html": [
              "<div>\n",
              "<style scoped>\n",
              "    .dataframe tbody tr th:only-of-type {\n",
              "        vertical-align: middle;\n",
              "    }\n",
              "\n",
              "    .dataframe tbody tr th {\n",
              "        vertical-align: top;\n",
              "    }\n",
              "\n",
              "    .dataframe thead th {\n",
              "        text-align: right;\n",
              "    }\n",
              "</style>\n",
              "<table border=\"1\" class=\"dataframe\">\n",
              "  <thead>\n",
              "    <tr style=\"text-align: right;\">\n",
              "      <th></th>\n",
              "      <th>store_cd</th>\n",
              "      <th>store_name</th>\n",
              "      <th>prefecture_cd</th>\n",
              "      <th>prefecture</th>\n",
              "      <th>address</th>\n",
              "      <th>address_kana</th>\n",
              "      <th>tel_no</th>\n",
              "      <th>longitude</th>\n",
              "      <th>latitude</th>\n",
              "      <th>floor_area</th>\n",
              "    </tr>\n",
              "  </thead>\n",
              "  <tbody>\n",
              "    <tr>\n",
              "      <th>18</th>\n",
              "      <td>S14046</td>\n",
              "      <td>北山田店</td>\n",
              "      <td>14</td>\n",
              "      <td>神奈川県</td>\n",
              "      <td>神奈川県横浜市都筑区北山田一丁目</td>\n",
              "      <td>カナガワケンヨコハマシツヅキクキタヤマタイッチョウメ</td>\n",
              "      <td>045-123-4049</td>\n",
              "      <td>139.5916</td>\n",
              "      <td>35.56189</td>\n",
              "      <td>831.0</td>\n",
              "    </tr>\n",
              "    <tr>\n",
              "      <th>20</th>\n",
              "      <td>S14011</td>\n",
              "      <td>日吉本町店</td>\n",
              "      <td>14</td>\n",
              "      <td>神奈川県</td>\n",
              "      <td>神奈川県横浜市港北区日吉本町四丁目</td>\n",
              "      <td>カナガワケンヨコハマシコウホククヒヨシホンチョウヨンチョウメ</td>\n",
              "      <td>045-123-4033</td>\n",
              "      <td>139.6316</td>\n",
              "      <td>35.54655</td>\n",
              "      <td>890.0</td>\n",
              "    </tr>\n",
              "    <tr>\n",
              "      <th>38</th>\n",
              "      <td>S12013</td>\n",
              "      <td>習志野店</td>\n",
              "      <td>12</td>\n",
              "      <td>千葉県</td>\n",
              "      <td>千葉県習志野市芝園一丁目</td>\n",
              "      <td>チバケンナラシノシシバゾノイッチョウメ</td>\n",
              "      <td>047-123-4002</td>\n",
              "      <td>140.0220</td>\n",
              "      <td>35.66122</td>\n",
              "      <td>808.0</td>\n",
              "    </tr>\n",
              "  </tbody>\n",
              "</table>\n",
              "</div>"
            ],
            "text/plain": [
              "   store_cd store_name  prefecture_cd  ... longitude  latitude floor_area\n",
              "18   S14046       北山田店             14  ...  139.5916  35.56189      831.0\n",
              "20   S14011      日吉本町店             14  ...  139.6316  35.54655      890.0\n",
              "38   S12013       習志野店             12  ...  140.0220  35.66122      808.0\n",
              "\n",
              "[3 rows x 10 columns]"
            ]
          },
          "metadata": {
            "tags": []
          }
        },
        {
          "output_type": "execute_result",
          "data": {
            "text/html": [
              "<div>\n",
              "<style scoped>\n",
              "    .dataframe tbody tr th:only-of-type {\n",
              "        vertical-align: middle;\n",
              "    }\n",
              "\n",
              "    .dataframe tbody tr th {\n",
              "        vertical-align: top;\n",
              "    }\n",
              "\n",
              "    .dataframe thead th {\n",
              "        text-align: right;\n",
              "    }\n",
              "</style>\n",
              "<table border=\"1\" class=\"dataframe\">\n",
              "  <thead>\n",
              "    <tr style=\"text-align: right;\">\n",
              "      <th></th>\n",
              "      <th>store_cd</th>\n",
              "      <th>store_name</th>\n",
              "      <th>prefecture_cd</th>\n",
              "      <th>prefecture</th>\n",
              "      <th>address</th>\n",
              "      <th>address_kana</th>\n",
              "      <th>tel_no</th>\n",
              "      <th>longitude</th>\n",
              "      <th>latitude</th>\n",
              "      <th>floor_area</th>\n",
              "    </tr>\n",
              "  </thead>\n",
              "  <tbody>\n",
              "    <tr>\n",
              "      <th>18</th>\n",
              "      <td>S14046</td>\n",
              "      <td>北山田店</td>\n",
              "      <td>14</td>\n",
              "      <td>神奈川県</td>\n",
              "      <td>神奈川県横浜市都筑区北山田一丁目</td>\n",
              "      <td>カナガワケンヨコハマシツヅキクキタヤマタイッチョウメ</td>\n",
              "      <td>045-123-4049</td>\n",
              "      <td>139.5916</td>\n",
              "      <td>35.56189</td>\n",
              "      <td>831.0</td>\n",
              "    </tr>\n",
              "    <tr>\n",
              "      <th>20</th>\n",
              "      <td>S14011</td>\n",
              "      <td>日吉本町店</td>\n",
              "      <td>14</td>\n",
              "      <td>神奈川県</td>\n",
              "      <td>神奈川県横浜市港北区日吉本町四丁目</td>\n",
              "      <td>カナガワケンヨコハマシコウホククヒヨシホンチョウヨンチョウメ</td>\n",
              "      <td>045-123-4033</td>\n",
              "      <td>139.6316</td>\n",
              "      <td>35.54655</td>\n",
              "      <td>890.0</td>\n",
              "    </tr>\n",
              "    <tr>\n",
              "      <th>38</th>\n",
              "      <td>S12013</td>\n",
              "      <td>習志野店</td>\n",
              "      <td>12</td>\n",
              "      <td>千葉県</td>\n",
              "      <td>千葉県習志野市芝園一丁目</td>\n",
              "      <td>チバケンナラシノシシバゾノイッチョウメ</td>\n",
              "      <td>047-123-4002</td>\n",
              "      <td>140.0220</td>\n",
              "      <td>35.66122</td>\n",
              "      <td>808.0</td>\n",
              "    </tr>\n",
              "  </tbody>\n",
              "</table>\n",
              "</div>"
            ],
            "text/plain": [
              "   store_cd store_name  prefecture_cd  ... longitude  latitude floor_area\n",
              "18   S14046       北山田店             14  ...  139.5916  35.56189      831.0\n",
              "20   S14011      日吉本町店             14  ...  139.6316  35.54655      890.0\n",
              "38   S12013       習志野店             12  ...  140.0220  35.66122      808.0\n",
              "\n",
              "[3 rows x 10 columns]"
            ]
          },
          "metadata": {
            "tags": []
          },
          "execution_count": 10
        }
      ]
    },
    {
      "cell_type": "markdown",
      "metadata": {
        "id": "vyAFAs5Rhhx5",
        "colab_type": "text"
      },
      "source": [
        "---\n",
        "> P-010: 店舗データフレーム（df_store）から、店舗コード（store_cd）が\"S14\"で始まるものだけ全項目抽出し、10件だけ表示せよ。"
      ]
    },
    {
      "cell_type": "code",
      "metadata": {
        "trusted": false,
        "id": "aaHaULLwhhx5",
        "colab_type": "code",
        "colab": {
          "base_uri": "https://localhost:8080/",
          "height": 359
        },
        "outputId": "be097731-9ab5-4362-83da-88427ba61b6b"
      },
      "source": [
        "df_store[df_store['store_cd'].str.startswith('S14')].head(10)"
      ],
      "execution_count": 11,
      "outputs": [
        {
          "output_type": "execute_result",
          "data": {
            "text/html": [
              "<div>\n",
              "<style scoped>\n",
              "    .dataframe tbody tr th:only-of-type {\n",
              "        vertical-align: middle;\n",
              "    }\n",
              "\n",
              "    .dataframe tbody tr th {\n",
              "        vertical-align: top;\n",
              "    }\n",
              "\n",
              "    .dataframe thead th {\n",
              "        text-align: right;\n",
              "    }\n",
              "</style>\n",
              "<table border=\"1\" class=\"dataframe\">\n",
              "  <thead>\n",
              "    <tr style=\"text-align: right;\">\n",
              "      <th></th>\n",
              "      <th>store_cd</th>\n",
              "      <th>store_name</th>\n",
              "      <th>prefecture_cd</th>\n",
              "      <th>prefecture</th>\n",
              "      <th>address</th>\n",
              "      <th>address_kana</th>\n",
              "      <th>tel_no</th>\n",
              "      <th>longitude</th>\n",
              "      <th>latitude</th>\n",
              "      <th>floor_area</th>\n",
              "    </tr>\n",
              "  </thead>\n",
              "  <tbody>\n",
              "    <tr>\n",
              "      <th>2</th>\n",
              "      <td>S14010</td>\n",
              "      <td>菊名店</td>\n",
              "      <td>14</td>\n",
              "      <td>神奈川県</td>\n",
              "      <td>神奈川県横浜市港北区菊名一丁目</td>\n",
              "      <td>カナガワケンヨコハマシコウホククキクナイッチョウメ</td>\n",
              "      <td>045-123-4032</td>\n",
              "      <td>139.6326</td>\n",
              "      <td>35.50049</td>\n",
              "      <td>1732.0</td>\n",
              "    </tr>\n",
              "    <tr>\n",
              "      <th>3</th>\n",
              "      <td>S14033</td>\n",
              "      <td>阿久和店</td>\n",
              "      <td>14</td>\n",
              "      <td>神奈川県</td>\n",
              "      <td>神奈川県横浜市瀬谷区阿久和西一丁目</td>\n",
              "      <td>カナガワケンヨコハマシセヤクアクワニシイッチョウメ</td>\n",
              "      <td>045-123-4043</td>\n",
              "      <td>139.4961</td>\n",
              "      <td>35.45918</td>\n",
              "      <td>1495.0</td>\n",
              "    </tr>\n",
              "    <tr>\n",
              "      <th>4</th>\n",
              "      <td>S14036</td>\n",
              "      <td>相模原中央店</td>\n",
              "      <td>14</td>\n",
              "      <td>神奈川県</td>\n",
              "      <td>神奈川県相模原市中央二丁目</td>\n",
              "      <td>カナガワケンサガミハラシチュウオウニチョウメ</td>\n",
              "      <td>042-123-4045</td>\n",
              "      <td>139.3716</td>\n",
              "      <td>35.57327</td>\n",
              "      <td>1679.0</td>\n",
              "    </tr>\n",
              "    <tr>\n",
              "      <th>7</th>\n",
              "      <td>S14040</td>\n",
              "      <td>長津田店</td>\n",
              "      <td>14</td>\n",
              "      <td>神奈川県</td>\n",
              "      <td>神奈川県横浜市緑区長津田みなみ台五丁目</td>\n",
              "      <td>カナガワケンヨコハマシミドリクナガツタミナミダイゴチョウメ</td>\n",
              "      <td>045-123-4046</td>\n",
              "      <td>139.4994</td>\n",
              "      <td>35.52398</td>\n",
              "      <td>1548.0</td>\n",
              "    </tr>\n",
              "    <tr>\n",
              "      <th>9</th>\n",
              "      <td>S14050</td>\n",
              "      <td>阿久和西店</td>\n",
              "      <td>14</td>\n",
              "      <td>神奈川県</td>\n",
              "      <td>神奈川県横浜市瀬谷区阿久和西一丁目</td>\n",
              "      <td>カナガワケンヨコハマシセヤクアクワニシイッチョウメ</td>\n",
              "      <td>045-123-4053</td>\n",
              "      <td>139.4961</td>\n",
              "      <td>35.45918</td>\n",
              "      <td>1830.0</td>\n",
              "    </tr>\n",
              "    <tr>\n",
              "      <th>12</th>\n",
              "      <td>S14028</td>\n",
              "      <td>二ツ橋店</td>\n",
              "      <td>14</td>\n",
              "      <td>神奈川県</td>\n",
              "      <td>神奈川県横浜市瀬谷区二ツ橋町</td>\n",
              "      <td>カナガワケンヨコハマシセヤクフタツバシチョウ</td>\n",
              "      <td>045-123-4042</td>\n",
              "      <td>139.4963</td>\n",
              "      <td>35.46304</td>\n",
              "      <td>1574.0</td>\n",
              "    </tr>\n",
              "    <tr>\n",
              "      <th>16</th>\n",
              "      <td>S14012</td>\n",
              "      <td>本牧和田店</td>\n",
              "      <td>14</td>\n",
              "      <td>神奈川県</td>\n",
              "      <td>神奈川県横浜市中区本牧和田</td>\n",
              "      <td>カナガワケンヨコハマシナカクホンモクワダ</td>\n",
              "      <td>045-123-4034</td>\n",
              "      <td>139.6582</td>\n",
              "      <td>35.42156</td>\n",
              "      <td>1341.0</td>\n",
              "    </tr>\n",
              "    <tr>\n",
              "      <th>18</th>\n",
              "      <td>S14046</td>\n",
              "      <td>北山田店</td>\n",
              "      <td>14</td>\n",
              "      <td>神奈川県</td>\n",
              "      <td>神奈川県横浜市都筑区北山田一丁目</td>\n",
              "      <td>カナガワケンヨコハマシツヅキクキタヤマタイッチョウメ</td>\n",
              "      <td>045-123-4049</td>\n",
              "      <td>139.5916</td>\n",
              "      <td>35.56189</td>\n",
              "      <td>831.0</td>\n",
              "    </tr>\n",
              "    <tr>\n",
              "      <th>19</th>\n",
              "      <td>S14022</td>\n",
              "      <td>逗子店</td>\n",
              "      <td>14</td>\n",
              "      <td>神奈川県</td>\n",
              "      <td>神奈川県逗子市逗子一丁目</td>\n",
              "      <td>カナガワケンズシシズシイッチョウメ</td>\n",
              "      <td>046-123-4036</td>\n",
              "      <td>139.5789</td>\n",
              "      <td>35.29642</td>\n",
              "      <td>1838.0</td>\n",
              "    </tr>\n",
              "    <tr>\n",
              "      <th>20</th>\n",
              "      <td>S14011</td>\n",
              "      <td>日吉本町店</td>\n",
              "      <td>14</td>\n",
              "      <td>神奈川県</td>\n",
              "      <td>神奈川県横浜市港北区日吉本町四丁目</td>\n",
              "      <td>カナガワケンヨコハマシコウホククヒヨシホンチョウヨンチョウメ</td>\n",
              "      <td>045-123-4033</td>\n",
              "      <td>139.6316</td>\n",
              "      <td>35.54655</td>\n",
              "      <td>890.0</td>\n",
              "    </tr>\n",
              "  </tbody>\n",
              "</table>\n",
              "</div>"
            ],
            "text/plain": [
              "   store_cd store_name  prefecture_cd  ... longitude  latitude floor_area\n",
              "2    S14010        菊名店             14  ...  139.6326  35.50049     1732.0\n",
              "3    S14033       阿久和店             14  ...  139.4961  35.45918     1495.0\n",
              "4    S14036     相模原中央店             14  ...  139.3716  35.57327     1679.0\n",
              "7    S14040       長津田店             14  ...  139.4994  35.52398     1548.0\n",
              "9    S14050      阿久和西店             14  ...  139.4961  35.45918     1830.0\n",
              "12   S14028       二ツ橋店             14  ...  139.4963  35.46304     1574.0\n",
              "16   S14012      本牧和田店             14  ...  139.6582  35.42156     1341.0\n",
              "18   S14046       北山田店             14  ...  139.5916  35.56189      831.0\n",
              "19   S14022        逗子店             14  ...  139.5789  35.29642     1838.0\n",
              "20   S14011      日吉本町店             14  ...  139.6316  35.54655      890.0\n",
              "\n",
              "[10 rows x 10 columns]"
            ]
          },
          "metadata": {
            "tags": []
          },
          "execution_count": 11
        }
      ]
    },
    {
      "cell_type": "markdown",
      "metadata": {
        "id": "rZOTvgu0hhx7",
        "colab_type": "text"
      },
      "source": [
        "---\n",
        "> P-011: 顧客データフレーム（df_customer）から顧客ID（customer_id）の末尾が1のものだけ全項目抽出し、10件だけ表示せよ。"
      ]
    },
    {
      "cell_type": "code",
      "metadata": {
        "trusted": false,
        "id": "tTJ7JCl_hhx7",
        "colab_type": "code",
        "colab": {
          "base_uri": "https://localhost:8080/",
          "height": 359
        },
        "outputId": "6d66420b-6f1e-4af4-a688-040f6ab93527"
      },
      "source": [
        "df_customer[df_customer['customer_id'].str.endswith('1')].head(10)"
      ],
      "execution_count": 12,
      "outputs": [
        {
          "output_type": "execute_result",
          "data": {
            "text/html": [
              "<div>\n",
              "<style scoped>\n",
              "    .dataframe tbody tr th:only-of-type {\n",
              "        vertical-align: middle;\n",
              "    }\n",
              "\n",
              "    .dataframe tbody tr th {\n",
              "        vertical-align: top;\n",
              "    }\n",
              "\n",
              "    .dataframe thead th {\n",
              "        text-align: right;\n",
              "    }\n",
              "</style>\n",
              "<table border=\"1\" class=\"dataframe\">\n",
              "  <thead>\n",
              "    <tr style=\"text-align: right;\">\n",
              "      <th></th>\n",
              "      <th>customer_id</th>\n",
              "      <th>customer_name</th>\n",
              "      <th>gender_cd</th>\n",
              "      <th>gender</th>\n",
              "      <th>birth_day</th>\n",
              "      <th>age</th>\n",
              "      <th>postal_cd</th>\n",
              "      <th>address</th>\n",
              "      <th>application_store_cd</th>\n",
              "      <th>application_date</th>\n",
              "      <th>status_cd</th>\n",
              "    </tr>\n",
              "  </thead>\n",
              "  <tbody>\n",
              "    <tr>\n",
              "      <th>1</th>\n",
              "      <td>CS037613000071</td>\n",
              "      <td>六角 雅彦</td>\n",
              "      <td>9</td>\n",
              "      <td>不明</td>\n",
              "      <td>1952-04-01</td>\n",
              "      <td>66</td>\n",
              "      <td>136-0076</td>\n",
              "      <td>東京都江東区南砂**********</td>\n",
              "      <td>S13037</td>\n",
              "      <td>20150414</td>\n",
              "      <td>0-00000000-0</td>\n",
              "    </tr>\n",
              "    <tr>\n",
              "      <th>3</th>\n",
              "      <td>CS028811000001</td>\n",
              "      <td>堀井 かおり</td>\n",
              "      <td>1</td>\n",
              "      <td>女性</td>\n",
              "      <td>1933-03-27</td>\n",
              "      <td>86</td>\n",
              "      <td>245-0016</td>\n",
              "      <td>神奈川県横浜市泉区和泉町**********</td>\n",
              "      <td>S14028</td>\n",
              "      <td>20160115</td>\n",
              "      <td>0-00000000-0</td>\n",
              "    </tr>\n",
              "    <tr>\n",
              "      <th>14</th>\n",
              "      <td>CS040412000191</td>\n",
              "      <td>川井 郁恵</td>\n",
              "      <td>1</td>\n",
              "      <td>女性</td>\n",
              "      <td>1977-01-05</td>\n",
              "      <td>42</td>\n",
              "      <td>226-0021</td>\n",
              "      <td>神奈川県横浜市緑区北八朔町**********</td>\n",
              "      <td>S14040</td>\n",
              "      <td>20151101</td>\n",
              "      <td>1-20091025-4</td>\n",
              "    </tr>\n",
              "    <tr>\n",
              "      <th>31</th>\n",
              "      <td>CS028314000011</td>\n",
              "      <td>小菅 あおい</td>\n",
              "      <td>1</td>\n",
              "      <td>女性</td>\n",
              "      <td>1983-11-26</td>\n",
              "      <td>35</td>\n",
              "      <td>246-0038</td>\n",
              "      <td>神奈川県横浜市瀬谷区宮沢**********</td>\n",
              "      <td>S14028</td>\n",
              "      <td>20151123</td>\n",
              "      <td>1-20080426-5</td>\n",
              "    </tr>\n",
              "    <tr>\n",
              "      <th>56</th>\n",
              "      <td>CS039212000051</td>\n",
              "      <td>藤島 恵梨香</td>\n",
              "      <td>1</td>\n",
              "      <td>女性</td>\n",
              "      <td>1997-02-03</td>\n",
              "      <td>22</td>\n",
              "      <td>166-0001</td>\n",
              "      <td>東京都杉並区阿佐谷北**********</td>\n",
              "      <td>S13039</td>\n",
              "      <td>20171121</td>\n",
              "      <td>1-20100215-4</td>\n",
              "    </tr>\n",
              "    <tr>\n",
              "      <th>59</th>\n",
              "      <td>CS015412000111</td>\n",
              "      <td>松居 奈月</td>\n",
              "      <td>1</td>\n",
              "      <td>女性</td>\n",
              "      <td>1972-10-04</td>\n",
              "      <td>46</td>\n",
              "      <td>136-0071</td>\n",
              "      <td>東京都江東区亀戸**********</td>\n",
              "      <td>S13015</td>\n",
              "      <td>20150629</td>\n",
              "      <td>0-00000000-0</td>\n",
              "    </tr>\n",
              "    <tr>\n",
              "      <th>63</th>\n",
              "      <td>CS004702000041</td>\n",
              "      <td>野島 洋</td>\n",
              "      <td>0</td>\n",
              "      <td>男性</td>\n",
              "      <td>1943-08-24</td>\n",
              "      <td>75</td>\n",
              "      <td>176-0022</td>\n",
              "      <td>東京都練馬区向山**********</td>\n",
              "      <td>S13004</td>\n",
              "      <td>20170218</td>\n",
              "      <td>0-00000000-0</td>\n",
              "    </tr>\n",
              "    <tr>\n",
              "      <th>74</th>\n",
              "      <td>CS041515000001</td>\n",
              "      <td>栗田 千夏</td>\n",
              "      <td>1</td>\n",
              "      <td>女性</td>\n",
              "      <td>1967-01-02</td>\n",
              "      <td>52</td>\n",
              "      <td>206-0001</td>\n",
              "      <td>東京都多摩市和田**********</td>\n",
              "      <td>S13041</td>\n",
              "      <td>20160422</td>\n",
              "      <td>E-20100803-F</td>\n",
              "    </tr>\n",
              "    <tr>\n",
              "      <th>85</th>\n",
              "      <td>CS029313000221</td>\n",
              "      <td>北条 ひかり</td>\n",
              "      <td>1</td>\n",
              "      <td>女性</td>\n",
              "      <td>1987-06-19</td>\n",
              "      <td>31</td>\n",
              "      <td>279-0011</td>\n",
              "      <td>千葉県浦安市美浜**********</td>\n",
              "      <td>S12029</td>\n",
              "      <td>20180810</td>\n",
              "      <td>0-00000000-0</td>\n",
              "    </tr>\n",
              "    <tr>\n",
              "      <th>102</th>\n",
              "      <td>CS034312000071</td>\n",
              "      <td>望月 奈央</td>\n",
              "      <td>1</td>\n",
              "      <td>女性</td>\n",
              "      <td>1980-09-20</td>\n",
              "      <td>38</td>\n",
              "      <td>213-0026</td>\n",
              "      <td>神奈川県川崎市高津区久末**********</td>\n",
              "      <td>S14034</td>\n",
              "      <td>20160106</td>\n",
              "      <td>0-00000000-0</td>\n",
              "    </tr>\n",
              "  </tbody>\n",
              "</table>\n",
              "</div>"
            ],
            "text/plain": [
              "        customer_id customer_name  ...  application_date     status_cd\n",
              "1    CS037613000071         六角 雅彦  ...          20150414  0-00000000-0\n",
              "3    CS028811000001        堀井 かおり  ...          20160115  0-00000000-0\n",
              "14   CS040412000191         川井 郁恵  ...          20151101  1-20091025-4\n",
              "31   CS028314000011        小菅 あおい  ...          20151123  1-20080426-5\n",
              "56   CS039212000051        藤島 恵梨香  ...          20171121  1-20100215-4\n",
              "59   CS015412000111         松居 奈月  ...          20150629  0-00000000-0\n",
              "63   CS004702000041          野島 洋  ...          20170218  0-00000000-0\n",
              "74   CS041515000001         栗田 千夏  ...          20160422  E-20100803-F\n",
              "85   CS029313000221        北条 ひかり  ...          20180810  0-00000000-0\n",
              "102  CS034312000071         望月 奈央  ...          20160106  0-00000000-0\n",
              "\n",
              "[10 rows x 11 columns]"
            ]
          },
          "metadata": {
            "tags": []
          },
          "execution_count": 12
        }
      ]
    },
    {
      "cell_type": "markdown",
      "metadata": {
        "id": "rZR7bxyYhhx9",
        "colab_type": "text"
      },
      "source": [
        "---\n",
        "> P-012: 店舗データフレーム（df_store）から横浜市の店舗だけ全項目表示せよ。"
      ]
    },
    {
      "cell_type": "code",
      "metadata": {
        "trusted": false,
        "id": "Yvqzxpskhhx9",
        "colab_type": "code",
        "colab": {
          "base_uri": "https://localhost:8080/",
          "height": 390
        },
        "outputId": "ea558293-4abb-4065-c99d-47f58396981b"
      },
      "source": [
        "df_store[df_store['address'].str.contains('神奈川県横浜市')]"
      ],
      "execution_count": 13,
      "outputs": [
        {
          "output_type": "execute_result",
          "data": {
            "text/html": [
              "<div>\n",
              "<style scoped>\n",
              "    .dataframe tbody tr th:only-of-type {\n",
              "        vertical-align: middle;\n",
              "    }\n",
              "\n",
              "    .dataframe tbody tr th {\n",
              "        vertical-align: top;\n",
              "    }\n",
              "\n",
              "    .dataframe thead th {\n",
              "        text-align: right;\n",
              "    }\n",
              "</style>\n",
              "<table border=\"1\" class=\"dataframe\">\n",
              "  <thead>\n",
              "    <tr style=\"text-align: right;\">\n",
              "      <th></th>\n",
              "      <th>store_cd</th>\n",
              "      <th>store_name</th>\n",
              "      <th>prefecture_cd</th>\n",
              "      <th>prefecture</th>\n",
              "      <th>address</th>\n",
              "      <th>address_kana</th>\n",
              "      <th>tel_no</th>\n",
              "      <th>longitude</th>\n",
              "      <th>latitude</th>\n",
              "      <th>floor_area</th>\n",
              "    </tr>\n",
              "  </thead>\n",
              "  <tbody>\n",
              "    <tr>\n",
              "      <th>2</th>\n",
              "      <td>S14010</td>\n",
              "      <td>菊名店</td>\n",
              "      <td>14</td>\n",
              "      <td>神奈川県</td>\n",
              "      <td>神奈川県横浜市港北区菊名一丁目</td>\n",
              "      <td>カナガワケンヨコハマシコウホククキクナイッチョウメ</td>\n",
              "      <td>045-123-4032</td>\n",
              "      <td>139.6326</td>\n",
              "      <td>35.50049</td>\n",
              "      <td>1732.0</td>\n",
              "    </tr>\n",
              "    <tr>\n",
              "      <th>3</th>\n",
              "      <td>S14033</td>\n",
              "      <td>阿久和店</td>\n",
              "      <td>14</td>\n",
              "      <td>神奈川県</td>\n",
              "      <td>神奈川県横浜市瀬谷区阿久和西一丁目</td>\n",
              "      <td>カナガワケンヨコハマシセヤクアクワニシイッチョウメ</td>\n",
              "      <td>045-123-4043</td>\n",
              "      <td>139.4961</td>\n",
              "      <td>35.45918</td>\n",
              "      <td>1495.0</td>\n",
              "    </tr>\n",
              "    <tr>\n",
              "      <th>7</th>\n",
              "      <td>S14040</td>\n",
              "      <td>長津田店</td>\n",
              "      <td>14</td>\n",
              "      <td>神奈川県</td>\n",
              "      <td>神奈川県横浜市緑区長津田みなみ台五丁目</td>\n",
              "      <td>カナガワケンヨコハマシミドリクナガツタミナミダイゴチョウメ</td>\n",
              "      <td>045-123-4046</td>\n",
              "      <td>139.4994</td>\n",
              "      <td>35.52398</td>\n",
              "      <td>1548.0</td>\n",
              "    </tr>\n",
              "    <tr>\n",
              "      <th>9</th>\n",
              "      <td>S14050</td>\n",
              "      <td>阿久和西店</td>\n",
              "      <td>14</td>\n",
              "      <td>神奈川県</td>\n",
              "      <td>神奈川県横浜市瀬谷区阿久和西一丁目</td>\n",
              "      <td>カナガワケンヨコハマシセヤクアクワニシイッチョウメ</td>\n",
              "      <td>045-123-4053</td>\n",
              "      <td>139.4961</td>\n",
              "      <td>35.45918</td>\n",
              "      <td>1830.0</td>\n",
              "    </tr>\n",
              "    <tr>\n",
              "      <th>12</th>\n",
              "      <td>S14028</td>\n",
              "      <td>二ツ橋店</td>\n",
              "      <td>14</td>\n",
              "      <td>神奈川県</td>\n",
              "      <td>神奈川県横浜市瀬谷区二ツ橋町</td>\n",
              "      <td>カナガワケンヨコハマシセヤクフタツバシチョウ</td>\n",
              "      <td>045-123-4042</td>\n",
              "      <td>139.4963</td>\n",
              "      <td>35.46304</td>\n",
              "      <td>1574.0</td>\n",
              "    </tr>\n",
              "    <tr>\n",
              "      <th>16</th>\n",
              "      <td>S14012</td>\n",
              "      <td>本牧和田店</td>\n",
              "      <td>14</td>\n",
              "      <td>神奈川県</td>\n",
              "      <td>神奈川県横浜市中区本牧和田</td>\n",
              "      <td>カナガワケンヨコハマシナカクホンモクワダ</td>\n",
              "      <td>045-123-4034</td>\n",
              "      <td>139.6582</td>\n",
              "      <td>35.42156</td>\n",
              "      <td>1341.0</td>\n",
              "    </tr>\n",
              "    <tr>\n",
              "      <th>18</th>\n",
              "      <td>S14046</td>\n",
              "      <td>北山田店</td>\n",
              "      <td>14</td>\n",
              "      <td>神奈川県</td>\n",
              "      <td>神奈川県横浜市都筑区北山田一丁目</td>\n",
              "      <td>カナガワケンヨコハマシツヅキクキタヤマタイッチョウメ</td>\n",
              "      <td>045-123-4049</td>\n",
              "      <td>139.5916</td>\n",
              "      <td>35.56189</td>\n",
              "      <td>831.0</td>\n",
              "    </tr>\n",
              "    <tr>\n",
              "      <th>20</th>\n",
              "      <td>S14011</td>\n",
              "      <td>日吉本町店</td>\n",
              "      <td>14</td>\n",
              "      <td>神奈川県</td>\n",
              "      <td>神奈川県横浜市港北区日吉本町四丁目</td>\n",
              "      <td>カナガワケンヨコハマシコウホククヒヨシホンチョウヨンチョウメ</td>\n",
              "      <td>045-123-4033</td>\n",
              "      <td>139.6316</td>\n",
              "      <td>35.54655</td>\n",
              "      <td>890.0</td>\n",
              "    </tr>\n",
              "    <tr>\n",
              "      <th>26</th>\n",
              "      <td>S14048</td>\n",
              "      <td>中川中央店</td>\n",
              "      <td>14</td>\n",
              "      <td>神奈川県</td>\n",
              "      <td>神奈川県横浜市都筑区中川中央二丁目</td>\n",
              "      <td>カナガワケンヨコハマシツヅキクナカガワチュウオウニチョウメ</td>\n",
              "      <td>045-123-4051</td>\n",
              "      <td>139.5758</td>\n",
              "      <td>35.54912</td>\n",
              "      <td>1657.0</td>\n",
              "    </tr>\n",
              "    <tr>\n",
              "      <th>40</th>\n",
              "      <td>S14042</td>\n",
              "      <td>新山下店</td>\n",
              "      <td>14</td>\n",
              "      <td>神奈川県</td>\n",
              "      <td>神奈川県横浜市中区新山下二丁目</td>\n",
              "      <td>カナガワケンヨコハマシナカクシンヤマシタニチョウメ</td>\n",
              "      <td>045-123-4047</td>\n",
              "      <td>139.6593</td>\n",
              "      <td>35.43894</td>\n",
              "      <td>1044.0</td>\n",
              "    </tr>\n",
              "    <tr>\n",
              "      <th>52</th>\n",
              "      <td>S14006</td>\n",
              "      <td>葛が谷店</td>\n",
              "      <td>14</td>\n",
              "      <td>神奈川県</td>\n",
              "      <td>神奈川県横浜市都筑区葛が谷</td>\n",
              "      <td>カナガワケンヨコハマシツヅキククズガヤ</td>\n",
              "      <td>045-123-4031</td>\n",
              "      <td>139.5633</td>\n",
              "      <td>35.53573</td>\n",
              "      <td>1886.0</td>\n",
              "    </tr>\n",
              "  </tbody>\n",
              "</table>\n",
              "</div>"
            ],
            "text/plain": [
              "   store_cd store_name  prefecture_cd  ... longitude  latitude floor_area\n",
              "2    S14010        菊名店             14  ...  139.6326  35.50049     1732.0\n",
              "3    S14033       阿久和店             14  ...  139.4961  35.45918     1495.0\n",
              "7    S14040       長津田店             14  ...  139.4994  35.52398     1548.0\n",
              "9    S14050      阿久和西店             14  ...  139.4961  35.45918     1830.0\n",
              "12   S14028       二ツ橋店             14  ...  139.4963  35.46304     1574.0\n",
              "16   S14012      本牧和田店             14  ...  139.6582  35.42156     1341.0\n",
              "18   S14046       北山田店             14  ...  139.5916  35.56189      831.0\n",
              "20   S14011      日吉本町店             14  ...  139.6316  35.54655      890.0\n",
              "26   S14048      中川中央店             14  ...  139.5758  35.54912     1657.0\n",
              "40   S14042       新山下店             14  ...  139.6593  35.43894     1044.0\n",
              "52   S14006       葛が谷店             14  ...  139.5633  35.53573     1886.0\n",
              "\n",
              "[11 rows x 10 columns]"
            ]
          },
          "metadata": {
            "tags": []
          },
          "execution_count": 13
        }
      ]
    },
    {
      "cell_type": "markdown",
      "metadata": {
        "id": "6J8QsPb9hhx_",
        "colab_type": "text"
      },
      "source": [
        "---\n",
        "> P-013: 顧客データフレーム（df_customer）から、ステータスコード（status_cd）の先頭がアルファベットのA〜Fで始まるデータを全項目抽出し、10件だけ表示せよ。"
      ]
    },
    {
      "cell_type": "code",
      "metadata": {
        "trusted": false,
        "id": "ZBA2t0BThhx_",
        "colab_type": "code",
        "colab": {
          "base_uri": "https://localhost:8080/",
          "height": 359
        },
        "outputId": "4b4d8173-4d10-41f3-f595-c50dc93c1812"
      },
      "source": [
        "df_customer[df_customer['status_cd'].str.contains('^[A-F]')].head(10)"
      ],
      "execution_count": 14,
      "outputs": [
        {
          "output_type": "execute_result",
          "data": {
            "text/html": [
              "<div>\n",
              "<style scoped>\n",
              "    .dataframe tbody tr th:only-of-type {\n",
              "        vertical-align: middle;\n",
              "    }\n",
              "\n",
              "    .dataframe tbody tr th {\n",
              "        vertical-align: top;\n",
              "    }\n",
              "\n",
              "    .dataframe thead th {\n",
              "        text-align: right;\n",
              "    }\n",
              "</style>\n",
              "<table border=\"1\" class=\"dataframe\">\n",
              "  <thead>\n",
              "    <tr style=\"text-align: right;\">\n",
              "      <th></th>\n",
              "      <th>customer_id</th>\n",
              "      <th>customer_name</th>\n",
              "      <th>gender_cd</th>\n",
              "      <th>gender</th>\n",
              "      <th>birth_day</th>\n",
              "      <th>age</th>\n",
              "      <th>postal_cd</th>\n",
              "      <th>address</th>\n",
              "      <th>application_store_cd</th>\n",
              "      <th>application_date</th>\n",
              "      <th>status_cd</th>\n",
              "    </tr>\n",
              "  </thead>\n",
              "  <tbody>\n",
              "    <tr>\n",
              "      <th>2</th>\n",
              "      <td>CS031415000172</td>\n",
              "      <td>宇多田 貴美子</td>\n",
              "      <td>1</td>\n",
              "      <td>女性</td>\n",
              "      <td>1976-10-04</td>\n",
              "      <td>42</td>\n",
              "      <td>151-0053</td>\n",
              "      <td>東京都渋谷区代々木**********</td>\n",
              "      <td>S13031</td>\n",
              "      <td>20150529</td>\n",
              "      <td>D-20100325-C</td>\n",
              "    </tr>\n",
              "    <tr>\n",
              "      <th>6</th>\n",
              "      <td>CS015414000103</td>\n",
              "      <td>奥野 陽子</td>\n",
              "      <td>1</td>\n",
              "      <td>女性</td>\n",
              "      <td>1977-08-09</td>\n",
              "      <td>41</td>\n",
              "      <td>136-0073</td>\n",
              "      <td>東京都江東区北砂**********</td>\n",
              "      <td>S13015</td>\n",
              "      <td>20150722</td>\n",
              "      <td>B-20100609-B</td>\n",
              "    </tr>\n",
              "    <tr>\n",
              "      <th>12</th>\n",
              "      <td>CS011215000048</td>\n",
              "      <td>芦田 沙耶</td>\n",
              "      <td>1</td>\n",
              "      <td>女性</td>\n",
              "      <td>1992-02-01</td>\n",
              "      <td>27</td>\n",
              "      <td>223-0062</td>\n",
              "      <td>神奈川県横浜市港北区日吉本町**********</td>\n",
              "      <td>S14011</td>\n",
              "      <td>20150228</td>\n",
              "      <td>C-20100421-9</td>\n",
              "    </tr>\n",
              "    <tr>\n",
              "      <th>15</th>\n",
              "      <td>CS029415000023</td>\n",
              "      <td>梅田 里穂</td>\n",
              "      <td>1</td>\n",
              "      <td>女性</td>\n",
              "      <td>1976-01-17</td>\n",
              "      <td>43</td>\n",
              "      <td>279-0043</td>\n",
              "      <td>千葉県浦安市富士見**********</td>\n",
              "      <td>S12029</td>\n",
              "      <td>20150610</td>\n",
              "      <td>D-20100918-E</td>\n",
              "    </tr>\n",
              "    <tr>\n",
              "      <th>21</th>\n",
              "      <td>CS035415000029</td>\n",
              "      <td>寺沢 真希</td>\n",
              "      <td>9</td>\n",
              "      <td>不明</td>\n",
              "      <td>1977-09-27</td>\n",
              "      <td>41</td>\n",
              "      <td>158-0096</td>\n",
              "      <td>東京都世田谷区玉川台**********</td>\n",
              "      <td>S13035</td>\n",
              "      <td>20141220</td>\n",
              "      <td>F-20101029-F</td>\n",
              "    </tr>\n",
              "    <tr>\n",
              "      <th>32</th>\n",
              "      <td>CS031415000106</td>\n",
              "      <td>宇野 由美子</td>\n",
              "      <td>1</td>\n",
              "      <td>女性</td>\n",
              "      <td>1970-02-26</td>\n",
              "      <td>49</td>\n",
              "      <td>151-0053</td>\n",
              "      <td>東京都渋谷区代々木**********</td>\n",
              "      <td>S13031</td>\n",
              "      <td>20150201</td>\n",
              "      <td>F-20100511-E</td>\n",
              "    </tr>\n",
              "    <tr>\n",
              "      <th>33</th>\n",
              "      <td>CS029215000025</td>\n",
              "      <td>石倉 美帆</td>\n",
              "      <td>1</td>\n",
              "      <td>女性</td>\n",
              "      <td>1993-09-28</td>\n",
              "      <td>25</td>\n",
              "      <td>279-0022</td>\n",
              "      <td>千葉県浦安市今川**********</td>\n",
              "      <td>S12029</td>\n",
              "      <td>20150708</td>\n",
              "      <td>B-20100820-C</td>\n",
              "    </tr>\n",
              "    <tr>\n",
              "      <th>40</th>\n",
              "      <td>CS033605000005</td>\n",
              "      <td>猪股 雄太</td>\n",
              "      <td>0</td>\n",
              "      <td>男性</td>\n",
              "      <td>1955-12-05</td>\n",
              "      <td>63</td>\n",
              "      <td>246-0031</td>\n",
              "      <td>神奈川県横浜市瀬谷区瀬谷**********</td>\n",
              "      <td>S14033</td>\n",
              "      <td>20150425</td>\n",
              "      <td>F-20100917-E</td>\n",
              "    </tr>\n",
              "    <tr>\n",
              "      <th>44</th>\n",
              "      <td>CS033415000229</td>\n",
              "      <td>板垣 菜々美</td>\n",
              "      <td>1</td>\n",
              "      <td>女性</td>\n",
              "      <td>1977-11-07</td>\n",
              "      <td>41</td>\n",
              "      <td>246-0021</td>\n",
              "      <td>神奈川県横浜市瀬谷区二ツ橋町**********</td>\n",
              "      <td>S14033</td>\n",
              "      <td>20150712</td>\n",
              "      <td>F-20100326-E</td>\n",
              "    </tr>\n",
              "    <tr>\n",
              "      <th>53</th>\n",
              "      <td>CS008415000145</td>\n",
              "      <td>黒谷 麻緒</td>\n",
              "      <td>1</td>\n",
              "      <td>女性</td>\n",
              "      <td>1977-06-27</td>\n",
              "      <td>41</td>\n",
              "      <td>157-0067</td>\n",
              "      <td>東京都世田谷区喜多見**********</td>\n",
              "      <td>S13008</td>\n",
              "      <td>20150829</td>\n",
              "      <td>F-20100622-F</td>\n",
              "    </tr>\n",
              "  </tbody>\n",
              "</table>\n",
              "</div>"
            ],
            "text/plain": [
              "       customer_id customer_name  ...  application_date     status_cd\n",
              "2   CS031415000172       宇多田 貴美子  ...          20150529  D-20100325-C\n",
              "6   CS015414000103         奥野 陽子  ...          20150722  B-20100609-B\n",
              "12  CS011215000048         芦田 沙耶  ...          20150228  C-20100421-9\n",
              "15  CS029415000023         梅田 里穂  ...          20150610  D-20100918-E\n",
              "21  CS035415000029         寺沢 真希  ...          20141220  F-20101029-F\n",
              "32  CS031415000106        宇野 由美子  ...          20150201  F-20100511-E\n",
              "33  CS029215000025         石倉 美帆  ...          20150708  B-20100820-C\n",
              "40  CS033605000005         猪股 雄太  ...          20150425  F-20100917-E\n",
              "44  CS033415000229        板垣 菜々美  ...          20150712  F-20100326-E\n",
              "53  CS008415000145         黒谷 麻緒  ...          20150829  F-20100622-F\n",
              "\n",
              "[10 rows x 11 columns]"
            ]
          },
          "metadata": {
            "tags": []
          },
          "execution_count": 14
        }
      ]
    },
    {
      "cell_type": "markdown",
      "metadata": {
        "id": "4rPUMBu_hhyB",
        "colab_type": "text"
      },
      "source": [
        "---\n",
        "> P-014: 顧客データフレーム（df_customer）から、ステータスコード（status_cd）の末尾が数字の1〜9で終わるデータを全項目抽出し、10件だけ表示せよ。"
      ]
    },
    {
      "cell_type": "code",
      "metadata": {
        "trusted": false,
        "id": "0U8WSbn1hhyB",
        "colab_type": "code",
        "colab": {
          "base_uri": "https://localhost:8080/",
          "height": 359
        },
        "outputId": "9937cda3-c241-4831-d5cd-e238c77261ba"
      },
      "source": [
        "df_customer[df_customer['status_cd'].str.contains('[1-9]$')].head(10)"
      ],
      "execution_count": 15,
      "outputs": [
        {
          "output_type": "execute_result",
          "data": {
            "text/html": [
              "<div>\n",
              "<style scoped>\n",
              "    .dataframe tbody tr th:only-of-type {\n",
              "        vertical-align: middle;\n",
              "    }\n",
              "\n",
              "    .dataframe tbody tr th {\n",
              "        vertical-align: top;\n",
              "    }\n",
              "\n",
              "    .dataframe thead th {\n",
              "        text-align: right;\n",
              "    }\n",
              "</style>\n",
              "<table border=\"1\" class=\"dataframe\">\n",
              "  <thead>\n",
              "    <tr style=\"text-align: right;\">\n",
              "      <th></th>\n",
              "      <th>customer_id</th>\n",
              "      <th>customer_name</th>\n",
              "      <th>gender_cd</th>\n",
              "      <th>gender</th>\n",
              "      <th>birth_day</th>\n",
              "      <th>age</th>\n",
              "      <th>postal_cd</th>\n",
              "      <th>address</th>\n",
              "      <th>application_store_cd</th>\n",
              "      <th>application_date</th>\n",
              "      <th>status_cd</th>\n",
              "    </tr>\n",
              "  </thead>\n",
              "  <tbody>\n",
              "    <tr>\n",
              "      <th>4</th>\n",
              "      <td>CS001215000145</td>\n",
              "      <td>田崎 美紀</td>\n",
              "      <td>1</td>\n",
              "      <td>女性</td>\n",
              "      <td>1995-03-29</td>\n",
              "      <td>24</td>\n",
              "      <td>144-0055</td>\n",
              "      <td>東京都大田区仲六郷**********</td>\n",
              "      <td>S13001</td>\n",
              "      <td>20170605</td>\n",
              "      <td>6-20090929-2</td>\n",
              "    </tr>\n",
              "    <tr>\n",
              "      <th>9</th>\n",
              "      <td>CS033513000180</td>\n",
              "      <td>安斎 遥</td>\n",
              "      <td>1</td>\n",
              "      <td>女性</td>\n",
              "      <td>1962-07-11</td>\n",
              "      <td>56</td>\n",
              "      <td>241-0823</td>\n",
              "      <td>神奈川県横浜市旭区善部町**********</td>\n",
              "      <td>S14033</td>\n",
              "      <td>20150728</td>\n",
              "      <td>6-20080506-5</td>\n",
              "    </tr>\n",
              "    <tr>\n",
              "      <th>12</th>\n",
              "      <td>CS011215000048</td>\n",
              "      <td>芦田 沙耶</td>\n",
              "      <td>1</td>\n",
              "      <td>女性</td>\n",
              "      <td>1992-02-01</td>\n",
              "      <td>27</td>\n",
              "      <td>223-0062</td>\n",
              "      <td>神奈川県横浜市港北区日吉本町**********</td>\n",
              "      <td>S14011</td>\n",
              "      <td>20150228</td>\n",
              "      <td>C-20100421-9</td>\n",
              "    </tr>\n",
              "    <tr>\n",
              "      <th>14</th>\n",
              "      <td>CS040412000191</td>\n",
              "      <td>川井 郁恵</td>\n",
              "      <td>1</td>\n",
              "      <td>女性</td>\n",
              "      <td>1977-01-05</td>\n",
              "      <td>42</td>\n",
              "      <td>226-0021</td>\n",
              "      <td>神奈川県横浜市緑区北八朔町**********</td>\n",
              "      <td>S14040</td>\n",
              "      <td>20151101</td>\n",
              "      <td>1-20091025-4</td>\n",
              "    </tr>\n",
              "    <tr>\n",
              "      <th>16</th>\n",
              "      <td>CS009315000023</td>\n",
              "      <td>皆川 文世</td>\n",
              "      <td>1</td>\n",
              "      <td>女性</td>\n",
              "      <td>1980-04-15</td>\n",
              "      <td>38</td>\n",
              "      <td>154-0012</td>\n",
              "      <td>東京都世田谷区駒沢**********</td>\n",
              "      <td>S13009</td>\n",
              "      <td>20150319</td>\n",
              "      <td>5-20080322-1</td>\n",
              "    </tr>\n",
              "    <tr>\n",
              "      <th>22</th>\n",
              "      <td>CS015315000033</td>\n",
              "      <td>福士 璃奈子</td>\n",
              "      <td>1</td>\n",
              "      <td>女性</td>\n",
              "      <td>1983-03-17</td>\n",
              "      <td>36</td>\n",
              "      <td>135-0043</td>\n",
              "      <td>東京都江東区塩浜**********</td>\n",
              "      <td>S13015</td>\n",
              "      <td>20141024</td>\n",
              "      <td>4-20080219-3</td>\n",
              "    </tr>\n",
              "    <tr>\n",
              "      <th>23</th>\n",
              "      <td>CS023513000066</td>\n",
              "      <td>神戸 そら</td>\n",
              "      <td>1</td>\n",
              "      <td>女性</td>\n",
              "      <td>1961-12-17</td>\n",
              "      <td>57</td>\n",
              "      <td>210-0005</td>\n",
              "      <td>神奈川県川崎市川崎区東田町**********</td>\n",
              "      <td>S14023</td>\n",
              "      <td>20150915</td>\n",
              "      <td>5-20100524-9</td>\n",
              "    </tr>\n",
              "    <tr>\n",
              "      <th>24</th>\n",
              "      <td>CS035513000134</td>\n",
              "      <td>市川 美帆</td>\n",
              "      <td>1</td>\n",
              "      <td>女性</td>\n",
              "      <td>1960-03-27</td>\n",
              "      <td>59</td>\n",
              "      <td>156-0053</td>\n",
              "      <td>東京都世田谷区桜**********</td>\n",
              "      <td>S13035</td>\n",
              "      <td>20150227</td>\n",
              "      <td>8-20100711-9</td>\n",
              "    </tr>\n",
              "    <tr>\n",
              "      <th>27</th>\n",
              "      <td>CS001515000263</td>\n",
              "      <td>高松 夏空</td>\n",
              "      <td>1</td>\n",
              "      <td>女性</td>\n",
              "      <td>1962-11-09</td>\n",
              "      <td>56</td>\n",
              "      <td>144-0051</td>\n",
              "      <td>東京都大田区西蒲田**********</td>\n",
              "      <td>S13001</td>\n",
              "      <td>20160812</td>\n",
              "      <td>1-20100804-1</td>\n",
              "    </tr>\n",
              "    <tr>\n",
              "      <th>28</th>\n",
              "      <td>CS040314000027</td>\n",
              "      <td>鶴田 きみまろ</td>\n",
              "      <td>9</td>\n",
              "      <td>不明</td>\n",
              "      <td>1986-03-26</td>\n",
              "      <td>33</td>\n",
              "      <td>226-0027</td>\n",
              "      <td>神奈川県横浜市緑区長津田**********</td>\n",
              "      <td>S14040</td>\n",
              "      <td>20150122</td>\n",
              "      <td>2-20080426-4</td>\n",
              "    </tr>\n",
              "  </tbody>\n",
              "</table>\n",
              "</div>"
            ],
            "text/plain": [
              "       customer_id customer_name  ...  application_date     status_cd\n",
              "4   CS001215000145         田崎 美紀  ...          20170605  6-20090929-2\n",
              "9   CS033513000180          安斎 遥  ...          20150728  6-20080506-5\n",
              "12  CS011215000048         芦田 沙耶  ...          20150228  C-20100421-9\n",
              "14  CS040412000191         川井 郁恵  ...          20151101  1-20091025-4\n",
              "16  CS009315000023         皆川 文世  ...          20150319  5-20080322-1\n",
              "22  CS015315000033        福士 璃奈子  ...          20141024  4-20080219-3\n",
              "23  CS023513000066         神戸 そら  ...          20150915  5-20100524-9\n",
              "24  CS035513000134         市川 美帆  ...          20150227  8-20100711-9\n",
              "27  CS001515000263         高松 夏空  ...          20160812  1-20100804-1\n",
              "28  CS040314000027       鶴田 きみまろ  ...          20150122  2-20080426-4\n",
              "\n",
              "[10 rows x 11 columns]"
            ]
          },
          "metadata": {
            "tags": []
          },
          "execution_count": 15
        }
      ]
    },
    {
      "cell_type": "markdown",
      "metadata": {
        "id": "0Jx471rjhhyD",
        "colab_type": "text"
      },
      "source": [
        "---\n",
        "> P-015: 顧客データフレーム（df_customer）から、ステータスコード（status_cd）の先頭がアルファベットのA〜Fで始まり、末尾が数字の1〜9で終わるデータを全項目抽出し、10件だけ表示せよ。"
      ]
    },
    {
      "cell_type": "code",
      "metadata": {
        "trusted": false,
        "id": "QuiyjScHhhyD",
        "colab_type": "code",
        "colab": {
          "base_uri": "https://localhost:8080/",
          "height": 359
        },
        "outputId": "3e8b582a-b44a-49ff-f874-dcc607009237"
      },
      "source": [
        "df_customer[df_customer['status_cd'].str.contains('^[A-F].*[1-9]$')].head(10)"
      ],
      "execution_count": 16,
      "outputs": [
        {
          "output_type": "execute_result",
          "data": {
            "text/html": [
              "<div>\n",
              "<style scoped>\n",
              "    .dataframe tbody tr th:only-of-type {\n",
              "        vertical-align: middle;\n",
              "    }\n",
              "\n",
              "    .dataframe tbody tr th {\n",
              "        vertical-align: top;\n",
              "    }\n",
              "\n",
              "    .dataframe thead th {\n",
              "        text-align: right;\n",
              "    }\n",
              "</style>\n",
              "<table border=\"1\" class=\"dataframe\">\n",
              "  <thead>\n",
              "    <tr style=\"text-align: right;\">\n",
              "      <th></th>\n",
              "      <th>customer_id</th>\n",
              "      <th>customer_name</th>\n",
              "      <th>gender_cd</th>\n",
              "      <th>gender</th>\n",
              "      <th>birth_day</th>\n",
              "      <th>age</th>\n",
              "      <th>postal_cd</th>\n",
              "      <th>address</th>\n",
              "      <th>application_store_cd</th>\n",
              "      <th>application_date</th>\n",
              "      <th>status_cd</th>\n",
              "    </tr>\n",
              "  </thead>\n",
              "  <tbody>\n",
              "    <tr>\n",
              "      <th>12</th>\n",
              "      <td>CS011215000048</td>\n",
              "      <td>芦田 沙耶</td>\n",
              "      <td>1</td>\n",
              "      <td>女性</td>\n",
              "      <td>1992-02-01</td>\n",
              "      <td>27</td>\n",
              "      <td>223-0062</td>\n",
              "      <td>神奈川県横浜市港北区日吉本町**********</td>\n",
              "      <td>S14011</td>\n",
              "      <td>20150228</td>\n",
              "      <td>C-20100421-9</td>\n",
              "    </tr>\n",
              "    <tr>\n",
              "      <th>68</th>\n",
              "      <td>CS022513000105</td>\n",
              "      <td>島村 貴美子</td>\n",
              "      <td>1</td>\n",
              "      <td>女性</td>\n",
              "      <td>1962-03-12</td>\n",
              "      <td>57</td>\n",
              "      <td>249-0002</td>\n",
              "      <td>神奈川県逗子市山の根**********</td>\n",
              "      <td>S14022</td>\n",
              "      <td>20150320</td>\n",
              "      <td>A-20091115-7</td>\n",
              "    </tr>\n",
              "    <tr>\n",
              "      <th>71</th>\n",
              "      <td>CS001515000096</td>\n",
              "      <td>水野 陽子</td>\n",
              "      <td>9</td>\n",
              "      <td>不明</td>\n",
              "      <td>1960-11-29</td>\n",
              "      <td>58</td>\n",
              "      <td>144-0053</td>\n",
              "      <td>東京都大田区蒲田本町**********</td>\n",
              "      <td>S13001</td>\n",
              "      <td>20150614</td>\n",
              "      <td>A-20100724-7</td>\n",
              "    </tr>\n",
              "    <tr>\n",
              "      <th>122</th>\n",
              "      <td>CS013615000053</td>\n",
              "      <td>西脇 季衣</td>\n",
              "      <td>1</td>\n",
              "      <td>女性</td>\n",
              "      <td>1953-10-18</td>\n",
              "      <td>65</td>\n",
              "      <td>261-0026</td>\n",
              "      <td>千葉県千葉市美浜区幕張西**********</td>\n",
              "      <td>S12013</td>\n",
              "      <td>20150128</td>\n",
              "      <td>B-20100329-6</td>\n",
              "    </tr>\n",
              "    <tr>\n",
              "      <th>144</th>\n",
              "      <td>CS020412000161</td>\n",
              "      <td>小宮 薫</td>\n",
              "      <td>1</td>\n",
              "      <td>女性</td>\n",
              "      <td>1974-05-21</td>\n",
              "      <td>44</td>\n",
              "      <td>174-0042</td>\n",
              "      <td>東京都板橋区東坂下**********</td>\n",
              "      <td>S13020</td>\n",
              "      <td>20150822</td>\n",
              "      <td>B-20081021-3</td>\n",
              "    </tr>\n",
              "    <tr>\n",
              "      <th>178</th>\n",
              "      <td>CS001215000097</td>\n",
              "      <td>竹中 あさみ</td>\n",
              "      <td>1</td>\n",
              "      <td>女性</td>\n",
              "      <td>1990-07-25</td>\n",
              "      <td>28</td>\n",
              "      <td>146-0095</td>\n",
              "      <td>東京都大田区多摩川**********</td>\n",
              "      <td>S13001</td>\n",
              "      <td>20170315</td>\n",
              "      <td>A-20100211-2</td>\n",
              "    </tr>\n",
              "    <tr>\n",
              "      <th>252</th>\n",
              "      <td>CS035212000007</td>\n",
              "      <td>内村 恵梨香</td>\n",
              "      <td>1</td>\n",
              "      <td>女性</td>\n",
              "      <td>1990-12-04</td>\n",
              "      <td>28</td>\n",
              "      <td>152-0023</td>\n",
              "      <td>東京都目黒区八雲**********</td>\n",
              "      <td>S13035</td>\n",
              "      <td>20151013</td>\n",
              "      <td>B-20101018-6</td>\n",
              "    </tr>\n",
              "    <tr>\n",
              "      <th>259</th>\n",
              "      <td>CS002515000386</td>\n",
              "      <td>野田 コウ</td>\n",
              "      <td>1</td>\n",
              "      <td>女性</td>\n",
              "      <td>1963-05-30</td>\n",
              "      <td>55</td>\n",
              "      <td>185-0013</td>\n",
              "      <td>東京都国分寺市西恋ケ窪**********</td>\n",
              "      <td>S13002</td>\n",
              "      <td>20160410</td>\n",
              "      <td>C-20100127-8</td>\n",
              "    </tr>\n",
              "    <tr>\n",
              "      <th>293</th>\n",
              "      <td>CS001615000372</td>\n",
              "      <td>稲垣 寿々花</td>\n",
              "      <td>1</td>\n",
              "      <td>女性</td>\n",
              "      <td>1956-10-29</td>\n",
              "      <td>62</td>\n",
              "      <td>144-0035</td>\n",
              "      <td>東京都大田区南蒲田**********</td>\n",
              "      <td>S13001</td>\n",
              "      <td>20170403</td>\n",
              "      <td>A-20100104-1</td>\n",
              "    </tr>\n",
              "    <tr>\n",
              "      <th>297</th>\n",
              "      <td>CS032512000121</td>\n",
              "      <td>松井 知世</td>\n",
              "      <td>1</td>\n",
              "      <td>女性</td>\n",
              "      <td>1962-09-04</td>\n",
              "      <td>56</td>\n",
              "      <td>210-0011</td>\n",
              "      <td>神奈川県川崎市川崎区富士見**********</td>\n",
              "      <td>S13032</td>\n",
              "      <td>20150727</td>\n",
              "      <td>A-20100103-5</td>\n",
              "    </tr>\n",
              "  </tbody>\n",
              "</table>\n",
              "</div>"
            ],
            "text/plain": [
              "        customer_id customer_name  ...  application_date     status_cd\n",
              "12   CS011215000048         芦田 沙耶  ...          20150228  C-20100421-9\n",
              "68   CS022513000105        島村 貴美子  ...          20150320  A-20091115-7\n",
              "71   CS001515000096         水野 陽子  ...          20150614  A-20100724-7\n",
              "122  CS013615000053         西脇 季衣  ...          20150128  B-20100329-6\n",
              "144  CS020412000161          小宮 薫  ...          20150822  B-20081021-3\n",
              "178  CS001215000097        竹中 あさみ  ...          20170315  A-20100211-2\n",
              "252  CS035212000007        内村 恵梨香  ...          20151013  B-20101018-6\n",
              "259  CS002515000386         野田 コウ  ...          20160410  C-20100127-8\n",
              "293  CS001615000372        稲垣 寿々花  ...          20170403  A-20100104-1\n",
              "297  CS032512000121         松井 知世  ...          20150727  A-20100103-5\n",
              "\n",
              "[10 rows x 11 columns]"
            ]
          },
          "metadata": {
            "tags": []
          },
          "execution_count": 16
        }
      ]
    },
    {
      "cell_type": "markdown",
      "metadata": {
        "id": "48UCinEUhhyF",
        "colab_type": "text"
      },
      "source": [
        "---\n",
        "> P-016: 店舗データフレーム（df_store）から、電話番号（tel_no）が3桁-3桁-4桁のデータを全項目表示せよ。"
      ]
    },
    {
      "cell_type": "code",
      "metadata": {
        "trusted": false,
        "id": "SrA3BoD5hhyF",
        "colab_type": "code",
        "colab": {
          "base_uri": "https://localhost:8080/",
          "height": 1000
        },
        "outputId": "09878d37-2f06-46ee-e587-ea9d48e9345c"
      },
      "source": [
        "df_store[df_store['tel_no'].str.contains('^.{3}-.{3}-.{4}$')]"
      ],
      "execution_count": 17,
      "outputs": [
        {
          "output_type": "execute_result",
          "data": {
            "text/html": [
              "<div>\n",
              "<style scoped>\n",
              "    .dataframe tbody tr th:only-of-type {\n",
              "        vertical-align: middle;\n",
              "    }\n",
              "\n",
              "    .dataframe tbody tr th {\n",
              "        vertical-align: top;\n",
              "    }\n",
              "\n",
              "    .dataframe thead th {\n",
              "        text-align: right;\n",
              "    }\n",
              "</style>\n",
              "<table border=\"1\" class=\"dataframe\">\n",
              "  <thead>\n",
              "    <tr style=\"text-align: right;\">\n",
              "      <th></th>\n",
              "      <th>store_cd</th>\n",
              "      <th>store_name</th>\n",
              "      <th>prefecture_cd</th>\n",
              "      <th>prefecture</th>\n",
              "      <th>address</th>\n",
              "      <th>address_kana</th>\n",
              "      <th>tel_no</th>\n",
              "      <th>longitude</th>\n",
              "      <th>latitude</th>\n",
              "      <th>floor_area</th>\n",
              "    </tr>\n",
              "  </thead>\n",
              "  <tbody>\n",
              "    <tr>\n",
              "      <th>0</th>\n",
              "      <td>S12014</td>\n",
              "      <td>千草台店</td>\n",
              "      <td>12</td>\n",
              "      <td>千葉県</td>\n",
              "      <td>千葉県千葉市稲毛区千草台一丁目</td>\n",
              "      <td>チバケンチバシイナゲクチグサダイイッチョウメ</td>\n",
              "      <td>043-123-4003</td>\n",
              "      <td>140.1180</td>\n",
              "      <td>35.63559</td>\n",
              "      <td>1698.0</td>\n",
              "    </tr>\n",
              "    <tr>\n",
              "      <th>1</th>\n",
              "      <td>S13002</td>\n",
              "      <td>国分寺店</td>\n",
              "      <td>13</td>\n",
              "      <td>東京都</td>\n",
              "      <td>東京都国分寺市本多二丁目</td>\n",
              "      <td>トウキョウトコクブンジシホンダニチョウメ</td>\n",
              "      <td>042-123-4008</td>\n",
              "      <td>139.4802</td>\n",
              "      <td>35.70566</td>\n",
              "      <td>1735.0</td>\n",
              "    </tr>\n",
              "    <tr>\n",
              "      <th>2</th>\n",
              "      <td>S14010</td>\n",
              "      <td>菊名店</td>\n",
              "      <td>14</td>\n",
              "      <td>神奈川県</td>\n",
              "      <td>神奈川県横浜市港北区菊名一丁目</td>\n",
              "      <td>カナガワケンヨコハマシコウホククキクナイッチョウメ</td>\n",
              "      <td>045-123-4032</td>\n",
              "      <td>139.6326</td>\n",
              "      <td>35.50049</td>\n",
              "      <td>1732.0</td>\n",
              "    </tr>\n",
              "    <tr>\n",
              "      <th>3</th>\n",
              "      <td>S14033</td>\n",
              "      <td>阿久和店</td>\n",
              "      <td>14</td>\n",
              "      <td>神奈川県</td>\n",
              "      <td>神奈川県横浜市瀬谷区阿久和西一丁目</td>\n",
              "      <td>カナガワケンヨコハマシセヤクアクワニシイッチョウメ</td>\n",
              "      <td>045-123-4043</td>\n",
              "      <td>139.4961</td>\n",
              "      <td>35.45918</td>\n",
              "      <td>1495.0</td>\n",
              "    </tr>\n",
              "    <tr>\n",
              "      <th>4</th>\n",
              "      <td>S14036</td>\n",
              "      <td>相模原中央店</td>\n",
              "      <td>14</td>\n",
              "      <td>神奈川県</td>\n",
              "      <td>神奈川県相模原市中央二丁目</td>\n",
              "      <td>カナガワケンサガミハラシチュウオウニチョウメ</td>\n",
              "      <td>042-123-4045</td>\n",
              "      <td>139.3716</td>\n",
              "      <td>35.57327</td>\n",
              "      <td>1679.0</td>\n",
              "    </tr>\n",
              "    <tr>\n",
              "      <th>7</th>\n",
              "      <td>S14040</td>\n",
              "      <td>長津田店</td>\n",
              "      <td>14</td>\n",
              "      <td>神奈川県</td>\n",
              "      <td>神奈川県横浜市緑区長津田みなみ台五丁目</td>\n",
              "      <td>カナガワケンヨコハマシミドリクナガツタミナミダイゴチョウメ</td>\n",
              "      <td>045-123-4046</td>\n",
              "      <td>139.4994</td>\n",
              "      <td>35.52398</td>\n",
              "      <td>1548.0</td>\n",
              "    </tr>\n",
              "    <tr>\n",
              "      <th>9</th>\n",
              "      <td>S14050</td>\n",
              "      <td>阿久和西店</td>\n",
              "      <td>14</td>\n",
              "      <td>神奈川県</td>\n",
              "      <td>神奈川県横浜市瀬谷区阿久和西一丁目</td>\n",
              "      <td>カナガワケンヨコハマシセヤクアクワニシイッチョウメ</td>\n",
              "      <td>045-123-4053</td>\n",
              "      <td>139.4961</td>\n",
              "      <td>35.45918</td>\n",
              "      <td>1830.0</td>\n",
              "    </tr>\n",
              "    <tr>\n",
              "      <th>11</th>\n",
              "      <td>S13052</td>\n",
              "      <td>森野店</td>\n",
              "      <td>13</td>\n",
              "      <td>東京都</td>\n",
              "      <td>東京都町田市森野三丁目</td>\n",
              "      <td>トウキョウトマチダシモリノサンチョウメ</td>\n",
              "      <td>042-123-4030</td>\n",
              "      <td>139.4383</td>\n",
              "      <td>35.55293</td>\n",
              "      <td>1087.0</td>\n",
              "    </tr>\n",
              "    <tr>\n",
              "      <th>12</th>\n",
              "      <td>S14028</td>\n",
              "      <td>二ツ橋店</td>\n",
              "      <td>14</td>\n",
              "      <td>神奈川県</td>\n",
              "      <td>神奈川県横浜市瀬谷区二ツ橋町</td>\n",
              "      <td>カナガワケンヨコハマシセヤクフタツバシチョウ</td>\n",
              "      <td>045-123-4042</td>\n",
              "      <td>139.4963</td>\n",
              "      <td>35.46304</td>\n",
              "      <td>1574.0</td>\n",
              "    </tr>\n",
              "    <tr>\n",
              "      <th>16</th>\n",
              "      <td>S14012</td>\n",
              "      <td>本牧和田店</td>\n",
              "      <td>14</td>\n",
              "      <td>神奈川県</td>\n",
              "      <td>神奈川県横浜市中区本牧和田</td>\n",
              "      <td>カナガワケンヨコハマシナカクホンモクワダ</td>\n",
              "      <td>045-123-4034</td>\n",
              "      <td>139.6582</td>\n",
              "      <td>35.42156</td>\n",
              "      <td>1341.0</td>\n",
              "    </tr>\n",
              "    <tr>\n",
              "      <th>18</th>\n",
              "      <td>S14046</td>\n",
              "      <td>北山田店</td>\n",
              "      <td>14</td>\n",
              "      <td>神奈川県</td>\n",
              "      <td>神奈川県横浜市都筑区北山田一丁目</td>\n",
              "      <td>カナガワケンヨコハマシツヅキクキタヤマタイッチョウメ</td>\n",
              "      <td>045-123-4049</td>\n",
              "      <td>139.5916</td>\n",
              "      <td>35.56189</td>\n",
              "      <td>831.0</td>\n",
              "    </tr>\n",
              "    <tr>\n",
              "      <th>19</th>\n",
              "      <td>S14022</td>\n",
              "      <td>逗子店</td>\n",
              "      <td>14</td>\n",
              "      <td>神奈川県</td>\n",
              "      <td>神奈川県逗子市逗子一丁目</td>\n",
              "      <td>カナガワケンズシシズシイッチョウメ</td>\n",
              "      <td>046-123-4036</td>\n",
              "      <td>139.5789</td>\n",
              "      <td>35.29642</td>\n",
              "      <td>1838.0</td>\n",
              "    </tr>\n",
              "    <tr>\n",
              "      <th>20</th>\n",
              "      <td>S14011</td>\n",
              "      <td>日吉本町店</td>\n",
              "      <td>14</td>\n",
              "      <td>神奈川県</td>\n",
              "      <td>神奈川県横浜市港北区日吉本町四丁目</td>\n",
              "      <td>カナガワケンヨコハマシコウホククヒヨシホンチョウヨンチョウメ</td>\n",
              "      <td>045-123-4033</td>\n",
              "      <td>139.6316</td>\n",
              "      <td>35.54655</td>\n",
              "      <td>890.0</td>\n",
              "    </tr>\n",
              "    <tr>\n",
              "      <th>21</th>\n",
              "      <td>S13016</td>\n",
              "      <td>小金井店</td>\n",
              "      <td>13</td>\n",
              "      <td>東京都</td>\n",
              "      <td>東京都小金井市本町一丁目</td>\n",
              "      <td>トウキョウトコガネイシホンチョウイッチョウメ</td>\n",
              "      <td>042-123-4015</td>\n",
              "      <td>139.5094</td>\n",
              "      <td>35.70018</td>\n",
              "      <td>1399.0</td>\n",
              "    </tr>\n",
              "    <tr>\n",
              "      <th>22</th>\n",
              "      <td>S14034</td>\n",
              "      <td>川崎野川店</td>\n",
              "      <td>14</td>\n",
              "      <td>神奈川県</td>\n",
              "      <td>神奈川県川崎市宮前区野川</td>\n",
              "      <td>カナガワケンカワサキシミヤマエクノガワ</td>\n",
              "      <td>044-123-4044</td>\n",
              "      <td>139.5998</td>\n",
              "      <td>35.57693</td>\n",
              "      <td>1318.0</td>\n",
              "    </tr>\n",
              "    <tr>\n",
              "      <th>26</th>\n",
              "      <td>S14048</td>\n",
              "      <td>中川中央店</td>\n",
              "      <td>14</td>\n",
              "      <td>神奈川県</td>\n",
              "      <td>神奈川県横浜市都筑区中川中央二丁目</td>\n",
              "      <td>カナガワケンヨコハマシツヅキクナカガワチュウオウニチョウメ</td>\n",
              "      <td>045-123-4051</td>\n",
              "      <td>139.5758</td>\n",
              "      <td>35.54912</td>\n",
              "      <td>1657.0</td>\n",
              "    </tr>\n",
              "    <tr>\n",
              "      <th>27</th>\n",
              "      <td>S12007</td>\n",
              "      <td>佐倉店</td>\n",
              "      <td>12</td>\n",
              "      <td>千葉県</td>\n",
              "      <td>千葉県佐倉市上志津</td>\n",
              "      <td>チバケンサクラシカミシヅ</td>\n",
              "      <td>043-123-4001</td>\n",
              "      <td>140.1452</td>\n",
              "      <td>35.71872</td>\n",
              "      <td>1895.0</td>\n",
              "    </tr>\n",
              "    <tr>\n",
              "      <th>28</th>\n",
              "      <td>S14026</td>\n",
              "      <td>辻堂西海岸店</td>\n",
              "      <td>14</td>\n",
              "      <td>神奈川県</td>\n",
              "      <td>神奈川県藤沢市辻堂西海岸二丁目</td>\n",
              "      <td>カナガワケンフジサワシツジドウニシカイガンニチョウメ</td>\n",
              "      <td>046-123-4040</td>\n",
              "      <td>139.4466</td>\n",
              "      <td>35.32464</td>\n",
              "      <td>1732.0</td>\n",
              "    </tr>\n",
              "    <tr>\n",
              "      <th>29</th>\n",
              "      <td>S13041</td>\n",
              "      <td>八王子店</td>\n",
              "      <td>13</td>\n",
              "      <td>東京都</td>\n",
              "      <td>東京都八王子市大塚</td>\n",
              "      <td>トウキョウトハチオウジシオオツカ</td>\n",
              "      <td>042-123-4026</td>\n",
              "      <td>139.4235</td>\n",
              "      <td>35.63787</td>\n",
              "      <td>810.0</td>\n",
              "    </tr>\n",
              "    <tr>\n",
              "      <th>31</th>\n",
              "      <td>S14049</td>\n",
              "      <td>川崎大師店</td>\n",
              "      <td>14</td>\n",
              "      <td>神奈川県</td>\n",
              "      <td>神奈川県川崎市川崎区中瀬三丁目</td>\n",
              "      <td>カナガワケンカワサキシカワサキクナカゼサンチョウメ</td>\n",
              "      <td>044-123-4052</td>\n",
              "      <td>139.7327</td>\n",
              "      <td>35.53759</td>\n",
              "      <td>962.0</td>\n",
              "    </tr>\n",
              "    <tr>\n",
              "      <th>32</th>\n",
              "      <td>S14023</td>\n",
              "      <td>川崎店</td>\n",
              "      <td>14</td>\n",
              "      <td>神奈川県</td>\n",
              "      <td>神奈川県川崎市川崎区本町二丁目</td>\n",
              "      <td>カナガワケンカワサキシカワサキクホンチョウニチョウメ</td>\n",
              "      <td>044-123-4037</td>\n",
              "      <td>139.7028</td>\n",
              "      <td>35.53599</td>\n",
              "      <td>1804.0</td>\n",
              "    </tr>\n",
              "    <tr>\n",
              "      <th>33</th>\n",
              "      <td>S13018</td>\n",
              "      <td>清瀬店</td>\n",
              "      <td>13</td>\n",
              "      <td>東京都</td>\n",
              "      <td>東京都清瀬市松山一丁目</td>\n",
              "      <td>トウキョウトキヨセシマツヤマイッチョウメ</td>\n",
              "      <td>042-123-4017</td>\n",
              "      <td>139.5178</td>\n",
              "      <td>35.76885</td>\n",
              "      <td>1220.0</td>\n",
              "    </tr>\n",
              "    <tr>\n",
              "      <th>35</th>\n",
              "      <td>S14027</td>\n",
              "      <td>南藤沢店</td>\n",
              "      <td>14</td>\n",
              "      <td>神奈川県</td>\n",
              "      <td>神奈川県藤沢市南藤沢</td>\n",
              "      <td>カナガワケンフジサワシミナミフジサワ</td>\n",
              "      <td>046-123-4041</td>\n",
              "      <td>139.4896</td>\n",
              "      <td>35.33762</td>\n",
              "      <td>1521.0</td>\n",
              "    </tr>\n",
              "    <tr>\n",
              "      <th>36</th>\n",
              "      <td>S14021</td>\n",
              "      <td>伊勢原店</td>\n",
              "      <td>14</td>\n",
              "      <td>神奈川県</td>\n",
              "      <td>神奈川県伊勢原市伊勢原四丁目</td>\n",
              "      <td>カナガワケンイセハラシイセハラヨンチョウメ</td>\n",
              "      <td>046-123-4035</td>\n",
              "      <td>139.3129</td>\n",
              "      <td>35.40169</td>\n",
              "      <td>962.0</td>\n",
              "    </tr>\n",
              "    <tr>\n",
              "      <th>37</th>\n",
              "      <td>S14047</td>\n",
              "      <td>相模原店</td>\n",
              "      <td>14</td>\n",
              "      <td>神奈川県</td>\n",
              "      <td>神奈川県相模原市千代田六丁目</td>\n",
              "      <td>カナガワケンサガミハラシチヨダロクチョウメ</td>\n",
              "      <td>042-123-4050</td>\n",
              "      <td>139.3748</td>\n",
              "      <td>35.55959</td>\n",
              "      <td>1047.0</td>\n",
              "    </tr>\n",
              "    <tr>\n",
              "      <th>38</th>\n",
              "      <td>S12013</td>\n",
              "      <td>習志野店</td>\n",
              "      <td>12</td>\n",
              "      <td>千葉県</td>\n",
              "      <td>千葉県習志野市芝園一丁目</td>\n",
              "      <td>チバケンナラシノシシバゾノイッチョウメ</td>\n",
              "      <td>047-123-4002</td>\n",
              "      <td>140.0220</td>\n",
              "      <td>35.66122</td>\n",
              "      <td>808.0</td>\n",
              "    </tr>\n",
              "    <tr>\n",
              "      <th>40</th>\n",
              "      <td>S14042</td>\n",
              "      <td>新山下店</td>\n",
              "      <td>14</td>\n",
              "      <td>神奈川県</td>\n",
              "      <td>神奈川県横浜市中区新山下二丁目</td>\n",
              "      <td>カナガワケンヨコハマシナカクシンヤマシタニチョウメ</td>\n",
              "      <td>045-123-4047</td>\n",
              "      <td>139.6593</td>\n",
              "      <td>35.43894</td>\n",
              "      <td>1044.0</td>\n",
              "    </tr>\n",
              "    <tr>\n",
              "      <th>42</th>\n",
              "      <td>S12030</td>\n",
              "      <td>八幡店</td>\n",
              "      <td>12</td>\n",
              "      <td>千葉県</td>\n",
              "      <td>千葉県市川市八幡三丁目</td>\n",
              "      <td>チバケンイチカワシヤワタサンチョウメ</td>\n",
              "      <td>047-123-4005</td>\n",
              "      <td>139.9240</td>\n",
              "      <td>35.72318</td>\n",
              "      <td>1162.0</td>\n",
              "    </tr>\n",
              "    <tr>\n",
              "      <th>44</th>\n",
              "      <td>S14025</td>\n",
              "      <td>大和店</td>\n",
              "      <td>14</td>\n",
              "      <td>神奈川県</td>\n",
              "      <td>神奈川県大和市下和田</td>\n",
              "      <td>カナガワケンヤマトシシモワダ</td>\n",
              "      <td>046-123-4039</td>\n",
              "      <td>139.4680</td>\n",
              "      <td>35.43414</td>\n",
              "      <td>1011.0</td>\n",
              "    </tr>\n",
              "    <tr>\n",
              "      <th>45</th>\n",
              "      <td>S14045</td>\n",
              "      <td>厚木店</td>\n",
              "      <td>14</td>\n",
              "      <td>神奈川県</td>\n",
              "      <td>神奈川県厚木市中町二丁目</td>\n",
              "      <td>カナガワケンアツギシナカチョウニチョウメ</td>\n",
              "      <td>046-123-4048</td>\n",
              "      <td>139.3651</td>\n",
              "      <td>35.44182</td>\n",
              "      <td>980.0</td>\n",
              "    </tr>\n",
              "    <tr>\n",
              "      <th>47</th>\n",
              "      <td>S12029</td>\n",
              "      <td>東野店</td>\n",
              "      <td>12</td>\n",
              "      <td>千葉県</td>\n",
              "      <td>千葉県浦安市東野一丁目</td>\n",
              "      <td>チバケンウラヤスシヒガシノイッチョウメ</td>\n",
              "      <td>047-123-4004</td>\n",
              "      <td>139.8968</td>\n",
              "      <td>35.65086</td>\n",
              "      <td>1101.0</td>\n",
              "    </tr>\n",
              "    <tr>\n",
              "      <th>49</th>\n",
              "      <td>S12053</td>\n",
              "      <td>高洲店</td>\n",
              "      <td>12</td>\n",
              "      <td>千葉県</td>\n",
              "      <td>千葉県浦安市高洲五丁目</td>\n",
              "      <td>チバケンウラヤスシタカスゴチョウメ</td>\n",
              "      <td>047-123-4006</td>\n",
              "      <td>139.9176</td>\n",
              "      <td>35.63755</td>\n",
              "      <td>1555.0</td>\n",
              "    </tr>\n",
              "    <tr>\n",
              "      <th>51</th>\n",
              "      <td>S14024</td>\n",
              "      <td>三田店</td>\n",
              "      <td>14</td>\n",
              "      <td>神奈川県</td>\n",
              "      <td>神奈川県川崎市多摩区三田四丁目</td>\n",
              "      <td>カナガワケンカワサキシタマクミタヨンチョウメ</td>\n",
              "      <td>044-123-4038</td>\n",
              "      <td>139.5424</td>\n",
              "      <td>35.60770</td>\n",
              "      <td>972.0</td>\n",
              "    </tr>\n",
              "    <tr>\n",
              "      <th>52</th>\n",
              "      <td>S14006</td>\n",
              "      <td>葛が谷店</td>\n",
              "      <td>14</td>\n",
              "      <td>神奈川県</td>\n",
              "      <td>神奈川県横浜市都筑区葛が谷</td>\n",
              "      <td>カナガワケンヨコハマシツヅキククズガヤ</td>\n",
              "      <td>045-123-4031</td>\n",
              "      <td>139.5633</td>\n",
              "      <td>35.53573</td>\n",
              "      <td>1886.0</td>\n",
              "    </tr>\n",
              "  </tbody>\n",
              "</table>\n",
              "</div>"
            ],
            "text/plain": [
              "   store_cd store_name  prefecture_cd  ... longitude  latitude floor_area\n",
              "0    S12014       千草台店             12  ...  140.1180  35.63559     1698.0\n",
              "1    S13002       国分寺店             13  ...  139.4802  35.70566     1735.0\n",
              "2    S14010        菊名店             14  ...  139.6326  35.50049     1732.0\n",
              "3    S14033       阿久和店             14  ...  139.4961  35.45918     1495.0\n",
              "4    S14036     相模原中央店             14  ...  139.3716  35.57327     1679.0\n",
              "7    S14040       長津田店             14  ...  139.4994  35.52398     1548.0\n",
              "9    S14050      阿久和西店             14  ...  139.4961  35.45918     1830.0\n",
              "11   S13052        森野店             13  ...  139.4383  35.55293     1087.0\n",
              "12   S14028       二ツ橋店             14  ...  139.4963  35.46304     1574.0\n",
              "16   S14012      本牧和田店             14  ...  139.6582  35.42156     1341.0\n",
              "18   S14046       北山田店             14  ...  139.5916  35.56189      831.0\n",
              "19   S14022        逗子店             14  ...  139.5789  35.29642     1838.0\n",
              "20   S14011      日吉本町店             14  ...  139.6316  35.54655      890.0\n",
              "21   S13016       小金井店             13  ...  139.5094  35.70018     1399.0\n",
              "22   S14034      川崎野川店             14  ...  139.5998  35.57693     1318.0\n",
              "26   S14048      中川中央店             14  ...  139.5758  35.54912     1657.0\n",
              "27   S12007        佐倉店             12  ...  140.1452  35.71872     1895.0\n",
              "28   S14026     辻堂西海岸店             14  ...  139.4466  35.32464     1732.0\n",
              "29   S13041       八王子店             13  ...  139.4235  35.63787      810.0\n",
              "31   S14049      川崎大師店             14  ...  139.7327  35.53759      962.0\n",
              "32   S14023        川崎店             14  ...  139.7028  35.53599     1804.0\n",
              "33   S13018        清瀬店             13  ...  139.5178  35.76885     1220.0\n",
              "35   S14027       南藤沢店             14  ...  139.4896  35.33762     1521.0\n",
              "36   S14021       伊勢原店             14  ...  139.3129  35.40169      962.0\n",
              "37   S14047       相模原店             14  ...  139.3748  35.55959     1047.0\n",
              "38   S12013       習志野店             12  ...  140.0220  35.66122      808.0\n",
              "40   S14042       新山下店             14  ...  139.6593  35.43894     1044.0\n",
              "42   S12030        八幡店             12  ...  139.9240  35.72318     1162.0\n",
              "44   S14025        大和店             14  ...  139.4680  35.43414     1011.0\n",
              "45   S14045        厚木店             14  ...  139.3651  35.44182      980.0\n",
              "47   S12029        東野店             12  ...  139.8968  35.65086     1101.0\n",
              "49   S12053        高洲店             12  ...  139.9176  35.63755     1555.0\n",
              "51   S14024        三田店             14  ...  139.5424  35.60770      972.0\n",
              "52   S14006       葛が谷店             14  ...  139.5633  35.53573     1886.0\n",
              "\n",
              "[34 rows x 10 columns]"
            ]
          },
          "metadata": {
            "tags": []
          },
          "execution_count": 17
        }
      ]
    },
    {
      "cell_type": "markdown",
      "metadata": {
        "id": "KnSy736bhhyH",
        "colab_type": "text"
      },
      "source": [
        "---\n",
        "> P-17: 顧客データフレーム（df_customer）を生年月日（birth_day）で高齢順にソートし、先頭10件を全項目表示せよ。"
      ]
    },
    {
      "cell_type": "code",
      "metadata": {
        "trusted": false,
        "id": "5gjQipFAhhyH",
        "colab_type": "code",
        "colab": {
          "base_uri": "https://localhost:8080/",
          "height": 359
        },
        "outputId": "88b746ec-3639-4d6a-f586-ca40a16b2067"
      },
      "source": [
        "df_customer.sort_values(by='birth_day').head(10)"
      ],
      "execution_count": 18,
      "outputs": [
        {
          "output_type": "execute_result",
          "data": {
            "text/html": [
              "<div>\n",
              "<style scoped>\n",
              "    .dataframe tbody tr th:only-of-type {\n",
              "        vertical-align: middle;\n",
              "    }\n",
              "\n",
              "    .dataframe tbody tr th {\n",
              "        vertical-align: top;\n",
              "    }\n",
              "\n",
              "    .dataframe thead th {\n",
              "        text-align: right;\n",
              "    }\n",
              "</style>\n",
              "<table border=\"1\" class=\"dataframe\">\n",
              "  <thead>\n",
              "    <tr style=\"text-align: right;\">\n",
              "      <th></th>\n",
              "      <th>customer_id</th>\n",
              "      <th>customer_name</th>\n",
              "      <th>gender_cd</th>\n",
              "      <th>gender</th>\n",
              "      <th>birth_day</th>\n",
              "      <th>age</th>\n",
              "      <th>postal_cd</th>\n",
              "      <th>address</th>\n",
              "      <th>application_store_cd</th>\n",
              "      <th>application_date</th>\n",
              "      <th>status_cd</th>\n",
              "    </tr>\n",
              "  </thead>\n",
              "  <tbody>\n",
              "    <tr>\n",
              "      <th>18817</th>\n",
              "      <td>CS003813000014</td>\n",
              "      <td>村山 菜々美</td>\n",
              "      <td>1</td>\n",
              "      <td>女性</td>\n",
              "      <td>1928-11-26</td>\n",
              "      <td>90</td>\n",
              "      <td>182-0007</td>\n",
              "      <td>東京都調布市菊野台**********</td>\n",
              "      <td>S13003</td>\n",
              "      <td>20160214</td>\n",
              "      <td>0-00000000-0</td>\n",
              "    </tr>\n",
              "    <tr>\n",
              "      <th>12328</th>\n",
              "      <td>CS026813000004</td>\n",
              "      <td>吉村 朝陽</td>\n",
              "      <td>1</td>\n",
              "      <td>女性</td>\n",
              "      <td>1928-12-14</td>\n",
              "      <td>90</td>\n",
              "      <td>251-0043</td>\n",
              "      <td>神奈川県藤沢市辻堂元町**********</td>\n",
              "      <td>S14026</td>\n",
              "      <td>20150723</td>\n",
              "      <td>0-00000000-0</td>\n",
              "    </tr>\n",
              "    <tr>\n",
              "      <th>15682</th>\n",
              "      <td>CS018811000003</td>\n",
              "      <td>熊沢 美里</td>\n",
              "      <td>1</td>\n",
              "      <td>女性</td>\n",
              "      <td>1929-01-07</td>\n",
              "      <td>90</td>\n",
              "      <td>204-0004</td>\n",
              "      <td>東京都清瀬市野塩**********</td>\n",
              "      <td>S13018</td>\n",
              "      <td>20150403</td>\n",
              "      <td>0-00000000-0</td>\n",
              "    </tr>\n",
              "    <tr>\n",
              "      <th>15302</th>\n",
              "      <td>CS027803000004</td>\n",
              "      <td>内村 拓郎</td>\n",
              "      <td>0</td>\n",
              "      <td>男性</td>\n",
              "      <td>1929-01-12</td>\n",
              "      <td>90</td>\n",
              "      <td>251-0031</td>\n",
              "      <td>神奈川県藤沢市鵠沼藤が谷**********</td>\n",
              "      <td>S14027</td>\n",
              "      <td>20151227</td>\n",
              "      <td>0-00000000-0</td>\n",
              "    </tr>\n",
              "    <tr>\n",
              "      <th>1681</th>\n",
              "      <td>CS013801000003</td>\n",
              "      <td>天野 拓郎</td>\n",
              "      <td>0</td>\n",
              "      <td>男性</td>\n",
              "      <td>1929-01-15</td>\n",
              "      <td>90</td>\n",
              "      <td>274-0824</td>\n",
              "      <td>千葉県船橋市前原東**********</td>\n",
              "      <td>S12013</td>\n",
              "      <td>20160120</td>\n",
              "      <td>0-00000000-0</td>\n",
              "    </tr>\n",
              "    <tr>\n",
              "      <th>7511</th>\n",
              "      <td>CS001814000022</td>\n",
              "      <td>鶴田 里穂</td>\n",
              "      <td>1</td>\n",
              "      <td>女性</td>\n",
              "      <td>1929-01-28</td>\n",
              "      <td>90</td>\n",
              "      <td>144-0045</td>\n",
              "      <td>東京都大田区南六郷**********</td>\n",
              "      <td>S13001</td>\n",
              "      <td>20161012</td>\n",
              "      <td>A-20090415-7</td>\n",
              "    </tr>\n",
              "    <tr>\n",
              "      <th>2378</th>\n",
              "      <td>CS016815000002</td>\n",
              "      <td>山元 美紀</td>\n",
              "      <td>1</td>\n",
              "      <td>女性</td>\n",
              "      <td>1929-02-22</td>\n",
              "      <td>90</td>\n",
              "      <td>184-0005</td>\n",
              "      <td>東京都小金井市桜町**********</td>\n",
              "      <td>S13016</td>\n",
              "      <td>20150629</td>\n",
              "      <td>C-20090923-C</td>\n",
              "    </tr>\n",
              "    <tr>\n",
              "      <th>4680</th>\n",
              "      <td>CS009815000003</td>\n",
              "      <td>中田 里穂</td>\n",
              "      <td>1</td>\n",
              "      <td>女性</td>\n",
              "      <td>1929-04-08</td>\n",
              "      <td>89</td>\n",
              "      <td>154-0014</td>\n",
              "      <td>東京都世田谷区新町**********</td>\n",
              "      <td>S13009</td>\n",
              "      <td>20150421</td>\n",
              "      <td>D-20091021-E</td>\n",
              "    </tr>\n",
              "    <tr>\n",
              "      <th>16070</th>\n",
              "      <td>CS005813000015</td>\n",
              "      <td>金谷 恵梨香</td>\n",
              "      <td>1</td>\n",
              "      <td>女性</td>\n",
              "      <td>1929-04-09</td>\n",
              "      <td>89</td>\n",
              "      <td>165-0032</td>\n",
              "      <td>東京都中野区鷺宮**********</td>\n",
              "      <td>S13005</td>\n",
              "      <td>20150506</td>\n",
              "      <td>0-00000000-0</td>\n",
              "    </tr>\n",
              "    <tr>\n",
              "      <th>6305</th>\n",
              "      <td>CS012813000013</td>\n",
              "      <td>宇野 南朋</td>\n",
              "      <td>1</td>\n",
              "      <td>女性</td>\n",
              "      <td>1929-04-09</td>\n",
              "      <td>89</td>\n",
              "      <td>231-0806</td>\n",
              "      <td>神奈川県横浜市中区本牧町**********</td>\n",
              "      <td>S14012</td>\n",
              "      <td>20150712</td>\n",
              "      <td>0-00000000-0</td>\n",
              "    </tr>\n",
              "  </tbody>\n",
              "</table>\n",
              "</div>"
            ],
            "text/plain": [
              "          customer_id customer_name  ...  application_date     status_cd\n",
              "18817  CS003813000014        村山 菜々美  ...          20160214  0-00000000-0\n",
              "12328  CS026813000004         吉村 朝陽  ...          20150723  0-00000000-0\n",
              "15682  CS018811000003         熊沢 美里  ...          20150403  0-00000000-0\n",
              "15302  CS027803000004         内村 拓郎  ...          20151227  0-00000000-0\n",
              "1681   CS013801000003         天野 拓郎  ...          20160120  0-00000000-0\n",
              "7511   CS001814000022         鶴田 里穂  ...          20161012  A-20090415-7\n",
              "2378   CS016815000002         山元 美紀  ...          20150629  C-20090923-C\n",
              "4680   CS009815000003         中田 里穂  ...          20150421  D-20091021-E\n",
              "16070  CS005813000015        金谷 恵梨香  ...          20150506  0-00000000-0\n",
              "6305   CS012813000013         宇野 南朋  ...          20150712  0-00000000-0\n",
              "\n",
              "[10 rows x 11 columns]"
            ]
          },
          "metadata": {
            "tags": []
          },
          "execution_count": 18
        }
      ]
    },
    {
      "cell_type": "markdown",
      "metadata": {
        "id": "BDUAeRqshhyI",
        "colab_type": "text"
      },
      "source": [
        "---\n",
        "> P-18: 顧客データフレーム（df_customer）を生年月日（birth_day）で若い順にソートし、先頭10件を全項目表示せよ。"
      ]
    },
    {
      "cell_type": "code",
      "metadata": {
        "trusted": false,
        "id": "AkM5jZ2xhhyJ",
        "colab_type": "code",
        "colab": {
          "base_uri": "https://localhost:8080/",
          "height": 359
        },
        "outputId": "d2dca8c9-9f39-4c5c-aa3c-64c19c6521a7"
      },
      "source": [
        "df_customer.sort_values(by='birth_day', ascending=False).head(10)"
      ],
      "execution_count": 19,
      "outputs": [
        {
          "output_type": "execute_result",
          "data": {
            "text/html": [
              "<div>\n",
              "<style scoped>\n",
              "    .dataframe tbody tr th:only-of-type {\n",
              "        vertical-align: middle;\n",
              "    }\n",
              "\n",
              "    .dataframe tbody tr th {\n",
              "        vertical-align: top;\n",
              "    }\n",
              "\n",
              "    .dataframe thead th {\n",
              "        text-align: right;\n",
              "    }\n",
              "</style>\n",
              "<table border=\"1\" class=\"dataframe\">\n",
              "  <thead>\n",
              "    <tr style=\"text-align: right;\">\n",
              "      <th></th>\n",
              "      <th>customer_id</th>\n",
              "      <th>customer_name</th>\n",
              "      <th>gender_cd</th>\n",
              "      <th>gender</th>\n",
              "      <th>birth_day</th>\n",
              "      <th>age</th>\n",
              "      <th>postal_cd</th>\n",
              "      <th>address</th>\n",
              "      <th>application_store_cd</th>\n",
              "      <th>application_date</th>\n",
              "      <th>status_cd</th>\n",
              "    </tr>\n",
              "  </thead>\n",
              "  <tbody>\n",
              "    <tr>\n",
              "      <th>15639</th>\n",
              "      <td>CS035114000004</td>\n",
              "      <td>大村 美里</td>\n",
              "      <td>1</td>\n",
              "      <td>女性</td>\n",
              "      <td>2007-11-25</td>\n",
              "      <td>11</td>\n",
              "      <td>156-0053</td>\n",
              "      <td>東京都世田谷区桜**********</td>\n",
              "      <td>S13035</td>\n",
              "      <td>20150619</td>\n",
              "      <td>6-20091205-6</td>\n",
              "    </tr>\n",
              "    <tr>\n",
              "      <th>7468</th>\n",
              "      <td>CS022103000002</td>\n",
              "      <td>福山 はじめ</td>\n",
              "      <td>9</td>\n",
              "      <td>不明</td>\n",
              "      <td>2007-10-02</td>\n",
              "      <td>11</td>\n",
              "      <td>249-0006</td>\n",
              "      <td>神奈川県逗子市逗子**********</td>\n",
              "      <td>S14022</td>\n",
              "      <td>20160909</td>\n",
              "      <td>0-00000000-0</td>\n",
              "    </tr>\n",
              "    <tr>\n",
              "      <th>10745</th>\n",
              "      <td>CS002113000009</td>\n",
              "      <td>柴田 真悠子</td>\n",
              "      <td>1</td>\n",
              "      <td>女性</td>\n",
              "      <td>2007-09-17</td>\n",
              "      <td>11</td>\n",
              "      <td>184-0014</td>\n",
              "      <td>東京都小金井市貫井南町**********</td>\n",
              "      <td>S13002</td>\n",
              "      <td>20160304</td>\n",
              "      <td>0-00000000-0</td>\n",
              "    </tr>\n",
              "    <tr>\n",
              "      <th>19811</th>\n",
              "      <td>CS004115000014</td>\n",
              "      <td>松井 京子</td>\n",
              "      <td>1</td>\n",
              "      <td>女性</td>\n",
              "      <td>2007-08-09</td>\n",
              "      <td>11</td>\n",
              "      <td>165-0031</td>\n",
              "      <td>東京都中野区上鷺宮**********</td>\n",
              "      <td>S13004</td>\n",
              "      <td>20161120</td>\n",
              "      <td>1-20081231-1</td>\n",
              "    </tr>\n",
              "    <tr>\n",
              "      <th>7039</th>\n",
              "      <td>CS002114000010</td>\n",
              "      <td>山内 遥</td>\n",
              "      <td>1</td>\n",
              "      <td>女性</td>\n",
              "      <td>2007-06-03</td>\n",
              "      <td>11</td>\n",
              "      <td>184-0015</td>\n",
              "      <td>東京都小金井市貫井北町**********</td>\n",
              "      <td>S13002</td>\n",
              "      <td>20160920</td>\n",
              "      <td>6-20100510-1</td>\n",
              "    </tr>\n",
              "    <tr>\n",
              "      <th>3670</th>\n",
              "      <td>CS025115000002</td>\n",
              "      <td>小柳 夏希</td>\n",
              "      <td>1</td>\n",
              "      <td>女性</td>\n",
              "      <td>2007-04-18</td>\n",
              "      <td>11</td>\n",
              "      <td>245-0018</td>\n",
              "      <td>神奈川県横浜市泉区上飯田町**********</td>\n",
              "      <td>S14025</td>\n",
              "      <td>20160116</td>\n",
              "      <td>D-20100913-D</td>\n",
              "    </tr>\n",
              "    <tr>\n",
              "      <th>12493</th>\n",
              "      <td>CS002113000025</td>\n",
              "      <td>広末 まなみ</td>\n",
              "      <td>1</td>\n",
              "      <td>女性</td>\n",
              "      <td>2007-03-30</td>\n",
              "      <td>12</td>\n",
              "      <td>184-0015</td>\n",
              "      <td>東京都小金井市貫井北町**********</td>\n",
              "      <td>S13002</td>\n",
              "      <td>20171030</td>\n",
              "      <td>0-00000000-0</td>\n",
              "    </tr>\n",
              "    <tr>\n",
              "      <th>15977</th>\n",
              "      <td>CS033112000003</td>\n",
              "      <td>長野 美紀</td>\n",
              "      <td>1</td>\n",
              "      <td>女性</td>\n",
              "      <td>2007-03-22</td>\n",
              "      <td>12</td>\n",
              "      <td>245-0051</td>\n",
              "      <td>神奈川県横浜市戸塚区名瀬町**********</td>\n",
              "      <td>S14033</td>\n",
              "      <td>20150606</td>\n",
              "      <td>0-00000000-0</td>\n",
              "    </tr>\n",
              "    <tr>\n",
              "      <th>5716</th>\n",
              "      <td>CS007115000006</td>\n",
              "      <td>福岡 瞬</td>\n",
              "      <td>1</td>\n",
              "      <td>女性</td>\n",
              "      <td>2007-03-10</td>\n",
              "      <td>12</td>\n",
              "      <td>285-0845</td>\n",
              "      <td>千葉県佐倉市西志津**********</td>\n",
              "      <td>S12007</td>\n",
              "      <td>20151118</td>\n",
              "      <td>F-20101016-F</td>\n",
              "    </tr>\n",
              "    <tr>\n",
              "      <th>15097</th>\n",
              "      <td>CS014113000008</td>\n",
              "      <td>矢口 莉緒</td>\n",
              "      <td>1</td>\n",
              "      <td>女性</td>\n",
              "      <td>2007-03-05</td>\n",
              "      <td>12</td>\n",
              "      <td>260-0041</td>\n",
              "      <td>千葉県千葉市中央区東千葉**********</td>\n",
              "      <td>S12014</td>\n",
              "      <td>20150622</td>\n",
              "      <td>3-20091108-6</td>\n",
              "    </tr>\n",
              "  </tbody>\n",
              "</table>\n",
              "</div>"
            ],
            "text/plain": [
              "          customer_id customer_name  ...  application_date     status_cd\n",
              "15639  CS035114000004         大村 美里  ...          20150619  6-20091205-6\n",
              "7468   CS022103000002        福山 はじめ  ...          20160909  0-00000000-0\n",
              "10745  CS002113000009        柴田 真悠子  ...          20160304  0-00000000-0\n",
              "19811  CS004115000014         松井 京子  ...          20161120  1-20081231-1\n",
              "7039   CS002114000010          山内 遥  ...          20160920  6-20100510-1\n",
              "3670   CS025115000002         小柳 夏希  ...          20160116  D-20100913-D\n",
              "12493  CS002113000025        広末 まなみ  ...          20171030  0-00000000-0\n",
              "15977  CS033112000003         長野 美紀  ...          20150606  0-00000000-0\n",
              "5716   CS007115000006          福岡 瞬  ...          20151118  F-20101016-F\n",
              "15097  CS014113000008         矢口 莉緒  ...          20150622  3-20091108-6\n",
              "\n",
              "[10 rows x 11 columns]"
            ]
          },
          "metadata": {
            "tags": []
          },
          "execution_count": 19
        }
      ]
    },
    {
      "cell_type": "markdown",
      "metadata": {
        "id": "jIbxf5DwhhyK",
        "colab_type": "text"
      },
      "source": [
        "---\n",
        "> P-19: レシート明細データフレーム（df_receipt）に対し、1件あたりの売上金額（amount）が高い順にランクを付与し、先頭10件を抽出せよ。項目は顧客ID（customer_id）、売上金額（amount）、付与したランクを表示させること。なお、売上金額（amount）が等しい場合は同一順位を付与するものとする。"
      ]
    },
    {
      "cell_type": "code",
      "metadata": {
        "trusted": false,
        "id": "erXRPeQXhhyL",
        "colab_type": "code",
        "colab": {
          "base_uri": "https://localhost:8080/",
          "height": 359
        },
        "outputId": "1558d35e-f0af-4816-e2ea-207d0aa9a10f"
      },
      "source": [
        "rank = df_receipt['amount'].rank(method='dense', ascending=False)\n",
        "df_receipt['rank'] = rank\n",
        "df_receipt[['customer_id', 'amount', 'rank']].head(10)"
      ],
      "execution_count": 20,
      "outputs": [
        {
          "output_type": "execute_result",
          "data": {
            "text/html": [
              "<div>\n",
              "<style scoped>\n",
              "    .dataframe tbody tr th:only-of-type {\n",
              "        vertical-align: middle;\n",
              "    }\n",
              "\n",
              "    .dataframe tbody tr th {\n",
              "        vertical-align: top;\n",
              "    }\n",
              "\n",
              "    .dataframe thead th {\n",
              "        text-align: right;\n",
              "    }\n",
              "</style>\n",
              "<table border=\"1\" class=\"dataframe\">\n",
              "  <thead>\n",
              "    <tr style=\"text-align: right;\">\n",
              "      <th></th>\n",
              "      <th>customer_id</th>\n",
              "      <th>amount</th>\n",
              "      <th>rank</th>\n",
              "    </tr>\n",
              "  </thead>\n",
              "  <tbody>\n",
              "    <tr>\n",
              "      <th>0</th>\n",
              "      <td>CS006214000001</td>\n",
              "      <td>158</td>\n",
              "      <td>414.0</td>\n",
              "    </tr>\n",
              "    <tr>\n",
              "      <th>1</th>\n",
              "      <td>CS008415000097</td>\n",
              "      <td>81</td>\n",
              "      <td>462.0</td>\n",
              "    </tr>\n",
              "    <tr>\n",
              "      <th>2</th>\n",
              "      <td>CS028414000014</td>\n",
              "      <td>170</td>\n",
              "      <td>408.0</td>\n",
              "    </tr>\n",
              "    <tr>\n",
              "      <th>3</th>\n",
              "      <td>ZZ000000000000</td>\n",
              "      <td>25</td>\n",
              "      <td>486.0</td>\n",
              "    </tr>\n",
              "    <tr>\n",
              "      <th>4</th>\n",
              "      <td>CS025415000050</td>\n",
              "      <td>90</td>\n",
              "      <td>457.0</td>\n",
              "    </tr>\n",
              "    <tr>\n",
              "      <th>5</th>\n",
              "      <td>CS003515000195</td>\n",
              "      <td>138</td>\n",
              "      <td>427.0</td>\n",
              "    </tr>\n",
              "    <tr>\n",
              "      <th>6</th>\n",
              "      <td>CS024514000042</td>\n",
              "      <td>30</td>\n",
              "      <td>485.0</td>\n",
              "    </tr>\n",
              "    <tr>\n",
              "      <th>7</th>\n",
              "      <td>CS040415000178</td>\n",
              "      <td>128</td>\n",
              "      <td>432.0</td>\n",
              "    </tr>\n",
              "    <tr>\n",
              "      <th>8</th>\n",
              "      <td>ZZ000000000000</td>\n",
              "      <td>770</td>\n",
              "      <td>164.0</td>\n",
              "    </tr>\n",
              "    <tr>\n",
              "      <th>9</th>\n",
              "      <td>CS027514000015</td>\n",
              "      <td>680</td>\n",
              "      <td>190.0</td>\n",
              "    </tr>\n",
              "  </tbody>\n",
              "</table>\n",
              "</div>"
            ],
            "text/plain": [
              "      customer_id  amount   rank\n",
              "0  CS006214000001     158  414.0\n",
              "1  CS008415000097      81  462.0\n",
              "2  CS028414000014     170  408.0\n",
              "3  ZZ000000000000      25  486.0\n",
              "4  CS025415000050      90  457.0\n",
              "5  CS003515000195     138  427.0\n",
              "6  CS024514000042      30  485.0\n",
              "7  CS040415000178     128  432.0\n",
              "8  ZZ000000000000     770  164.0\n",
              "9  CS027514000015     680  190.0"
            ]
          },
          "metadata": {
            "tags": []
          },
          "execution_count": 20
        }
      ]
    },
    {
      "cell_type": "markdown",
      "metadata": {
        "id": "mhp33yibhhyM",
        "colab_type": "text"
      },
      "source": [
        "---\n",
        "> P-020: レシート明細データフレーム（df_receipt）に対し、1件あたりの売上金額（amount）が高い順にランクを付与し、先頭10件を抽出せよ。項目は顧客ID（customer_id）、売上金額（amount）、付与したランクを表示させること。なお、売上金額（amount）が等しい場合でも別順位を付与すること。"
      ]
    },
    {
      "cell_type": "code",
      "metadata": {
        "trusted": false,
        "id": "Ks8wJ4dghhyM",
        "colab_type": "code",
        "colab": {
          "base_uri": "https://localhost:8080/",
          "height": 359
        },
        "outputId": "88b63316-070a-4b6a-f388-1ee6ccdd9b9e"
      },
      "source": [
        "rank = df_receipt['amount'].rank(method='first', ascending=False)\n",
        "df_receipt['rank'] = rank\n",
        "df_receipt[['customer_id', 'amount', 'rank']].head(10)"
      ],
      "execution_count": 21,
      "outputs": [
        {
          "output_type": "execute_result",
          "data": {
            "text/html": [
              "<div>\n",
              "<style scoped>\n",
              "    .dataframe tbody tr th:only-of-type {\n",
              "        vertical-align: middle;\n",
              "    }\n",
              "\n",
              "    .dataframe tbody tr th {\n",
              "        vertical-align: top;\n",
              "    }\n",
              "\n",
              "    .dataframe thead th {\n",
              "        text-align: right;\n",
              "    }\n",
              "</style>\n",
              "<table border=\"1\" class=\"dataframe\">\n",
              "  <thead>\n",
              "    <tr style=\"text-align: right;\">\n",
              "      <th></th>\n",
              "      <th>customer_id</th>\n",
              "      <th>amount</th>\n",
              "      <th>rank</th>\n",
              "    </tr>\n",
              "  </thead>\n",
              "  <tbody>\n",
              "    <tr>\n",
              "      <th>0</th>\n",
              "      <td>CS006214000001</td>\n",
              "      <td>158</td>\n",
              "      <td>55059.0</td>\n",
              "    </tr>\n",
              "    <tr>\n",
              "      <th>1</th>\n",
              "      <td>CS008415000097</td>\n",
              "      <td>81</td>\n",
              "      <td>95294.0</td>\n",
              "    </tr>\n",
              "    <tr>\n",
              "      <th>2</th>\n",
              "      <td>CS028414000014</td>\n",
              "      <td>170</td>\n",
              "      <td>51700.0</td>\n",
              "    </tr>\n",
              "    <tr>\n",
              "      <th>3</th>\n",
              "      <td>ZZ000000000000</td>\n",
              "      <td>25</td>\n",
              "      <td>104339.0</td>\n",
              "    </tr>\n",
              "    <tr>\n",
              "      <th>4</th>\n",
              "      <td>CS025415000050</td>\n",
              "      <td>90</td>\n",
              "      <td>89871.0</td>\n",
              "    </tr>\n",
              "    <tr>\n",
              "      <th>5</th>\n",
              "      <td>CS003515000195</td>\n",
              "      <td>138</td>\n",
              "      <td>62707.0</td>\n",
              "    </tr>\n",
              "    <tr>\n",
              "      <th>6</th>\n",
              "      <td>CS024514000042</td>\n",
              "      <td>30</td>\n",
              "      <td>104114.0</td>\n",
              "    </tr>\n",
              "    <tr>\n",
              "      <th>7</th>\n",
              "      <td>CS040415000178</td>\n",
              "      <td>128</td>\n",
              "      <td>67915.0</td>\n",
              "    </tr>\n",
              "    <tr>\n",
              "      <th>8</th>\n",
              "      <td>ZZ000000000000</td>\n",
              "      <td>770</td>\n",
              "      <td>9935.0</td>\n",
              "    </tr>\n",
              "    <tr>\n",
              "      <th>9</th>\n",
              "      <td>CS027514000015</td>\n",
              "      <td>680</td>\n",
              "      <td>10529.0</td>\n",
              "    </tr>\n",
              "  </tbody>\n",
              "</table>\n",
              "</div>"
            ],
            "text/plain": [
              "      customer_id  amount      rank\n",
              "0  CS006214000001     158   55059.0\n",
              "1  CS008415000097      81   95294.0\n",
              "2  CS028414000014     170   51700.0\n",
              "3  ZZ000000000000      25  104339.0\n",
              "4  CS025415000050      90   89871.0\n",
              "5  CS003515000195     138   62707.0\n",
              "6  CS024514000042      30  104114.0\n",
              "7  CS040415000178     128   67915.0\n",
              "8  ZZ000000000000     770    9935.0\n",
              "9  CS027514000015     680   10529.0"
            ]
          },
          "metadata": {
            "tags": []
          },
          "execution_count": 21
        }
      ]
    },
    {
      "cell_type": "markdown",
      "metadata": {
        "id": "1lRGtDSphhyQ",
        "colab_type": "text"
      },
      "source": [
        "---\n",
        "> P-021: レシート明細データフレーム（df_receipt）に対し、件数をカウントせよ。"
      ]
    },
    {
      "cell_type": "code",
      "metadata": {
        "trusted": false,
        "id": "m-ihL_fVhhyQ",
        "colab_type": "code",
        "colab": {}
      },
      "source": [
        ""
      ],
      "execution_count": 21,
      "outputs": []
    },
    {
      "cell_type": "markdown",
      "metadata": {
        "id": "MkjDW-oyhhyS",
        "colab_type": "text"
      },
      "source": [
        "---\n",
        "> P-022: レシート明細データフレーム（df_receipt）の顧客ID（customer_id）に対し、ユニーク件数をカウントせよ。"
      ]
    },
    {
      "cell_type": "code",
      "metadata": {
        "trusted": false,
        "id": "0xSI9r8UhhyS",
        "colab_type": "code",
        "colab": {}
      },
      "source": [
        ""
      ],
      "execution_count": 21,
      "outputs": []
    },
    {
      "cell_type": "markdown",
      "metadata": {
        "id": "nhAK-Wf5hhyT",
        "colab_type": "text"
      },
      "source": [
        "---\n",
        "> P-023: レシート明細データフレーム（df_receipt）に対し、店舗コード（store_cd）ごとに売上金額（amount）と売上数量（quantity）を合計せよ。"
      ]
    },
    {
      "cell_type": "code",
      "metadata": {
        "trusted": false,
        "id": "ZAkUf4-5hhyU",
        "colab_type": "code",
        "colab": {}
      },
      "source": [
        ""
      ],
      "execution_count": 21,
      "outputs": []
    },
    {
      "cell_type": "markdown",
      "metadata": {
        "id": "F4RjuZr_hhyV",
        "colab_type": "text"
      },
      "source": [
        "---\n",
        "> P-024: レシート明細データフレーム（df_receipt）に対し、顧客ID（customer_id）ごとに最も新しい売上日（sales_ymd）を求め、10件表示せよ。"
      ]
    },
    {
      "cell_type": "code",
      "metadata": {
        "trusted": false,
        "id": "ir6Oke73hhyV",
        "colab_type": "code",
        "colab": {}
      },
      "source": [
        ""
      ],
      "execution_count": 21,
      "outputs": []
    },
    {
      "cell_type": "markdown",
      "metadata": {
        "id": "QZlvMM7AhhyX",
        "colab_type": "text"
      },
      "source": [
        "---\n",
        "> P-025: レシート明細データフレーム（df_receipt）に対し、顧客ID（customer_id）ごとに最も古い売上日（sales_ymd）を求め、10件表示せよ。"
      ]
    },
    {
      "cell_type": "code",
      "metadata": {
        "trusted": false,
        "id": "MFnLotE_hhyX",
        "colab_type": "code",
        "colab": {}
      },
      "source": [
        ""
      ],
      "execution_count": 21,
      "outputs": []
    },
    {
      "cell_type": "markdown",
      "metadata": {
        "id": "QLeGVwYWhhyZ",
        "colab_type": "text"
      },
      "source": [
        "---\n",
        "> P-026: レシート明細データフレーム（df_receipt）に対し、顧客ID（customer_id）ごとに最も新しい売上日（sales_ymd）と古い売上日を求め、両者が異なるデータを10件表示せよ。"
      ]
    },
    {
      "cell_type": "code",
      "metadata": {
        "trusted": false,
        "id": "q68lbEewhhyZ",
        "colab_type": "code",
        "colab": {}
      },
      "source": [
        ""
      ],
      "execution_count": 21,
      "outputs": []
    },
    {
      "cell_type": "markdown",
      "metadata": {
        "id": "259M7d7Ohhyb",
        "colab_type": "text"
      },
      "source": [
        "---\n",
        "> P-027: レシート明細データフレーム（df_receipt）に対し、店舗コード（store_cd）ごとに売上金額（amount）の平均を計算し、降順でTOP5を表示せよ。"
      ]
    },
    {
      "cell_type": "code",
      "metadata": {
        "trusted": false,
        "id": "i5ehOOaBhhyb",
        "colab_type": "code",
        "colab": {}
      },
      "source": [
        ""
      ],
      "execution_count": 21,
      "outputs": []
    },
    {
      "cell_type": "markdown",
      "metadata": {
        "id": "5oUtacPihhyc",
        "colab_type": "text"
      },
      "source": [
        "---\n",
        "> P-028: レシート明細データフレーム（df_receipt）に対し、店舗コード（store_cd）ごとに売上金額（amount）の中央値を計算し、降順でTOP5を表示せよ。"
      ]
    },
    {
      "cell_type": "code",
      "metadata": {
        "trusted": false,
        "id": "-s9SplCEhhyd",
        "colab_type": "code",
        "colab": {}
      },
      "source": [
        ""
      ],
      "execution_count": 21,
      "outputs": []
    },
    {
      "cell_type": "markdown",
      "metadata": {
        "id": "4i4pM4Cmhhye",
        "colab_type": "text"
      },
      "source": [
        "---\n",
        "> P-029: レシート明細データフレーム（df_receipt）に対し、店舗コード（store_cd）ごとに商品コード（product_cd）の最頻値を求めよ。"
      ]
    },
    {
      "cell_type": "code",
      "metadata": {
        "trusted": false,
        "id": "DsX1TXZIhhye",
        "colab_type": "code",
        "colab": {}
      },
      "source": [
        ""
      ],
      "execution_count": 21,
      "outputs": []
    },
    {
      "cell_type": "markdown",
      "metadata": {
        "id": "DKpNVF4Ahhyg",
        "colab_type": "text"
      },
      "source": [
        "---\n",
        "> P-030: レシート明細データフレーム（df_receipt）に対し、店舗コード（store_cd）ごとに売上金額（amount）の標本分散を計算し、降順でTOP5を表示せよ。"
      ]
    },
    {
      "cell_type": "code",
      "metadata": {
        "trusted": false,
        "id": "YO_oM4BRhhyg",
        "colab_type": "code",
        "colab": {}
      },
      "source": [
        ""
      ],
      "execution_count": 21,
      "outputs": []
    },
    {
      "cell_type": "markdown",
      "metadata": {
        "id": "KQUwt_Zghhyi",
        "colab_type": "text"
      },
      "source": [
        "---\n",
        "> P-031: レシート明細データフレーム（df_receipt）に対し、店舗コード（store_cd）ごとに売上金額（amount）の標本標準偏差を計算し、降順でTOP5を表示せよ。"
      ]
    },
    {
      "cell_type": "code",
      "metadata": {
        "trusted": false,
        "id": "7UwDIKcZhhyi",
        "colab_type": "code",
        "colab": {}
      },
      "source": [
        ""
      ],
      "execution_count": 21,
      "outputs": []
    },
    {
      "cell_type": "markdown",
      "metadata": {
        "id": "DpGB1z1Ehhyj",
        "colab_type": "text"
      },
      "source": [
        "---\n",
        "> P-032: レシート明細データフレーム（df_receipt）の売上金額（amount）について、25％刻みでパーセンタイル値を求めよ。"
      ]
    },
    {
      "cell_type": "code",
      "metadata": {
        "trusted": false,
        "id": "JBG97d1yhhyk",
        "colab_type": "code",
        "colab": {}
      },
      "source": [
        ""
      ],
      "execution_count": 21,
      "outputs": []
    },
    {
      "cell_type": "markdown",
      "metadata": {
        "id": "mYPLc_n4hhyl",
        "colab_type": "text"
      },
      "source": [
        "---\n",
        "> P-033: レシート明細データフレーム（df_receipt）に対し、店舗コード（store_cd）ごとに売上金額（amount）の平均を計算し、330以上のものを抽出せよ。"
      ]
    },
    {
      "cell_type": "code",
      "metadata": {
        "trusted": false,
        "id": "mJsrgWhNhhym",
        "colab_type": "code",
        "colab": {}
      },
      "source": [
        ""
      ],
      "execution_count": 21,
      "outputs": []
    },
    {
      "cell_type": "markdown",
      "metadata": {
        "id": "Wraz5peFhhyo",
        "colab_type": "text"
      },
      "source": [
        "---\n",
        "> P-034: レシート明細データフレーム（df_receipt）に対し、顧客ID（customer_id）ごとに売上金額（amount）を合計して全顧客の平均を求めよ。ただし、顧客IDが\"Z\"から始まるのものは非会員を表すため、除外して計算すること。\n"
      ]
    },
    {
      "cell_type": "code",
      "metadata": {
        "trusted": false,
        "id": "hYgDnVGjhhyo",
        "colab_type": "code",
        "colab": {}
      },
      "source": [
        ""
      ],
      "execution_count": 21,
      "outputs": []
    },
    {
      "cell_type": "markdown",
      "metadata": {
        "id": "h9E9b_yUhhyq",
        "colab_type": "text"
      },
      "source": [
        "---\n",
        "> P-035: レシート明細データフレーム（df_receipt）に対し、顧客ID（customer_id）ごとに売上金額（amount）を合計して全顧客の平均を求め、平均以上に買い物をしている顧客を抽出せよ。ただし、顧客IDが\"Z\"から始まるのものは非会員を表すため、除外して計算すること。なお、データは10件だけ表示させれば良い。"
      ]
    },
    {
      "cell_type": "code",
      "metadata": {
        "trusted": false,
        "id": "7lYKkmsohhyq",
        "colab_type": "code",
        "colab": {}
      },
      "source": [
        ""
      ],
      "execution_count": 21,
      "outputs": []
    },
    {
      "cell_type": "markdown",
      "metadata": {
        "id": "e4wFXsuLhhys",
        "colab_type": "text"
      },
      "source": [
        "---\n",
        "> P-036: レシート明細データフレーム（df_receipt）と店舗データフレーム（df_store）を内部結合し、レシート明細データフレームの全項目と店舗データフレームの店舗名（store_name）を10件表示させよ。"
      ]
    },
    {
      "cell_type": "code",
      "metadata": {
        "trusted": false,
        "id": "n7p7o5sDhhys",
        "colab_type": "code",
        "colab": {}
      },
      "source": [
        ""
      ],
      "execution_count": 21,
      "outputs": []
    },
    {
      "cell_type": "markdown",
      "metadata": {
        "id": "8TdeNEn_hhyu",
        "colab_type": "text"
      },
      "source": [
        "---\n",
        "> P-037: 商品データフレーム（df_product）とカテゴリデータフレーム（df_category）を内部結合し、商品データフレームの全項目とカテゴリデータフレームの小区分名（category_small_name）を10件表示させよ。"
      ]
    },
    {
      "cell_type": "code",
      "metadata": {
        "trusted": false,
        "id": "J20VBcmxhhyu",
        "colab_type": "code",
        "colab": {}
      },
      "source": [
        ""
      ],
      "execution_count": 21,
      "outputs": []
    },
    {
      "cell_type": "markdown",
      "metadata": {
        "id": "iNO7ESvWhhyw",
        "colab_type": "text"
      },
      "source": [
        "---\n",
        "> P-038: 顧客データフレーム（df_customer）とレシート明細データフレーム（df_receipt）から、各顧客ごとの売上金額合計を求めよ。ただし、買い物の実績がない顧客については売上金額を0として表示させること。また、顧客は性別コード（gender_cd）が女性（1）であるものを対象とし、非会員（顧客IDが'Z'から始まるもの）は除外すること。なお、結果は10件だけ表示させれば良い。"
      ]
    },
    {
      "cell_type": "code",
      "metadata": {
        "trusted": false,
        "id": "hmc6LUaEhhyw",
        "colab_type": "code",
        "colab": {}
      },
      "source": [
        ""
      ],
      "execution_count": 21,
      "outputs": []
    },
    {
      "cell_type": "markdown",
      "metadata": {
        "id": "O8FU3doGhhyy",
        "colab_type": "text"
      },
      "source": [
        "---\n",
        "> P-039: レシート明細データフレーム（df_receipt）から売上日数の多い顧客の上位20件と、売上金額合計の多い顧客の上位20件を抽出し、完全外部結合せよ。ただし、非会員（顧客IDが'Z'から始まるもの）は除外すること。"
      ]
    },
    {
      "cell_type": "code",
      "metadata": {
        "trusted": false,
        "id": "Av7SadgPhhyy",
        "colab_type": "code",
        "colab": {}
      },
      "source": [
        ""
      ],
      "execution_count": 21,
      "outputs": []
    },
    {
      "cell_type": "markdown",
      "metadata": {
        "id": "pcu3GCH9hhyz",
        "colab_type": "text"
      },
      "source": [
        "---\n",
        "> P-040: 全ての店舗と全ての商品を組み合わせると何件のデータとなるか調査したい。店舗（df_store）と商品（df_product）を直積した件数を計算せよ。"
      ]
    },
    {
      "cell_type": "code",
      "metadata": {
        "trusted": false,
        "id": "d_jUSaS3hhyz",
        "colab_type": "code",
        "colab": {}
      },
      "source": [
        ""
      ],
      "execution_count": 21,
      "outputs": []
    },
    {
      "cell_type": "markdown",
      "metadata": {
        "id": "qbPipL0Hhhy1",
        "colab_type": "text"
      },
      "source": [
        "---\n",
        "> P-041: レシート明細データフレーム（df_receipt）の売上金額（amount）を日付（sales_ymd）ごとに集計し、前日からの売上金額増減を計算せよ。なお、計算結果は10件表示すればよい。"
      ]
    },
    {
      "cell_type": "code",
      "metadata": {
        "trusted": false,
        "id": "SvVN53Kehhy2",
        "colab_type": "code",
        "colab": {}
      },
      "source": [
        ""
      ],
      "execution_count": 21,
      "outputs": []
    },
    {
      "cell_type": "markdown",
      "metadata": {
        "id": "PNUVk5Dmhhy3",
        "colab_type": "text"
      },
      "source": [
        "---\n",
        "> P-042: レシート明細データフレーム（df_receipt）の売上金額（amount）を日付（sales_ymd）ごとに集計し、各日付のデータに対し、１日前、２日前、３日前のデータを結合せよ。結果は10件表示すればよい。"
      ]
    },
    {
      "cell_type": "code",
      "metadata": {
        "trusted": false,
        "id": "LE_foOoUhhy4",
        "colab_type": "code",
        "colab": {}
      },
      "source": [
        ""
      ],
      "execution_count": 21,
      "outputs": []
    },
    {
      "cell_type": "markdown",
      "metadata": {
        "id": "uEnwKvWbhhy5",
        "colab_type": "text"
      },
      "source": [
        "---\n",
        "> P-043： レシート明細データフレーム（df_receipt）と顧客データフレーム（df_customer）を結合し、性別（gender）と年代（ageから計算）ごとに売上金額（amount）を合計した売上サマリデータフレーム（df_sales_summary）を作成せよ。性別は0が男性、1が女性、9が不明を表すものとする。\n",
        ">\n",
        "> ただし、項目構成は年代、女性の売上金額、男性の売上金額、性別不明の売上金額の4項目とすること（縦に年代、横に性別のクロス集計）。また、年代は10歳ごとの階級とすること。"
      ]
    },
    {
      "cell_type": "code",
      "metadata": {
        "trusted": false,
        "id": "a2wSKTmIhhy6",
        "colab_type": "code",
        "colab": {}
      },
      "source": [
        ""
      ],
      "execution_count": 21,
      "outputs": []
    },
    {
      "cell_type": "markdown",
      "metadata": {
        "id": "PIC95tKMhhy8",
        "colab_type": "text"
      },
      "source": [
        "---\n",
        "> P-044： 前設問で作成した売上サマリデータフレーム（df_sales_summary）は性別の売上を横持ちさせたものであった。このデータフレームから性別を縦持ちさせ、年代、性別コード、売上金額の3項目に変換せよ。ただし、性別コードは男性を'00'、女性を'01'、不明を'99'とする。"
      ]
    },
    {
      "cell_type": "code",
      "metadata": {
        "trusted": false,
        "id": "TMKQe8F5hhy8",
        "colab_type": "code",
        "colab": {}
      },
      "source": [
        ""
      ],
      "execution_count": 21,
      "outputs": []
    },
    {
      "cell_type": "markdown",
      "metadata": {
        "id": "L29i1r0Nhhy9",
        "colab_type": "text"
      },
      "source": [
        "---\n",
        "> P-045: 顧客データフレーム（df_customer）の生年月日（birth_day）は日付型（Date）でデータを保有している。これをYYYYMMDD形式の文字列に変換し、顧客ID（customer_id）とともに抽出せよ。データは10件を抽出すれば良い。"
      ]
    },
    {
      "cell_type": "code",
      "metadata": {
        "trusted": false,
        "id": "t2t7rJCWhhy9",
        "colab_type": "code",
        "colab": {}
      },
      "source": [
        ""
      ],
      "execution_count": 21,
      "outputs": []
    },
    {
      "cell_type": "markdown",
      "metadata": {
        "id": "umDmd8kohhzA",
        "colab_type": "text"
      },
      "source": [
        "---\n",
        "> P-046: 顧客データフレーム（df_customer）の申し込み日（application_date）はYYYYMMD形式の文字列型でデータを保有している。これを日付型（dateやdatetime）に変換し、顧客ID（customer_id）とともに抽出せよ。データは10件を抽出すれば良い。"
      ]
    },
    {
      "cell_type": "code",
      "metadata": {
        "trusted": false,
        "id": "pVAxV-TWhhzA",
        "colab_type": "code",
        "colab": {}
      },
      "source": [
        ""
      ],
      "execution_count": 21,
      "outputs": []
    },
    {
      "cell_type": "markdown",
      "metadata": {
        "id": "lbc058iGhhzC",
        "colab_type": "text"
      },
      "source": [
        "---\n",
        "> P-047: レシート明細データフレーム（df_receipt）の売上日（sales_ymd）はYYYYMMDD形式の数値型でデータを保有している。これを日付型（dateやdatetime）に変換し、レシート番号(receipt_no)、レシートサブ番号（receipt_sub_no）とともに抽出せよ。データは10件を抽出すれば良い。"
      ]
    },
    {
      "cell_type": "code",
      "metadata": {
        "trusted": false,
        "id": "-StgxCNyhhzC",
        "colab_type": "code",
        "colab": {}
      },
      "source": [
        ""
      ],
      "execution_count": 21,
      "outputs": []
    },
    {
      "cell_type": "markdown",
      "metadata": {
        "id": "ohZn7QSihhzD",
        "colab_type": "text"
      },
      "source": [
        "---\n",
        "> P-048: レシート明細データフレーム（df_receipt）の売上エポック秒（sales_epoch）は数値型のUNIX秒でデータを保有している。これを日付型（dateやdatetime）に変換し、レシート番号(receipt_no)、レシートサブ番号（receipt_sub_no）とともに抽出せよ。データは10件を抽出すれば良い。"
      ]
    },
    {
      "cell_type": "code",
      "metadata": {
        "trusted": false,
        "id": "Y-aq0twKhhzD",
        "colab_type": "code",
        "colab": {}
      },
      "source": [
        ""
      ],
      "execution_count": 21,
      "outputs": []
    },
    {
      "cell_type": "markdown",
      "metadata": {
        "id": "GfUYeJaFhhzE",
        "colab_type": "text"
      },
      "source": [
        "---\n",
        "> P-049: レシート明細データフレーム（df_receipt）の売上エポック秒（sales_epoch）を日付型（timestamp型）に変換し、\"年\"だけ取り出してレシート番号(receipt_no)、レシートサブ番号（receipt_sub_no）とともに抽出せよ。データは10件を抽出すれば良い。"
      ]
    },
    {
      "cell_type": "code",
      "metadata": {
        "trusted": false,
        "id": "C72RHYAThhzE",
        "colab_type": "code",
        "colab": {}
      },
      "source": [
        ""
      ],
      "execution_count": 21,
      "outputs": []
    },
    {
      "cell_type": "markdown",
      "metadata": {
        "id": "wiogoJ-8hhzF",
        "colab_type": "text"
      },
      "source": [
        "---\n",
        "> P-050: レシート明細データフレーム（df_receipt）の売上エポック秒（sales_epoch）を日付型（timestamp型）に変換し、\"月\"だけ取り出してレシート番号(receipt_no)、レシートサブ番号（receipt_sub_no）とともに抽出せよ。なお、\"月\"は0埋め2桁で取り出すこと。データは10件を抽出すれば良い。"
      ]
    },
    {
      "cell_type": "code",
      "metadata": {
        "trusted": false,
        "id": "Dx9OH1LNhhzG",
        "colab_type": "code",
        "colab": {}
      },
      "source": [
        ""
      ],
      "execution_count": 21,
      "outputs": []
    },
    {
      "cell_type": "markdown",
      "metadata": {
        "id": "8JT6_Cu-hhzH",
        "colab_type": "text"
      },
      "source": [
        "---\n",
        "> P-051: レシート明細データフレーム（df_receipt）の売上エポック秒（sales_epoch）を日付型（timestamp型）に変換し、\"日\"だけ取り出してレシート番号(receipt_no)、レシートサブ番号（receipt_sub_no）とともに抽出せよ。なお、\"日\"は0埋め2桁で取り出すこと。データは10件を抽出すれば良い。"
      ]
    },
    {
      "cell_type": "code",
      "metadata": {
        "trusted": false,
        "id": "6A7WIWLhhhzH",
        "colab_type": "code",
        "colab": {}
      },
      "source": [
        ""
      ],
      "execution_count": 21,
      "outputs": []
    },
    {
      "cell_type": "markdown",
      "metadata": {
        "id": "OGXY-uRrhhzI",
        "colab_type": "text"
      },
      "source": [
        "---\n",
        "> P-052: レシート明細データフレーム（df_receipt）の売上金額（amount）を顧客ID（customer_id）ごとに合計の上、売上金額合計に対して2000円以下を0、2000円超を1に2値化し、顧客ID、売上金額合計とともに10件表示せよ。ただし、顧客IDが\"Z\"から始まるのものは非会員を表すため、除外して計算すること。"
      ]
    },
    {
      "cell_type": "code",
      "metadata": {
        "trusted": false,
        "id": "rQvmUUolhhzJ",
        "colab_type": "code",
        "colab": {}
      },
      "source": [
        ""
      ],
      "execution_count": 21,
      "outputs": []
    },
    {
      "cell_type": "markdown",
      "metadata": {
        "id": "ZtGCQePGhhzK",
        "colab_type": "text"
      },
      "source": [
        "---\n",
        "> P-053: 顧客データフレーム（df_customer）の郵便番号（postal_cd）に対し、東京（先頭3桁が100〜209のもの）を1、それ以外のものを0に２値化せよ。さらにレシート明細データフレーム（df_receipt）と結合し、全期間において買い物実績のある顧客数を、作成した2値ごとにカウントせよ。"
      ]
    },
    {
      "cell_type": "code",
      "metadata": {
        "trusted": false,
        "id": "8NZw1hv2hhzK",
        "colab_type": "code",
        "colab": {}
      },
      "source": [
        ""
      ],
      "execution_count": 21,
      "outputs": []
    },
    {
      "cell_type": "markdown",
      "metadata": {
        "id": "HHPGETlfhhzL",
        "colab_type": "text"
      },
      "source": [
        "---\n",
        "> P-054: 顧客データデータフレーム（df_customer）の住所（address）は、埼玉県、千葉県、東京都、神奈川県のいずれかとなっている。都道府県毎にコード値を作成し、顧客ID、住所とともに抽出せよ。値は埼玉県を11、千葉県を12、東京都を13、神奈川県を14とすること。結果は10件表示させれば良い。"
      ]
    },
    {
      "cell_type": "code",
      "metadata": {
        "trusted": false,
        "id": "r4hjSRMohhzL",
        "colab_type": "code",
        "colab": {}
      },
      "source": [
        ""
      ],
      "execution_count": 21,
      "outputs": []
    },
    {
      "cell_type": "markdown",
      "metadata": {
        "id": "0Gr2RKrrhhzM",
        "colab_type": "text"
      },
      "source": [
        "---\n",
        "> P-055: レシート明細データフレーム（df_receipt）の売上金額（amount）を顧客ID（customer_id）ごとに合計し、その合計金額の四分位点を求めよ。その上で、顧客ごとの売上金額合計に対して以下の基準でカテゴリ値を作成し、顧客ID、売上金額と合計ともに表示せよ。カテゴリ値は上から順に1〜4とする。結果は10件表示させれば良い。\n",
        ">\n",
        "> - 最小値以上第一四分位未満\n",
        "> - 第一四分位以上第二四分位未満\n",
        "> - 第二四分位以上第三四分位未満\n",
        "> - 第三四分位以上"
      ]
    },
    {
      "cell_type": "code",
      "metadata": {
        "trusted": false,
        "id": "g-o-bHSzhhzM",
        "colab_type": "code",
        "colab": {}
      },
      "source": [
        ""
      ],
      "execution_count": 21,
      "outputs": []
    },
    {
      "cell_type": "markdown",
      "metadata": {
        "id": "X3_-P1ahhhzN",
        "colab_type": "text"
      },
      "source": [
        "---\n",
        "> P-056: 顧客データフレーム（df_customer）の年齢（age）をもとに10歳刻みで年代を算出し、顧客ID（customer_id）、生年月日（birth_day）とともに抽出せよ。ただし、60歳以上は全て60歳代とすること。年代を表すカテゴリ名は任意とする。先頭10件を表示させればよい。"
      ]
    },
    {
      "cell_type": "code",
      "metadata": {
        "trusted": false,
        "id": "p4xXkwzhhhzN",
        "colab_type": "code",
        "colab": {}
      },
      "source": [
        ""
      ],
      "execution_count": 21,
      "outputs": []
    },
    {
      "cell_type": "markdown",
      "metadata": {
        "id": "b_I_dEsdhhzP",
        "colab_type": "text"
      },
      "source": [
        "---\n",
        "> P-057: 前問題の抽出結果と性別（gender）を組み合わせ、新たに性別×年代の組み合わせを表すカテゴリデータを作成せよ。組み合わせを表すカテゴリの値は任意とする。先頭10件を表示させればよい。"
      ]
    },
    {
      "cell_type": "code",
      "metadata": {
        "trusted": false,
        "id": "zz-TCEbChhzP",
        "colab_type": "code",
        "colab": {}
      },
      "source": [
        ""
      ],
      "execution_count": 21,
      "outputs": []
    },
    {
      "cell_type": "markdown",
      "metadata": {
        "id": "oJZe2WQ3hhzQ",
        "colab_type": "text"
      },
      "source": [
        "---\n",
        "> P-058: 顧客データフレーム（df_customer）の性別コード（gender_cd）をダミー変数化し、顧客ID（customer_id）とともに抽出せよ。結果は10件表示させれば良い。"
      ]
    },
    {
      "cell_type": "code",
      "metadata": {
        "trusted": false,
        "id": "pm-akNNrhhzQ",
        "colab_type": "code",
        "colab": {}
      },
      "source": [
        ""
      ],
      "execution_count": 21,
      "outputs": []
    },
    {
      "cell_type": "markdown",
      "metadata": {
        "id": "_rIF1D4RhhzR",
        "colab_type": "text"
      },
      "source": [
        "---\n",
        "> P-059: レシート明細データフレーム（df_receipt）の売上金額（amount）を顧客ID（customer_id）ごとに合計し、合計した売上金額を平均0、標準偏差1に標準化して顧客ID、売上金額合計とともに表示せよ。標準化に使用する標準偏差は、不偏標準偏差と標本標準偏差のどちらでも良いものとする。ただし、顧客IDが\"Z\"から始まるのものは非会員を表すため、除外して計算すること。結果は10件表示させれば良い。"
      ]
    },
    {
      "cell_type": "code",
      "metadata": {
        "trusted": false,
        "id": "hgU77tJWhhzR",
        "colab_type": "code",
        "colab": {}
      },
      "source": [
        ""
      ],
      "execution_count": 21,
      "outputs": []
    },
    {
      "cell_type": "markdown",
      "metadata": {
        "id": "--LbbUHGhhzT",
        "colab_type": "text"
      },
      "source": [
        "---\n",
        "> P-060: レシート明細データフレーム（df_receipt）の売上金額（amount）を顧客ID（customer_id）ごとに合計し、合計した売上金額を最小値0、最大値1に正規化して顧客ID、売上金額合計とともに表示せよ。ただし、顧客IDが\"Z\"から始まるのものは非会員を表すため、除外して計算すること。結果は10件表示させれば良い。"
      ]
    },
    {
      "cell_type": "code",
      "metadata": {
        "trusted": false,
        "id": "RIfNz58jhhzT",
        "colab_type": "code",
        "colab": {}
      },
      "source": [
        ""
      ],
      "execution_count": 21,
      "outputs": []
    },
    {
      "cell_type": "markdown",
      "metadata": {
        "id": "9v_q6BLjhhzU",
        "colab_type": "text"
      },
      "source": [
        "---\n",
        "> P-061: レシート明細データフレーム（df_receipt）の売上金額（amount）を顧客ID（customer_id）ごとに合計し、合計した売上金額を常用対数化（底=10）して顧客ID、売上金額合計とともに表示せよ。ただし、顧客IDが\"Z\"から始まるのものは非会員を表すため、除外して計算すること。結果は10件表示させれば良い。"
      ]
    },
    {
      "cell_type": "code",
      "metadata": {
        "trusted": false,
        "id": "d5_2HQ-2hhzU",
        "colab_type": "code",
        "colab": {}
      },
      "source": [
        ""
      ],
      "execution_count": 21,
      "outputs": []
    },
    {
      "cell_type": "markdown",
      "metadata": {
        "id": "uYepDUW5hhzV",
        "colab_type": "text"
      },
      "source": [
        "---\n",
        "> P-062: レシート明細データフレーム（df_receipt）の売上金額（amount）を顧客ID（customer_id）ごとに合計し、合計した売上金額を自然対数化(底=e）して顧客ID、売上金額合計とともに表示せよ。ただし、顧客IDが\"Z\"から始まるのものは非会員を表すため、除外して計算すること。結果は10件表示させれば良い。"
      ]
    },
    {
      "cell_type": "code",
      "metadata": {
        "trusted": false,
        "id": "aqDDlXmEhhzV",
        "colab_type": "code",
        "colab": {}
      },
      "source": [
        ""
      ],
      "execution_count": 21,
      "outputs": []
    },
    {
      "cell_type": "markdown",
      "metadata": {
        "id": "JrQz7vUxhhzW",
        "colab_type": "text"
      },
      "source": [
        "---\n",
        "> P-063: 商品データフレーム（df_product）の単価（unit_price）と原価（unit_cost）から、各商品の利益額を算出せよ。結果は10件表示させれば良い。"
      ]
    },
    {
      "cell_type": "code",
      "metadata": {
        "trusted": false,
        "id": "AEzRXedrhhzX",
        "colab_type": "code",
        "colab": {}
      },
      "source": [
        ""
      ],
      "execution_count": 21,
      "outputs": []
    },
    {
      "cell_type": "markdown",
      "metadata": {
        "id": "dA3_mEIghhzY",
        "colab_type": "text"
      },
      "source": [
        "---\n",
        "> P-064: 商品データフレーム（df_product）の単価（unit_price）と原価（unit_cost）から、各商品の利益率の全体平均を算出せよ。\n",
        "ただし、単価と原価にはNULLが存在することに注意せよ。"
      ]
    },
    {
      "cell_type": "code",
      "metadata": {
        "trusted": false,
        "id": "tVmogEBBhhzY",
        "colab_type": "code",
        "colab": {}
      },
      "source": [
        ""
      ],
      "execution_count": 21,
      "outputs": []
    },
    {
      "cell_type": "markdown",
      "metadata": {
        "id": "jQowqYLWhhzZ",
        "colab_type": "text"
      },
      "source": [
        "---\n",
        "> P-065: 商品データフレーム（df_product）の各商品について、利益率が30%となる新たな単価を求めよ。ただし、1円未満は切り捨てること。そして結果を10件表示させ、利益率がおよそ30％付近であることを確認せよ。ただし、単価（unit_price）と原価（unit_cost）にはNULLが存在することに注意せよ。"
      ]
    },
    {
      "cell_type": "code",
      "metadata": {
        "trusted": false,
        "id": "fSPVlHxthhzZ",
        "colab_type": "code",
        "colab": {}
      },
      "source": [
        ""
      ],
      "execution_count": 21,
      "outputs": []
    },
    {
      "cell_type": "markdown",
      "metadata": {
        "id": "Tj7mplJihhza",
        "colab_type": "text"
      },
      "source": [
        "---\n",
        "> P-066: 商品データフレーム（df_product）の各商品について、利益率が30%となる新たな単価を求めよ。今回は、1円未満を四捨五入すること（0.5については偶数方向の丸めで良い）。そして結果を10件表示させ、利益率がおよそ30％付近であることを確認せよ。ただし、単価（unit_price）と原価（unit_cost）にはNULLが存在することに注意せよ。"
      ]
    },
    {
      "cell_type": "code",
      "metadata": {
        "trusted": false,
        "id": "gC81Fp6ehhza",
        "colab_type": "code",
        "colab": {}
      },
      "source": [
        ""
      ],
      "execution_count": 21,
      "outputs": []
    },
    {
      "cell_type": "markdown",
      "metadata": {
        "id": "xxce_R6bhhzb",
        "colab_type": "text"
      },
      "source": [
        "---\n",
        "> P-067: 商品データフレーム（df_product）の各商品について、利益率が30%となる新たな単価を求めよ。今回は、1円未満を切り上げること。そして結果を10件表示させ、利益率がおよそ30％付近であることを確認せよ。ただし、単価（unit_price）と原価（unit_cost）にはNULLが存在することに注意せよ。"
      ]
    },
    {
      "cell_type": "code",
      "metadata": {
        "trusted": false,
        "id": "3rMUdEF6hhzb",
        "colab_type": "code",
        "colab": {}
      },
      "source": [
        ""
      ],
      "execution_count": 21,
      "outputs": []
    },
    {
      "cell_type": "markdown",
      "metadata": {
        "id": "CnpgvfPThhzd",
        "colab_type": "text"
      },
      "source": [
        "---\n",
        "> P-068: 商品データフレーム（df_product）の各商品について、消費税率10%の税込み金額を求めよ。 1円未満の端数は切り捨てとし、結果は10件表示すれば良い。ただし、単価（unit_price）にはNULLが存在することに注意せよ。"
      ]
    },
    {
      "cell_type": "code",
      "metadata": {
        "trusted": false,
        "id": "pAlTEkKHhhzd",
        "colab_type": "code",
        "colab": {}
      },
      "source": [
        ""
      ],
      "execution_count": 21,
      "outputs": []
    },
    {
      "cell_type": "markdown",
      "metadata": {
        "id": "zEABVDKXhhze",
        "colab_type": "text"
      },
      "source": [
        "---\n",
        "> P-069: レシート明細データフレーム（df_receipt）と商品データフレーム（df_product）を結合し、顧客毎に全商品の売上金額合計と、カテゴリ大区分（category_major_cd）が\"07\"（瓶詰缶詰）の売上金額合計を計算の上、両者の比率を求めよ。抽出対象はカテゴリ大区分\"07\"（瓶詰缶詰）の購入実績がある顧客のみとし、結果は10件表示させればよい。"
      ]
    },
    {
      "cell_type": "code",
      "metadata": {
        "trusted": false,
        "id": "FL33wGUMhhze",
        "colab_type": "code",
        "colab": {}
      },
      "source": [
        ""
      ],
      "execution_count": 21,
      "outputs": []
    },
    {
      "cell_type": "markdown",
      "metadata": {
        "id": "ZEAiLMTShhzf",
        "colab_type": "text"
      },
      "source": [
        "---\n",
        "> P-070: レシート明細データフレーム（df_receipt）の売上日（sales_ymd）に対し、顧客データフレーム（df_customer）の会員申込日（application_date）からの経過日数を計算し、顧客ID（customer_id）、売上日、会員申込日とともに表示せよ。結果は10件表示させれば良い（なお、sales_ymdは数値、application_dateは文字列でデータを保持している点に注意）。"
      ]
    },
    {
      "cell_type": "code",
      "metadata": {
        "trusted": false,
        "id": "kvzQzXuShhzf",
        "colab_type": "code",
        "colab": {}
      },
      "source": [
        ""
      ],
      "execution_count": 21,
      "outputs": []
    },
    {
      "cell_type": "markdown",
      "metadata": {
        "id": "HsMXQZXshhzg",
        "colab_type": "text"
      },
      "source": [
        "---\n",
        "> P-071: レシート明細データフレーム（df_receipt）の売上日（sales_ymd）に対し、顧客データフレーム（df_customer）の会員申込日（application_date）からの経過月数を計算し、顧客ID（customer_id）、売上日、会員申込日とともに表示せよ。結果は10件表示させれば良い（なお、sales_ymdは数値、application_dateは文字列でデータを保持している点に注意）。1ヶ月未満は切り捨てること。"
      ]
    },
    {
      "cell_type": "code",
      "metadata": {
        "trusted": false,
        "id": "go_c1NKxhhzh",
        "colab_type": "code",
        "colab": {}
      },
      "source": [
        ""
      ],
      "execution_count": 21,
      "outputs": []
    },
    {
      "cell_type": "markdown",
      "metadata": {
        "id": "uRcwkWA6hhzi",
        "colab_type": "text"
      },
      "source": [
        "---\n",
        "> P-072: レシート明細データフレーム（df_receipt）の売上日（sales_ymd）に対し、顧客データフレーム（df_customer）の会員申込日（application_date）からの経過年数を計算し、顧客ID（customer_id）、売上日、会員申込日とともに表示せよ。結果は10件表示させれば良い。（なお、sales_ymdは数値、application_dateは文字列でデータを保持している点に注意）。1年未満は切り捨てること。"
      ]
    },
    {
      "cell_type": "code",
      "metadata": {
        "trusted": false,
        "id": "Z5-u-KYhhhzi",
        "colab_type": "code",
        "colab": {}
      },
      "source": [
        ""
      ],
      "execution_count": 21,
      "outputs": []
    },
    {
      "cell_type": "markdown",
      "metadata": {
        "id": "-PsOPZZBhhzj",
        "colab_type": "text"
      },
      "source": [
        "---\n",
        "> P-073: レシート明細データフレーム（df_receipt）の売上日（sales_ymd）に対し、顧客データフレーム（df_customer）の会員申込日（application_date）からのエポック秒による経過時間を計算し、顧客ID（customer_id）、売上日、会員申込日とともに表示せよ。結果は10件表示させれば良い（なお、sales_ymdは数値、application_dateは文字列でデータを保持している点に注意）。なお、時間情報は保有していないため各日付は0時0分0秒を表すものとする。"
      ]
    },
    {
      "cell_type": "code",
      "metadata": {
        "trusted": false,
        "id": "vUrvuOBfhhzj",
        "colab_type": "code",
        "colab": {}
      },
      "source": [
        ""
      ],
      "execution_count": 21,
      "outputs": []
    },
    {
      "cell_type": "markdown",
      "metadata": {
        "id": "u_8UNALZhhzk",
        "colab_type": "text"
      },
      "source": [
        "---\n",
        "> P-074: レシート明細データフレーム（df_receipt）の売上日（sales_ymd）に対し、当該週の月曜日からの経過日数を計算し、売上日、当該週の月曜日付とともに表示せよ。結果は10件表示させれば良い（なお、sales_ymdは数値でデータを保持している点に注意）。"
      ]
    },
    {
      "cell_type": "code",
      "metadata": {
        "trusted": false,
        "id": "mCtL5g4mhhzk",
        "colab_type": "code",
        "colab": {}
      },
      "source": [
        ""
      ],
      "execution_count": 21,
      "outputs": []
    },
    {
      "cell_type": "markdown",
      "metadata": {
        "id": "2Jxo_7quhhzl",
        "colab_type": "text"
      },
      "source": [
        "---\n",
        "> P-075: 顧客データフレーム（df_customer）からランダムに1%のデータを抽出し、先頭から10件データを抽出せよ。"
      ]
    },
    {
      "cell_type": "code",
      "metadata": {
        "trusted": false,
        "id": "IlLf0t38hhzl",
        "colab_type": "code",
        "colab": {}
      },
      "source": [
        ""
      ],
      "execution_count": 21,
      "outputs": []
    },
    {
      "cell_type": "markdown",
      "metadata": {
        "id": "aln1Xt5ghhzm",
        "colab_type": "text"
      },
      "source": [
        "---\n",
        "> P-076: 顧客データフレーム（df_customer）から性別（gender_cd）の割合に基づきランダムに10%のデータを層化抽出データし、性別ごとに件数を集計せよ。"
      ]
    },
    {
      "cell_type": "code",
      "metadata": {
        "trusted": false,
        "id": "RbrjkGllhhzm",
        "colab_type": "code",
        "colab": {}
      },
      "source": [
        ""
      ],
      "execution_count": 21,
      "outputs": []
    },
    {
      "cell_type": "markdown",
      "metadata": {
        "id": "VPRFv68Jhhzn",
        "colab_type": "text"
      },
      "source": [
        "---\n",
        "> P-077: レシート明細データフレーム（df_receipt）の売上金額（amount）を顧客単位に合計し、合計した売上金額の外れ値を抽出せよ。ただし、顧客IDが\"Z\"から始まるのものは非会員を表すため、除外して計算すること。なお、ここでは外れ値を平均から3σ以上離れたものとする。結果は10件表示させれば良い。"
      ]
    },
    {
      "cell_type": "code",
      "metadata": {
        "trusted": false,
        "id": "7_EgePw6hhzn",
        "colab_type": "code",
        "colab": {}
      },
      "source": [
        ""
      ],
      "execution_count": 21,
      "outputs": []
    },
    {
      "cell_type": "markdown",
      "metadata": {
        "id": "BatcRBrehhzp",
        "colab_type": "text"
      },
      "source": [
        "---\n",
        "> P-078: レシート明細データフレーム（df_receipt）の売上金額（amount）を顧客単位に合計し、合計した売上金額の外れ値を抽出せよ。ただし、顧客IDが\"Z\"から始まるのものは非会員を表すため、除外して計算すること。なお、ここでは外れ値を第一四分位と第三四分位の差であるIQRを用いて、「第一四分位数-1.5×IQR」よりも下回るもの、または「第三四分位数+1.5×IQR」を超えるものとする。結果は10件表示させれば良い。"
      ]
    },
    {
      "cell_type": "code",
      "metadata": {
        "trusted": false,
        "id": "4RvDfhvChhzp",
        "colab_type": "code",
        "colab": {}
      },
      "source": [
        ""
      ],
      "execution_count": 21,
      "outputs": []
    },
    {
      "cell_type": "markdown",
      "metadata": {
        "id": "boe923CMhhzq",
        "colab_type": "text"
      },
      "source": [
        "---\n",
        "> P-079: 商品データフレーム（df_product）の各項目に対し、欠損数を確認せよ。"
      ]
    },
    {
      "cell_type": "code",
      "metadata": {
        "trusted": false,
        "id": "bxl__vC5hhzq",
        "colab_type": "code",
        "colab": {}
      },
      "source": [
        ""
      ],
      "execution_count": 21,
      "outputs": []
    },
    {
      "cell_type": "markdown",
      "metadata": {
        "id": "afprSqIvhhzs",
        "colab_type": "text"
      },
      "source": [
        "---\n",
        "> P-080: 商品データフレーム（df_product）のいずれかの項目に欠損が発生しているレコードを全て削除した新たなdf_product_1を作成せよ。なお、削除前後の件数を表示させ、前設問で確認した件数だけ減少していることも確認すること。"
      ]
    },
    {
      "cell_type": "code",
      "metadata": {
        "trusted": false,
        "id": "q3_9sLdHhhzt",
        "colab_type": "code",
        "colab": {}
      },
      "source": [
        ""
      ],
      "execution_count": 21,
      "outputs": []
    },
    {
      "cell_type": "markdown",
      "metadata": {
        "id": "GtiO20ZKhhzu",
        "colab_type": "text"
      },
      "source": [
        "---\n",
        "> P-081: 単価（unit_price）と原価（unit_cost）の欠損値について、それぞれの平均値で補完した新たなdf_product_2を作成せよ。なお、平均値について1円未満は四捨五入とし、0.5については偶数寄せでかまわない。補完実施後、各項目について欠損が生じていないことも確認すること。"
      ]
    },
    {
      "cell_type": "code",
      "metadata": {
        "trusted": false,
        "id": "puFf-7Ewhhzu",
        "colab_type": "code",
        "colab": {}
      },
      "source": [
        ""
      ],
      "execution_count": 21,
      "outputs": []
    },
    {
      "cell_type": "markdown",
      "metadata": {
        "id": "i7x6WAJ2hhzv",
        "colab_type": "text"
      },
      "source": [
        "---\n",
        "> P-082: 単価（unit_price）と原価（unit_cost）の欠損値について、それぞれの中央値で補完した新たなdf_product_3を作成せよ。なお、中央値について1円未満は四捨五入とし、0.5については偶数寄せでかまわない。補完実施後、各項目について欠損が生じていないことも確認すること。"
      ]
    },
    {
      "cell_type": "code",
      "metadata": {
        "trusted": false,
        "id": "Meng_cTIhhzv",
        "colab_type": "code",
        "colab": {}
      },
      "source": [
        ""
      ],
      "execution_count": 21,
      "outputs": []
    },
    {
      "cell_type": "markdown",
      "metadata": {
        "id": "kXCIpqm4hhzw",
        "colab_type": "text"
      },
      "source": [
        "---\n",
        "> P-083: 単価（unit_price）と原価（unit_cost）の欠損値について、各商品の小区分（category_small_cd）ごとに算出した中央値で補完した新たなdf_product_4を作成せよ。なお、中央値について1円未満は四捨五入とし、0.5については偶数寄せでかまわない。補完実施後、各項目について欠損が生じていないことも確認すること。"
      ]
    },
    {
      "cell_type": "code",
      "metadata": {
        "trusted": false,
        "id": "Qeq1bChyhhzw",
        "colab_type": "code",
        "colab": {}
      },
      "source": [
        ""
      ],
      "execution_count": 21,
      "outputs": []
    },
    {
      "cell_type": "markdown",
      "metadata": {
        "id": "kKqZ8U_ihhzx",
        "colab_type": "text"
      },
      "source": [
        "---\n",
        "> P-084: 顧客データフレーム（df_customer）の全顧客に対し、全期間の売上金額に占める2019年売上金額の割合を計算せよ。ただし、販売実績のない場合は0として扱うこと。そして計算した割合が0超のものを抽出せよ。 結果は10件表示させれば良い。また、作成したデータにNAやNANが存在しないことを確認せよ。"
      ]
    },
    {
      "cell_type": "code",
      "metadata": {
        "trusted": false,
        "id": "Rtq3Y8Gxhhzx",
        "colab_type": "code",
        "colab": {}
      },
      "source": [
        ""
      ],
      "execution_count": 21,
      "outputs": []
    },
    {
      "cell_type": "markdown",
      "metadata": {
        "id": "UEPE0K-rhhzy",
        "colab_type": "text"
      },
      "source": [
        "---\n",
        "> P-085: 顧客データフレーム（df_customer）の全顧客に対し、郵便番号（postal_cd）を用いて経度緯度変換用データフレーム（df_geocode）を紐付け、新たなdf_customer_1を作成せよ。ただし、複数紐づく場合は経度（longitude）、緯度（latitude）それぞれ平均を算出すること。\n"
      ]
    },
    {
      "cell_type": "code",
      "metadata": {
        "trusted": false,
        "id": "P_paWqODhhzy",
        "colab_type": "code",
        "colab": {}
      },
      "source": [
        ""
      ],
      "execution_count": 21,
      "outputs": []
    },
    {
      "cell_type": "markdown",
      "metadata": {
        "id": "dJ8IvUgNhhzz",
        "colab_type": "text"
      },
      "source": [
        "---\n",
        "> P-086: 前設問で作成した緯度経度つき顧客データフレーム（df_customer_1）に対し、申込み店舗コード（application_store_cd）をキーに店舗データフレーム（df_store）と結合せよ。そして申込み店舗の緯度（latitude）・経度情報（longitude)と顧客の緯度・経度を用いて距離（km）を求め、顧客ID（customer_id）、顧客住所（address）、店舗住所（address）とともに表示せよ。計算式は簡易式で良いものとするが、その他精度の高い方式を利用したライブラリを利用してもかまわない。結果は10件表示すれば良い。"
      ]
    },
    {
      "cell_type": "markdown",
      "metadata": {
        "id": "kFydo3tChhzz",
        "colab_type": "text"
      },
      "source": [
        "$$\n",
        "緯度（ラジアン）：\\phi \\\\\n",
        "経度（ラジアン）：\\lambda \\\\\n",
        "距離L = 6371 * arccos(sin \\phi_1 * sin \\phi_2\n",
        "+ cos \\phi_1 * cos \\phi_2 * cos(\\lambda_1 − \\lambda_2))\n",
        "$$"
      ]
    },
    {
      "cell_type": "code",
      "metadata": {
        "trusted": false,
        "id": "YOhgdXTphhz0",
        "colab_type": "code",
        "colab": {}
      },
      "source": [
        ""
      ],
      "execution_count": 21,
      "outputs": []
    },
    {
      "cell_type": "markdown",
      "metadata": {
        "id": "-7BBzLWphhz0",
        "colab_type": "text"
      },
      "source": [
        "---\n",
        "> P-087:  顧客データフレーム（df_customer）では、異なる店舗での申込みなどにより同一顧客が複数登録されている。名前（customer_name）と郵便番号（postal_cd）が同じ顧客は同一顧客とみなし、1顧客1レコードとなるように名寄せした名寄顧客データフレーム（df_customer_u）を作成せよ。ただし、同一顧客に対しては売上金額合計が最も高いものを残すものとし、売上金額合計が同一もしくは売上実績の無い顧客については顧客ID（customer_id）の番号が小さいものを残すこととする。"
      ]
    },
    {
      "cell_type": "code",
      "metadata": {
        "trusted": false,
        "id": "hJhzgvxuhhz0",
        "colab_type": "code",
        "colab": {}
      },
      "source": [
        ""
      ],
      "execution_count": 21,
      "outputs": []
    },
    {
      "cell_type": "markdown",
      "metadata": {
        "id": "U4ojNt4shhz1",
        "colab_type": "text"
      },
      "source": [
        "---\n",
        "> P-088: 前設問で作成したデータを元に、顧客データフレームに統合名寄IDを付与したデータフレーム（df_customer_n）を作成せよ。ただし、統合名寄IDは以下の仕様で付与するものとする。\n",
        ">\n",
        "> - 重複していない顧客：顧客ID（customer_id）を設定\n",
        "> - 重複している顧客：前設問で抽出したレコードの顧客IDを設定"
      ]
    },
    {
      "cell_type": "code",
      "metadata": {
        "trusted": false,
        "id": "G8xkmVEnhhz2",
        "colab_type": "code",
        "colab": {}
      },
      "source": [
        ""
      ],
      "execution_count": 21,
      "outputs": []
    },
    {
      "cell_type": "markdown",
      "metadata": {
        "id": "ijOu7Ekfhhz3",
        "colab_type": "text"
      },
      "source": [
        "---\n",
        "> P-閑話: df_customer_1, df_customer_nは使わないので削除する。"
      ]
    },
    {
      "cell_type": "code",
      "metadata": {
        "trusted": false,
        "id": "0rMxTZIGhhz3",
        "colab_type": "code",
        "colab": {}
      },
      "source": [
        ""
      ],
      "execution_count": 21,
      "outputs": []
    },
    {
      "cell_type": "markdown",
      "metadata": {
        "id": "jGzIjQvfhhz4",
        "colab_type": "text"
      },
      "source": [
        "---\n",
        "> P-089: 売上実績のある顧客に対し、予測モデル構築のため学習用データとテスト用データに分割したい。それぞれ8:2の割合でランダムにデータを分割せよ。"
      ]
    },
    {
      "cell_type": "code",
      "metadata": {
        "trusted": false,
        "id": "tQfblHJFhhz4",
        "colab_type": "code",
        "colab": {}
      },
      "source": [
        ""
      ],
      "execution_count": 21,
      "outputs": []
    },
    {
      "cell_type": "markdown",
      "metadata": {
        "id": "lnuxS-40hhz5",
        "colab_type": "text"
      },
      "source": [
        "---\n",
        "> P-090: レシート明細データフレーム（df_receipt）は2017年1月1日〜2019年10月31日までのデータを有している。売上金額（amount）を月次で集計し、学習用に12ヶ月、テスト用に6ヶ月のモデル構築用データを3セット作成せよ。"
      ]
    },
    {
      "cell_type": "code",
      "metadata": {
        "trusted": false,
        "id": "54N1nBI3hhz5",
        "colab_type": "code",
        "colab": {}
      },
      "source": [
        ""
      ],
      "execution_count": 21,
      "outputs": []
    },
    {
      "cell_type": "markdown",
      "metadata": {
        "id": "NIl5LRhbhhz6",
        "colab_type": "text"
      },
      "source": [
        "---\n",
        "> P-091: 顧客データフレーム（df_customer）の各顧客に対し、売上実績のある顧客数と売上実績のない顧客数が1:1となるようにアンダーサンプリングで抽出せよ。"
      ]
    },
    {
      "cell_type": "code",
      "metadata": {
        "trusted": false,
        "id": "Snlnbkm-hhz6",
        "colab_type": "code",
        "colab": {}
      },
      "source": [
        ""
      ],
      "execution_count": 21,
      "outputs": []
    },
    {
      "cell_type": "markdown",
      "metadata": {
        "id": "LAzWjKmHhhz9",
        "colab_type": "text"
      },
      "source": [
        "---\n",
        "> P-092: 顧客データフレーム（df_customer）では、性別に関する情報が非正規化の状態で保持されている。これを第三正規化せよ。"
      ]
    },
    {
      "cell_type": "code",
      "metadata": {
        "trusted": false,
        "id": "BUEhEPR8hhz9",
        "colab_type": "code",
        "colab": {}
      },
      "source": [
        ""
      ],
      "execution_count": 21,
      "outputs": []
    },
    {
      "cell_type": "markdown",
      "metadata": {
        "id": "u8OEQQikhhz-",
        "colab_type": "text"
      },
      "source": [
        "---\n",
        "> P-093: 商品データフレーム（df_product）では各カテゴリのコード値だけを保有し、カテゴリ名は保有していない。カテゴリデータフレーム（df_category）と組み合わせて非正規化し、カテゴリ名を保有した新たな商品データフレームを作成せよ。"
      ]
    },
    {
      "cell_type": "code",
      "metadata": {
        "trusted": false,
        "id": "mbOy7QIQhhz-",
        "colab_type": "code",
        "colab": {}
      },
      "source": [
        ""
      ],
      "execution_count": 21,
      "outputs": []
    },
    {
      "cell_type": "markdown",
      "metadata": {
        "id": "WBQfMWaThhz_",
        "colab_type": "text"
      },
      "source": [
        "---\n",
        "> P-094: 先に作成したカテゴリ名付き商品データを以下の仕様でファイル出力せよ。なお、出力先のパスはdata配下とする。\n",
        ">\n",
        "> - ファイル形式はCSV（カンマ区切り）\n",
        "> - ヘッダ有り\n",
        "> - 文字コードはUTF-8"
      ]
    },
    {
      "cell_type": "code",
      "metadata": {
        "trusted": false,
        "id": "NdSruP0nhhz_",
        "colab_type": "code",
        "colab": {}
      },
      "source": [
        ""
      ],
      "execution_count": 21,
      "outputs": []
    },
    {
      "cell_type": "markdown",
      "metadata": {
        "id": "OwHfilB2hh0B",
        "colab_type": "text"
      },
      "source": [
        "---\n",
        "> P-095: 先に作成したカテゴリ名付き商品データを以下の仕様でファイル出力せよ。なお、出力先のパスはdata配下とする。\n",
        ">\n",
        "> - ファイル形式はCSV（カンマ区切り）\n",
        "> - ヘッダ有り\n",
        "> - 文字コードはCP932"
      ]
    },
    {
      "cell_type": "code",
      "metadata": {
        "trusted": false,
        "id": "R_A_MhTYhh0C",
        "colab_type": "code",
        "colab": {}
      },
      "source": [
        ""
      ],
      "execution_count": 21,
      "outputs": []
    },
    {
      "cell_type": "markdown",
      "metadata": {
        "id": "ijN5gi_Nhh0C",
        "colab_type": "text"
      },
      "source": [
        "---\n",
        "> P-096: 先に作成したカテゴリ名付き商品データを以下の仕様でファイル出力せよ。なお、出力先のパスはdata配下とする。\n",
        ">\n",
        "> - ファイル形式はCSV（カンマ区切り）\n",
        "> - ヘッダ無し\n",
        "> - 文字コードはUTF-8"
      ]
    },
    {
      "cell_type": "code",
      "metadata": {
        "trusted": false,
        "id": "HRMFIbjNhh0C",
        "colab_type": "code",
        "colab": {}
      },
      "source": [
        ""
      ],
      "execution_count": 21,
      "outputs": []
    },
    {
      "cell_type": "markdown",
      "metadata": {
        "id": "EGEj2Gfohh0D",
        "colab_type": "text"
      },
      "source": [
        "---\n",
        "> P-097: 先に作成した以下形式のファイルを読み込み、データフレームを作成せよ。また、先頭10件を表示させ、正しくとりまれていることを確認せよ。\n",
        ">\n",
        "> - ファイル形式はCSV（カンマ区切り）\n",
        "> - ヘッダ有り\n",
        "> - 文字コードはUTF-8"
      ]
    },
    {
      "cell_type": "code",
      "metadata": {
        "trusted": false,
        "id": "elyUH6_2hh0D",
        "colab_type": "code",
        "colab": {}
      },
      "source": [
        ""
      ],
      "execution_count": 21,
      "outputs": []
    },
    {
      "cell_type": "markdown",
      "metadata": {
        "id": "v51_UZ-Ahh0E",
        "colab_type": "text"
      },
      "source": [
        "---\n",
        "> P-098: 先に作成した以下形式のファイルを読み込み、データフレームを作成せよ。また、先頭10件を表示させ、正しくとりまれていることを確認せよ。\n",
        ">\n",
        "> - ファイル形式はCSV（カンマ区切り）\n",
        "> - ヘッダ無し\n",
        "> - 文字コードはUTF-8"
      ]
    },
    {
      "cell_type": "code",
      "metadata": {
        "trusted": false,
        "id": "4YBgcGjuhh0E",
        "colab_type": "code",
        "colab": {}
      },
      "source": [
        ""
      ],
      "execution_count": 21,
      "outputs": []
    },
    {
      "cell_type": "markdown",
      "metadata": {
        "id": "PgrSkEmuhh0F",
        "colab_type": "text"
      },
      "source": [
        "---\n",
        "> P-099: 先に作成したカテゴリ名付き商品データを以下の仕様でファイル出力せよ。なお、出力先のパスはdata配下とする。\n",
        ">\n",
        "> - ファイル形式はTSV（タブ区切り）\n",
        "> - ヘッダ有り\n",
        "> - 文字コードはUTF-8"
      ]
    },
    {
      "cell_type": "code",
      "metadata": {
        "trusted": false,
        "id": "WrdmX0mihh0F",
        "colab_type": "code",
        "colab": {}
      },
      "source": [
        ""
      ],
      "execution_count": 21,
      "outputs": []
    },
    {
      "cell_type": "markdown",
      "metadata": {
        "id": "fRhhcyMuhh0G",
        "colab_type": "text"
      },
      "source": [
        "---\n",
        "> P-100: 先に作成した以下形式のファイルを読み込み、データフレームを作成せよ。また、先頭10件を表示させ、正しくとりまれていることを確認せよ。\n",
        ">\n",
        "> - ファイル形式はTSV（タブ区切り）\n",
        "> - ヘッダ有り\n",
        "> - 文字コードはUTF-8"
      ]
    },
    {
      "cell_type": "code",
      "metadata": {
        "trusted": false,
        "id": "PrE1Dn_7hh0G",
        "colab_type": "code",
        "colab": {}
      },
      "source": [
        ""
      ],
      "execution_count": 21,
      "outputs": []
    },
    {
      "cell_type": "markdown",
      "metadata": {
        "id": "WGSLC2Szhh0H",
        "colab_type": "text"
      },
      "source": [
        "# これで１００本終わりです。おつかれさまでした！"
      ]
    }
  ]
}